{
 "cells": [
  {
   "cell_type": "code",
   "execution_count": 1,
   "metadata": {},
   "outputs": [],
   "source": [
    "import os\n",
    "import json\n",
    "import unicodedata\n",
    "import numpy as np\n",
    "import pandas as pd\n",
    "from sklearn.metrics.pairwise import cosine_similarity\n",
    "import seaborn as sns\n",
    "import plotly.graph_objects as go\n",
    "from scipy import stats\n",
    "import scipy\n",
    "from plotly.colors import qualitative\n",
    "\n",
    "files_path = '../data/'"
   ]
  },
  {
   "cell_type": "code",
   "execution_count": 2,
   "metadata": {},
   "outputs": [],
   "source": [
    "scenarios = [18,22,23,24,38,39,40,41,42]"
   ]
  },
  {
   "cell_type": "code",
   "execution_count": 3,
   "metadata": {},
   "outputs": [],
   "source": [
    "# Define the list of target hashtags we personalized the user with\n",
    "\n",
    "target_hashtags = [\"football\", \"food\", \"championsleague\", \"movie\", \"foodtiktok\", \"gaming\", \"film\", \n",
    "                   \"tiktokfood\", \"gta6\", \"gta\", \"minecraft\", \"marvel\", \"cat\", \"dog\", \"pet\", \n",
    "                   \"dogsoftiktok\", \"catsoftiktok\", \"cute\", \"puppy\", \"dogs\", \"cats\", \"animals\", \n",
    "                   \"petsoftiktok\", \"kitten\", \"comedy\", \"asmr\", \"learnontiktok\", \"satisfying\", \n",
    "                   \"lol\", \"love\", \"humour\", \"couple\", \"foodie\", \"baby\", \"car\", \"cars\", \"jokes\", \n",
    "                   \"lifehack\", \"satisfyingvideo\", \"relationship\", \"cooking\", \"laugh\", \"fun\", \"roblox\"]"
   ]
  },
  {
   "cell_type": "code",
   "execution_count": 4,
   "metadata": {},
   "outputs": [],
   "source": [
    "def clean_text(text):\n",
    "    \"\"\"Ensure text is UTF-8 encoded and strip out non-ASCII characters.\"\"\"\n",
    "    # Normalize text to remove accents and unusual unicode characters\n",
    "    normalized_text = unicodedata.normalize('NFKD', text)\n",
    "    # Encode to ASCII, ignoring characters that cannot be encoded, then decode back to string\n",
    "    return normalized_text.encode('ascii', 'ignore').decode('ascii')\n",
    "\n",
    "def parse_info(video, user_id):\n",
    "    d = {}\n",
    "    d[\"user_id\"] = user_id\n",
    "    \n",
    "    author = video.get(\"author\", {})\n",
    "    stats = video.get(\"stats\", {})\n",
    "    music = video.get(\"music\", {})\n",
    "    video_stats = video.get(\"video\", {})\n",
    "    text_extras = video.get(\"contents\", [{}])[0].get(\"textExtra\", [])\n",
    "    # df[\"author\"] = author\n",
    "    # df[\"stats\"] = stats\n",
    "    # df[\"music\"] = music\n",
    "    # df[\"video_stats\"] = video_stats\n",
    "    # df[\"text_extras\"] = text_extras\n",
    "\n",
    "    # Basic video details\n",
    "    d[\"play_count\"] = stats.get(\"playCount\", 0)\n",
    "    d[\"digg_count\"] = stats.get(\"diggCount\", 0)\n",
    "    d[\"share_count\"] = stats.get(\"shareCount\", 0)\n",
    "    d[\"comment_count\"] = stats.get(\"commentCount\", 0)\n",
    "    d[\"collect_count\"] = stats.get(\"collectCount\", 0)\n",
    "    d[\"repost_count\"] = video.get(\"statsV2\", {}).get(\"repostCount\", 0)\n",
    "    d[\"loudness\"] = video_stats.get(\"volumeInfo\", {}).get(\"Loudness\", \"N/A\")\n",
    "    d[\"duration\"] = video_stats.get(\"duration\", \"N/A\")  # Video duration\n",
    "\n",
    "    # Author details\n",
    "    d[\"author_id\"] = author.get(\"id\", \"Unknown Author\")\n",
    "    d[\"author_name\"] = clean_text(author.get(\"nickname\", \"Unknown Author Name\"))\n",
    "    d[\"author_bio\"] = clean_text(author.get(\"signature\", \"No bio\"))  # Cleaned Author bio\n",
    "    d[\"nickname\"] = author.get(\"uniqueId\", \"Unknown Nickname\")\n",
    "\n",
    "    # Music details\n",
    "    d[\"music_name\"] = clean_text(music.get(\"title\", \"Unknown Music Title\"))\n",
    "    d[\"music_id\"] = music.get(\"id\", \"Unknown Music ID\")\n",
    "    d[\"music_author\"] = clean_text(music.get(\"authorName\", \"Unknown Music Author\"))\n",
    "    d[\"music_album\"] = clean_text(music.get(\"album\", \"Unknown Album\"))  # Cleaned Music album\n",
    "\n",
    "    # Hashtags from textExtra\n",
    "    hashtags = [clean_text(extra.get(\"hashtagName\")) for extra in text_extras if extra.get(\"type\") == 1]\n",
    "    d[\"hashtags\"] = '_'.join(hashtags)\n",
    "\n",
    "    d[\"video_id\"] = video.get(\"id\", \"Unknown ID\")\n",
    "\n",
    "    df = pd.DataFrame([d])\n",
    "    df[\"repost_count\"] = df[\"repost_count\"].astype(int)\n",
    "    return df"
   ]
  },
  {
   "cell_type": "code",
   "execution_count": 5,
   "metadata": {},
   "outputs": [],
   "source": [
    "def load_data_into_df(scenarios: list) -> pd.DataFrame:\n",
    "    df_jsons = []\n",
    "    for user_id in scenarios:\n",
    "        for user_type in ['control', 'experiment']:\n",
    "            user_path = files_path + f'{user_id}/{user_id}-{user_type}/'\n",
    "\n",
    "            for root, dirs, files in os.walk(user_path):\n",
    "                if 'responses' in dirs:\n",
    "                    responses_path = os.path.join(root, 'responses')\n",
    "                    # Only look at files directly in responses folder\n",
    "                    response_files = [f for f in os.listdir(responses_path) \n",
    "                                    if f.endswith('.json') and f != 'config.json']\n",
    "                    for file in response_files:\n",
    "                        file_path = os.path.join(responses_path, file)\n",
    "                        with open(file_path, 'r') as f:\n",
    "                            data = json.load(f)\n",
    "                            for video in data['itemList']:\n",
    "                                df_jsons.append(parse_info(video, str(user_id) + '-' + user_type))\n",
    "\n",
    "    data_combined = pd.concat(df_jsons, ignore_index=True)\n",
    "    data_combined['run_number'] = data_combined.groupby('user_id').cumcount() + 1\n",
    "\n",
    "    return data_combined"
   ]
  },
  {
   "cell_type": "code",
   "execution_count": 6,
   "metadata": {},
   "outputs": [
    {
     "data": {
      "text/html": [
       "<div>\n",
       "<style scoped>\n",
       "    .dataframe tbody tr th:only-of-type {\n",
       "        vertical-align: middle;\n",
       "    }\n",
       "\n",
       "    .dataframe tbody tr th {\n",
       "        vertical-align: top;\n",
       "    }\n",
       "\n",
       "    .dataframe thead th {\n",
       "        text-align: right;\n",
       "    }\n",
       "</style>\n",
       "<table border=\"1\" class=\"dataframe\">\n",
       "  <thead>\n",
       "    <tr style=\"text-align: right;\">\n",
       "      <th></th>\n",
       "      <th>user_id</th>\n",
       "      <th>play_count</th>\n",
       "      <th>digg_count</th>\n",
       "      <th>share_count</th>\n",
       "      <th>comment_count</th>\n",
       "      <th>collect_count</th>\n",
       "      <th>repost_count</th>\n",
       "      <th>loudness</th>\n",
       "      <th>duration</th>\n",
       "      <th>author_id</th>\n",
       "      <th>author_name</th>\n",
       "      <th>author_bio</th>\n",
       "      <th>nickname</th>\n",
       "      <th>music_name</th>\n",
       "      <th>music_id</th>\n",
       "      <th>music_author</th>\n",
       "      <th>music_album</th>\n",
       "      <th>hashtags</th>\n",
       "      <th>video_id</th>\n",
       "      <th>run_number</th>\n",
       "    </tr>\n",
       "  </thead>\n",
       "  <tbody>\n",
       "    <tr>\n",
       "      <th>0</th>\n",
       "      <td>18-control</td>\n",
       "      <td>47400000</td>\n",
       "      <td>3000000</td>\n",
       "      <td>25600</td>\n",
       "      <td>31900</td>\n",
       "      <td>75200</td>\n",
       "      <td>0</td>\n",
       "      <td>-20.6</td>\n",
       "      <td>268</td>\n",
       "      <td>6980785150019781637</td>\n",
       "      <td>SB Mowing</td>\n",
       "      <td>Please keep up with me on Snapchat or YouTube ...</td>\n",
       "      <td>sbmowing</td>\n",
       "      <td>original sound - SB Mowing</td>\n",
       "      <td>7463305390462094126</td>\n",
       "      <td>SB Mowing</td>\n",
       "      <td>Unknown Album</td>\n",
       "      <td></td>\n",
       "      <td>7463304946616651050</td>\n",
       "      <td>1</td>\n",
       "    </tr>\n",
       "    <tr>\n",
       "      <th>1</th>\n",
       "      <td>18-control</td>\n",
       "      <td>6600000</td>\n",
       "      <td>1400000</td>\n",
       "      <td>78100</td>\n",
       "      <td>1928</td>\n",
       "      <td>146500</td>\n",
       "      <td>0</td>\n",
       "      <td>-14</td>\n",
       "      <td>71</td>\n",
       "      <td>7329520300319540257</td>\n",
       "      <td>Scare Prank USA</td>\n",
       "      <td>ueafollow me uea</td>\n",
       "      <td>scareprankusa54</td>\n",
       "      <td>original sound</td>\n",
       "      <td>7458665057581288214</td>\n",
       "      <td>Scare Prank USA</td>\n",
       "      <td>Unknown Album</td>\n",
       "      <td>scarecam_scareprank_funnyprank_scaring_jumpy_v...</td>\n",
       "      <td>7458665050828492054</td>\n",
       "      <td>2</td>\n",
       "    </tr>\n",
       "    <tr>\n",
       "      <th>2</th>\n",
       "      <td>18-control</td>\n",
       "      <td>4900000</td>\n",
       "      <td>324700</td>\n",
       "      <td>967</td>\n",
       "      <td>260</td>\n",
       "      <td>20200</td>\n",
       "      <td>0</td>\n",
       "      <td>-23.9</td>\n",
       "      <td>119</td>\n",
       "      <td>7425531431735985198</td>\n",
       "      <td>user7291424162817</td>\n",
       "      <td></td>\n",
       "      <td>user7291424162817</td>\n",
       "      <td>original sound</td>\n",
       "      <td>7451878052642016031</td>\n",
       "      <td>user7291424162817</td>\n",
       "      <td>Unknown Album</td>\n",
       "      <td>movie_tiktokmovies_movieclips_clip_movieshowsc...</td>\n",
       "      <td>7451878163384110366</td>\n",
       "      <td>3</td>\n",
       "    </tr>\n",
       "    <tr>\n",
       "      <th>3</th>\n",
       "      <td>18-control</td>\n",
       "      <td>584300</td>\n",
       "      <td>25700</td>\n",
       "      <td>155</td>\n",
       "      <td>201</td>\n",
       "      <td>2923</td>\n",
       "      <td>0</td>\n",
       "      <td>-8.7</td>\n",
       "      <td>131</td>\n",
       "      <td>7319790687351882795</td>\n",
       "      <td>Jay rose</td>\n",
       "      <td></td>\n",
       "      <td>jayrose044</td>\n",
       "      <td>AeuEA</td>\n",
       "      <td>7433574331416529706</td>\n",
       "      <td>Jay rose</td>\n",
       "      <td>Unknown Album</td>\n",
       "      <td>satisfyin_fyp_storytime_foryou_viral_tiktok_tr...</td>\n",
       "      <td>7433574400735104302</td>\n",
       "      <td>4</td>\n",
       "    </tr>\n",
       "    <tr>\n",
       "      <th>4</th>\n",
       "      <td>18-control</td>\n",
       "      <td>2300000</td>\n",
       "      <td>258600</td>\n",
       "      <td>4980</td>\n",
       "      <td>1021</td>\n",
       "      <td>30800</td>\n",
       "      <td>0</td>\n",
       "      <td>-11.9</td>\n",
       "      <td>83</td>\n",
       "      <td>6982084681585394693</td>\n",
       "      <td>UniversalCore</td>\n",
       "      <td>(ua Mental health matters ua)           \\nTrus...</td>\n",
       "      <td>universalcore____</td>\n",
       "      <td>Closer</td>\n",
       "      <td>7309864547584968706</td>\n",
       "      <td>Nuages</td>\n",
       "      <td>Closer</td>\n",
       "      <td>corecore_sadcore_hopecore_coretok_core_mentalh...</td>\n",
       "      <td>7443535065801379115</td>\n",
       "      <td>5</td>\n",
       "    </tr>\n",
       "    <tr>\n",
       "      <th>...</th>\n",
       "      <td>...</td>\n",
       "      <td>...</td>\n",
       "      <td>...</td>\n",
       "      <td>...</td>\n",
       "      <td>...</td>\n",
       "      <td>...</td>\n",
       "      <td>...</td>\n",
       "      <td>...</td>\n",
       "      <td>...</td>\n",
       "      <td>...</td>\n",
       "      <td>...</td>\n",
       "      <td>...</td>\n",
       "      <td>...</td>\n",
       "      <td>...</td>\n",
       "      <td>...</td>\n",
       "      <td>...</td>\n",
       "      <td>...</td>\n",
       "      <td>...</td>\n",
       "      <td>...</td>\n",
       "      <td>...</td>\n",
       "    </tr>\n",
       "    <tr>\n",
       "      <th>18877</th>\n",
       "      <td>42-experiment</td>\n",
       "      <td>1900000</td>\n",
       "      <td>377000</td>\n",
       "      <td>9905</td>\n",
       "      <td>2172</td>\n",
       "      <td>54100</td>\n",
       "      <td>0</td>\n",
       "      <td>-21.8</td>\n",
       "      <td>132</td>\n",
       "      <td>6676293103072658437</td>\n",
       "      <td>Brady LXIX</td>\n",
       "      <td>IG/FB:BRADYLXIX \\nother account:bradylxix2\\nME...</td>\n",
       "      <td>bradylxix</td>\n",
       "      <td>original sound</td>\n",
       "      <td>7461417766466243370</td>\n",
       "      <td>Brady LXIX</td>\n",
       "      <td>Unknown Album</td>\n",
       "      <td>bradylxix</td>\n",
       "      <td>7461417768965950763</td>\n",
       "      <td>1066</td>\n",
       "    </tr>\n",
       "    <tr>\n",
       "      <th>18878</th>\n",
       "      <td>42-experiment</td>\n",
       "      <td>1200000</td>\n",
       "      <td>80300</td>\n",
       "      <td>2216</td>\n",
       "      <td>673</td>\n",
       "      <td>33100</td>\n",
       "      <td>0</td>\n",
       "      <td>-13.8</td>\n",
       "      <td>35</td>\n",
       "      <td>6793632786105713666</td>\n",
       "      <td>CAPCUT TEMPLATE TRENDS</td>\n",
       "      <td>uiMUSIC PROMOTION DMui\\n\\nCREDITS TO THE OWNER...</td>\n",
       "      <td>capcut_templatetrends</td>\n",
       "      <td>AURA</td>\n",
       "      <td>7387573619378046993</td>\n",
       "      <td>Ogryzek</td>\n",
       "      <td>AURA</td>\n",
       "      <td>capcut_capcutpioneer_capcut_edit_fyp_trend_for...</td>\n",
       "      <td>7447105323816602898</td>\n",
       "      <td>1067</td>\n",
       "    </tr>\n",
       "    <tr>\n",
       "      <th>18879</th>\n",
       "      <td>42-experiment</td>\n",
       "      <td>3800000</td>\n",
       "      <td>493000</td>\n",
       "      <td>13500</td>\n",
       "      <td>3063</td>\n",
       "      <td>104800</td>\n",
       "      <td>0</td>\n",
       "      <td>-6.7</td>\n",
       "      <td>62</td>\n",
       "      <td>7250349443498066990</td>\n",
       "      <td>vidz</td>\n",
       "      <td>Trying to influence a bigger audience uoOe\\nI ...</td>\n",
       "      <td>vidztoker</td>\n",
       "      <td>original sound</td>\n",
       "      <td>7451284899840953130</td>\n",
       "      <td>vidz</td>\n",
       "      <td>Unknown Album</td>\n",
       "      <td>foryou_fyp_edit</td>\n",
       "      <td>7451284883516771630</td>\n",
       "      <td>1068</td>\n",
       "    </tr>\n",
       "    <tr>\n",
       "      <th>18880</th>\n",
       "      <td>42-experiment</td>\n",
       "      <td>1500000</td>\n",
       "      <td>94100</td>\n",
       "      <td>10100</td>\n",
       "      <td>14000</td>\n",
       "      <td>16400</td>\n",
       "      <td>0</td>\n",
       "      <td>-9.3</td>\n",
       "      <td>61</td>\n",
       "      <td>6936022572887360517</td>\n",
       "      <td>hydgjgf</td>\n",
       "      <td></td>\n",
       "      <td>hydgjgf</td>\n",
       "      <td>original sound</td>\n",
       "      <td>7445855150561905414</td>\n",
       "      <td>hydgjgf</td>\n",
       "      <td>Unknown Album</td>\n",
       "      <td>fyp_fypC_story_satisfyingvideo_comedyvideo_mar...</td>\n",
       "      <td>7445855110065818885</td>\n",
       "      <td>1069</td>\n",
       "    </tr>\n",
       "    <tr>\n",
       "      <th>18881</th>\n",
       "      <td>42-experiment</td>\n",
       "      <td>1900000</td>\n",
       "      <td>161100</td>\n",
       "      <td>22100</td>\n",
       "      <td>532</td>\n",
       "      <td>23900</td>\n",
       "      <td>0</td>\n",
       "      <td>-21</td>\n",
       "      <td>63</td>\n",
       "      <td>7412570664597783594</td>\n",
       "      <td>petlovers024</td>\n",
       "      <td>Total hilarious pranks</td>\n",
       "      <td>petlovers024</td>\n",
       "      <td>original sound</td>\n",
       "      <td>7451208725953661738</td>\n",
       "      <td>petlovers024</td>\n",
       "      <td>Unknown Album</td>\n",
       "      <td>funnyvideo_funnymoments_pet_cat_catsoftiktok_f...</td>\n",
       "      <td>7451208800062868782</td>\n",
       "      <td>1070</td>\n",
       "    </tr>\n",
       "  </tbody>\n",
       "</table>\n",
       "<p>18882 rows × 20 columns</p>\n",
       "</div>"
      ],
      "text/plain": [
       "             user_id  play_count  digg_count  share_count  comment_count  \\\n",
       "0         18-control    47400000     3000000        25600          31900   \n",
       "1         18-control     6600000     1400000        78100           1928   \n",
       "2         18-control     4900000      324700          967            260   \n",
       "3         18-control      584300       25700          155            201   \n",
       "4         18-control     2300000      258600         4980           1021   \n",
       "...              ...         ...         ...          ...            ...   \n",
       "18877  42-experiment     1900000      377000         9905           2172   \n",
       "18878  42-experiment     1200000       80300         2216            673   \n",
       "18879  42-experiment     3800000      493000        13500           3063   \n",
       "18880  42-experiment     1500000       94100        10100          14000   \n",
       "18881  42-experiment     1900000      161100        22100            532   \n",
       "\n",
       "       collect_count  repost_count loudness duration            author_id  \\\n",
       "0              75200             0    -20.6      268  6980785150019781637   \n",
       "1             146500             0      -14       71  7329520300319540257   \n",
       "2              20200             0    -23.9      119  7425531431735985198   \n",
       "3               2923             0     -8.7      131  7319790687351882795   \n",
       "4              30800             0    -11.9       83  6982084681585394693   \n",
       "...              ...           ...      ...      ...                  ...   \n",
       "18877          54100             0    -21.8      132  6676293103072658437   \n",
       "18878          33100             0    -13.8       35  6793632786105713666   \n",
       "18879         104800             0     -6.7       62  7250349443498066990   \n",
       "18880          16400             0     -9.3       61  6936022572887360517   \n",
       "18881          23900             0      -21       63  7412570664597783594   \n",
       "\n",
       "                  author_name  \\\n",
       "0                   SB Mowing   \n",
       "1             Scare Prank USA   \n",
       "2           user7291424162817   \n",
       "3                    Jay rose   \n",
       "4               UniversalCore   \n",
       "...                       ...   \n",
       "18877              Brady LXIX   \n",
       "18878  CAPCUT TEMPLATE TRENDS   \n",
       "18879                    vidz   \n",
       "18880                 hydgjgf   \n",
       "18881            petlovers024   \n",
       "\n",
       "                                              author_bio  \\\n",
       "0      Please keep up with me on Snapchat or YouTube ...   \n",
       "1                                       ueafollow me uea   \n",
       "2                                                          \n",
       "3                                                          \n",
       "4      (ua Mental health matters ua)           \\nTrus...   \n",
       "...                                                  ...   \n",
       "18877  IG/FB:BRADYLXIX \\nother account:bradylxix2\\nME...   \n",
       "18878  uiMUSIC PROMOTION DMui\\n\\nCREDITS TO THE OWNER...   \n",
       "18879  Trying to influence a bigger audience uoOe\\nI ...   \n",
       "18880                                                      \n",
       "18881                             Total hilarious pranks   \n",
       "\n",
       "                    nickname                  music_name             music_id  \\\n",
       "0                   sbmowing  original sound - SB Mowing  7463305390462094126   \n",
       "1            scareprankusa54              original sound  7458665057581288214   \n",
       "2          user7291424162817              original sound  7451878052642016031   \n",
       "3                 jayrose044                       AeuEA  7433574331416529706   \n",
       "4          universalcore____                      Closer  7309864547584968706   \n",
       "...                      ...                         ...                  ...   \n",
       "18877              bradylxix              original sound  7461417766466243370   \n",
       "18878  capcut_templatetrends                        AURA  7387573619378046993   \n",
       "18879              vidztoker              original sound  7451284899840953130   \n",
       "18880                hydgjgf              original sound  7445855150561905414   \n",
       "18881           petlovers024              original sound  7451208725953661738   \n",
       "\n",
       "            music_author    music_album  \\\n",
       "0              SB Mowing  Unknown Album   \n",
       "1        Scare Prank USA  Unknown Album   \n",
       "2      user7291424162817  Unknown Album   \n",
       "3               Jay rose  Unknown Album   \n",
       "4                 Nuages         Closer   \n",
       "...                  ...            ...   \n",
       "18877         Brady LXIX  Unknown Album   \n",
       "18878            Ogryzek           AURA   \n",
       "18879               vidz  Unknown Album   \n",
       "18880            hydgjgf  Unknown Album   \n",
       "18881       petlovers024  Unknown Album   \n",
       "\n",
       "                                                hashtags             video_id  \\\n",
       "0                                                         7463304946616651050   \n",
       "1      scarecam_scareprank_funnyprank_scaring_jumpy_v...  7458665050828492054   \n",
       "2      movie_tiktokmovies_movieclips_clip_movieshowsc...  7451878163384110366   \n",
       "3      satisfyin_fyp_storytime_foryou_viral_tiktok_tr...  7433574400735104302   \n",
       "4      corecore_sadcore_hopecore_coretok_core_mentalh...  7443535065801379115   \n",
       "...                                                  ...                  ...   \n",
       "18877                                          bradylxix  7461417768965950763   \n",
       "18878  capcut_capcutpioneer_capcut_edit_fyp_trend_for...  7447105323816602898   \n",
       "18879                                    foryou_fyp_edit  7451284883516771630   \n",
       "18880  fyp_fypC_story_satisfyingvideo_comedyvideo_mar...  7445855110065818885   \n",
       "18881  funnyvideo_funnymoments_pet_cat_catsoftiktok_f...  7451208800062868782   \n",
       "\n",
       "       run_number  \n",
       "0               1  \n",
       "1               2  \n",
       "2               3  \n",
       "3               4  \n",
       "4               5  \n",
       "...           ...  \n",
       "18877        1066  \n",
       "18878        1067  \n",
       "18879        1068  \n",
       "18880        1069  \n",
       "18881        1070  \n",
       "\n",
       "[18882 rows x 20 columns]"
      ]
     },
     "execution_count": 6,
     "metadata": {},
     "output_type": "execute_result"
    }
   ],
   "source": [
    "data_combined = load_data_into_df(scenarios)\n",
    "data_combined"
   ]
  },
  {
   "cell_type": "markdown",
   "metadata": {},
   "source": [
    "```\n",
    "analyze_hashtags_for_scenario\n",
    "```\n",
    "\n",
    "1. Separating experiment/control groups based on `user_id` patterns\n",
    "2. Aligning video observation counts between groups\n",
    "3. Counting occurrences of specified `target_hashtags` in both groups\n",
    "4. Preparing time-series data for comparing hashtag adoption trends\n"
   ]
  },
  {
   "cell_type": "code",
   "execution_count": 7,
   "metadata": {},
   "outputs": [],
   "source": [
    "def analyze_hashtags_for_scenario(data_combined, target_hashtags, scenario, group_type='both'):\n",
    "    \"\"\"\n",
    "    group_type: 'both', 'control', or 'experiment'\n",
    "    \"\"\"\n",
    "    # Create a timeline analysis for selected groups\n",
    "    experiment_data = None\n",
    "    control_data = None\n",
    "    max_videos = None\n",
    "    \n",
    "    if group_type in ['both', 'experiment']:\n",
    "        experiment_data = data_combined[data_combined['user_id'].str.contains(f'{scenario}-experiment')]\n",
    "        experiment_data = experiment_data.sort_values('run_number')\n",
    "        \n",
    "    if group_type in ['both', 'control']:    \n",
    "        control_data = data_combined[data_combined['user_id'].str.contains(f'{scenario}-control')]\n",
    "        control_data = control_data.sort_values('run_number')\n",
    "\n",
    "    # Find the minimum number of videos between selected groups\n",
    "    if group_type == 'both':\n",
    "        max_videos = min(experiment_data['run_number'].max(), control_data['run_number'].max())\n",
    "        experiment_data = experiment_data[experiment_data['run_number'] <= max_videos]\n",
    "        control_data = control_data[control_data['run_number'] <= max_videos]\n",
    "    elif group_type == 'experiment':\n",
    "        max_videos = experiment_data['run_number'].max()\n",
    "    elif group_type == 'control':\n",
    "        max_videos = control_data['run_number'].max()\n",
    "\n",
    "    # Calculate presence of target hashtags over time for selected groups\n",
    "    def count_target_hashtags(hashtags):\n",
    "        if not hashtags:\n",
    "            return 0\n",
    "        hashtag_list = hashtags.split('_')\n",
    "        count = 0\n",
    "        for target in target_hashtags:\n",
    "            count += sum(1 for hashtag in hashtag_list if target in hashtag)\n",
    "        return count\n",
    "\n",
    "    if experiment_data is not None:\n",
    "        experiment_data['target_hashtag_count'] = experiment_data['hashtags'].apply(count_target_hashtags)\n",
    "    if control_data is not None:\n",
    "        control_data['target_hashtag_count'] = control_data['hashtags'].apply(count_target_hashtags)\n",
    "\n",
    "    return experiment_data, control_data, max_videos"
   ]
  },
  {
   "cell_type": "markdown",
   "metadata": {},
   "source": [
    "```\n",
    "plot_hashtag_trends\n",
    "```\n",
    "\n",
    "1. Creating rolling averages using video buckets (default 250 videos/bucket)\n",
    "2. Calculating **Spearman correlation** (ρ) and p-values for trend significance\n",
    "3. Generating interactive plots comparing experimental/control groups\n",
    "4. Showing overall averages and bucket-to-bucket changes\n"
   ]
  },
  {
   "cell_type": "code",
   "execution_count": 8,
   "metadata": {},
   "outputs": [],
   "source": [
    "def plot_hashtag_trends(scenarios_data, target_hashtags, group_type='both', \n",
    "                       exp_legend_name=\"Experimental\", ctrl_legend_name=\"Control\"):\n",
    "    use_buckets = True\n",
    "    bucket_size = 250  # Size of buckets for averaging\n",
    "\n",
    "    # Color schemes\n",
    "    exp_colors = ['rgb(31, 119, 180)', 'rgb(44, 160, 44)', 'rgb(214, 39, 40)', \n",
    "                  'rgb(148, 103, 189)', 'rgb(140, 86, 75)']\n",
    "    ctrl_colors = ['rgb(255, 127, 14)', 'rgb(227, 119, 194)', 'rgb(127, 127, 127)', \n",
    "                  'rgb(188, 189, 34)', 'rgb(23, 190, 207)']\n",
    "\n",
    "    if use_buckets:\n",
    "        # Bucket averages across all scenarios\n",
    "        fig2 = go.Figure()\n",
    "\n",
    "        all_exp_means = []\n",
    "        all_ctrl_means = []\n",
    "        all_exp_first_bucket = []\n",
    "        all_exp_last_bucket = []\n",
    "        all_ctrl_first_bucket = []\n",
    "        all_ctrl_last_bucket = []\n",
    "\n",
    "        for idx, (scenario, (exp_data, ctrl_data, _)) in enumerate(scenarios_data.items()):\n",
    "            if group_type in ['both', 'experiment'] and exp_data is not None:\n",
    "                exp_bucket_means = []\n",
    "                for i in range(0, len(exp_data), bucket_size):\n",
    "                    bucket = exp_data.iloc[i:i+bucket_size]\n",
    "                    if len(bucket) >= bucket_size * 0.75:\n",
    "                        bucket_mean = bucket['target_hashtag_count'].mean()\n",
    "                        exp_bucket_means.append({\n",
    "                            'mean': bucket_mean,\n",
    "                            'run': (i + bucket_size)  # Use end of bucket as x-coordinate\n",
    "                        })\n",
    "                        all_exp_means.append(bucket_mean)\n",
    "                        \n",
    "                        if i == 0:\n",
    "                            all_exp_first_bucket.append(bucket_mean)\n",
    "                        if i + bucket_size >= len(exp_data) - bucket_size:\n",
    "                            all_exp_last_bucket.append(bucket_mean)\n",
    "\n",
    "                        print(f\"\\n{exp_legend_name} Group Scenario {scenario} Bucket {i//bucket_size + 1}:\")\n",
    "                        print(f\"Average: {bucket_mean:.2f}\")\n",
    "\n",
    "                if exp_bucket_means:\n",
    "                    exp_buckets_df = pd.DataFrame(exp_bucket_means)\n",
    "                    \n",
    "                    # Calculate trend line with Spearman correlation\n",
    "                    rho, p_value = stats.spearmanr(exp_buckets_df['run'], exp_buckets_df['mean'])\n",
    "                    \n",
    "                    # Calculate trend line points using linear regression for visualization\n",
    "                    slope, intercept = np.polyfit(exp_buckets_df['run'], exp_buckets_df['mean'], 1)\n",
    "                    x_range = np.array([exp_buckets_df['run'].min(), exp_buckets_df['run'].max()])\n",
    "                    trend_y = slope * x_range + intercept\n",
    "                    \n",
    "                    # Add scatter plot\n",
    "                    fig2.add_trace(go.Scatter(\n",
    "                        x=exp_buckets_df['run'],\n",
    "                        y=exp_buckets_df['mean'],\n",
    "                        mode='lines+markers',\n",
    "                        line=dict(color=exp_colors[idx % len(exp_colors)], width=2),\n",
    "                        name=f'{exp_legend_name} {scenario}'\n",
    "                    ))\n",
    "                    \n",
    "                    # Add trend line with Spearman correlation in name\n",
    "                    fig2.add_trace(go.Scatter(\n",
    "                        x=x_range,\n",
    "                        y=trend_y,\n",
    "                        mode='lines',\n",
    "                        line=dict(color=exp_colors[idx % len(exp_colors)], width=1, dash='dash'),\n",
    "                        name=f'{exp_legend_name} {scenario} trend (ρ={rho:.4f}, p={p_value:.3f})'\n",
    "                    ))\n",
    "\n",
    "            if group_type in ['both', 'control'] and ctrl_data is not None:\n",
    "                ctrl_bucket_means = []\n",
    "                for i in range(0, len(ctrl_data), bucket_size):\n",
    "                    bucket = ctrl_data.iloc[i:i+bucket_size]\n",
    "                    if len(bucket) >= bucket_size * 0.75:\n",
    "                        bucket_mean = bucket['target_hashtag_count'].mean()\n",
    "                        ctrl_bucket_means.append({\n",
    "                            'mean': bucket_mean,\n",
    "                            'run': (i + bucket_size)  # Use end of bucket as x-coordinate\n",
    "                        })\n",
    "                        all_ctrl_means.append(bucket_mean)\n",
    "                        \n",
    "                        if i == 0:\n",
    "                            all_ctrl_first_bucket.append(bucket_mean)\n",
    "                        if i + bucket_size >= len(ctrl_data) - bucket_size:\n",
    "                            all_ctrl_last_bucket.append(bucket_mean)\n",
    "\n",
    "                        print(f\"\\n{ctrl_legend_name} Group Scenario {scenario} Bucket {i//bucket_size + 1}:\")\n",
    "                        print(f\"Average: {bucket_mean:.2f}\")\n",
    "\n",
    "                if ctrl_bucket_means:\n",
    "                    ctrl_buckets_df = pd.DataFrame(ctrl_bucket_means)\n",
    "                    \n",
    "                    # Calculate trend line with Spearman correlation\n",
    "                    rho, p_value = stats.spearmanr(ctrl_buckets_df['run'], ctrl_buckets_df['mean'])\n",
    "                    \n",
    "                    # Calculate trend line points using linear regression for visualization\n",
    "                    slope, intercept = np.polyfit(ctrl_buckets_df['run'], ctrl_buckets_df['mean'], 1)\n",
    "                    x_range = np.array([ctrl_buckets_df['run'].min(), ctrl_buckets_df['run'].max()])\n",
    "                    trend_y = slope * x_range + intercept\n",
    "                    \n",
    "                    # Add scatter plot\n",
    "                    fig2.add_trace(go.Scatter(\n",
    "                        x=ctrl_buckets_df['run'],\n",
    "                        y=ctrl_buckets_df['mean'],\n",
    "                        mode='lines+markers',\n",
    "                        line=dict(color=ctrl_colors[idx % len(ctrl_colors)], width=2),\n",
    "                        name=f'{ctrl_legend_name} {scenario}'\n",
    "                    ))\n",
    "                    \n",
    "                    # Add trend line with Spearman correlation in name\n",
    "                    fig2.add_trace(go.Scatter(\n",
    "                        x=x_range,\n",
    "                        y=trend_y,\n",
    "                        mode='lines',\n",
    "                        line=dict(color=ctrl_colors[idx % len(ctrl_colors)], width=1, dash='dash'),\n",
    "                        name=f'{ctrl_legend_name} {scenario} trend (ρ={rho:.4f}, p={p_value:.3f})'\n",
    "                    ))\n",
    "\n",
    "        fig2.update_layout(\n",
    "            title=f'Likes hashtags - Average Target Hashtags per {bucket_size}-Video Bucket',\n",
    "            xaxis_title='Average Run Number in Bucket',\n",
    "            yaxis_title='Average Number of Target Hashtags',\n",
    "            showlegend=True,\n",
    "            template='plotly_white'\n",
    "        )\n",
    "        \n",
    "        fig2.show()\n",
    "\n",
    "        # Print statistics\n",
    "        print(\"\\nOverall Averages Across All Scenarios:\")\n",
    "        if group_type in ['both', 'experiment'] and all_exp_means:\n",
    "            print(f\"Overall {exp_legend_name} group average: {sum(all_exp_means)/len(all_exp_means):.2f}\")\n",
    "        if group_type in ['both', 'control'] and all_ctrl_means:\n",
    "            print(f\"Overall {ctrl_legend_name} group average: {sum(all_ctrl_means)/len(all_ctrl_means):.2f}\")\n",
    "        \n",
    "        print(\"\\nFirst Bucket Averages Across All Scenarios:\")\n",
    "        if group_type in ['both', 'experiment'] and all_exp_first_bucket:\n",
    "            print(f\"{exp_legend_name} group first bucket average: {sum(all_exp_first_bucket)/len(all_exp_first_bucket):.2f}\")\n",
    "        if group_type in ['both', 'control'] and all_ctrl_first_bucket:\n",
    "            print(f\"{ctrl_legend_name} group first bucket average: {sum(all_ctrl_first_bucket)/len(all_ctrl_first_bucket):.2f}\")\n",
    "        \n",
    "        print(\"\\nLast Bucket Averages Across All Scenarios:\")\n",
    "        if group_type in ['both', 'experiment'] and all_exp_last_bucket:\n",
    "            print(f\"{exp_legend_name} group last bucket average: {sum(all_exp_last_bucket)/len(all_exp_last_bucket):.2f}\")\n",
    "        if group_type in ['both', 'control'] and all_ctrl_last_bucket:\n",
    "            print(f\"{ctrl_legend_name} group last bucket average: {sum(all_ctrl_last_bucket)/len(all_ctrl_last_bucket):.2f}\")\n"
   ]
  },
  {
   "cell_type": "code",
   "execution_count": 9,
   "metadata": {},
   "outputs": [
    {
     "name": "stdout",
     "output_type": "stream",
     "text": [
      "\n",
      "Experimental Group Scenario 18 Bucket 1:\n",
      "Average: 1.66\n",
      "\n",
      "Experimental Group Scenario 18 Bucket 2:\n",
      "Average: 1.09\n",
      "\n",
      "Experimental Group Scenario 18 Bucket 3:\n",
      "Average: 0.56\n",
      "\n",
      "Experimental Group Scenario 18 Bucket 4:\n",
      "Average: 0.62\n",
      "\n",
      "Control Group Scenario 18 Bucket 1:\n",
      "Average: 1.02\n",
      "\n",
      "Control Group Scenario 18 Bucket 2:\n",
      "Average: 1.65\n",
      "\n",
      "Control Group Scenario 18 Bucket 3:\n",
      "Average: 1.18\n",
      "\n",
      "Control Group Scenario 18 Bucket 4:\n",
      "Average: 1.43\n",
      "\n",
      "Experimental Group Scenario 22 Bucket 1:\n",
      "Average: 1.01\n",
      "\n",
      "Experimental Group Scenario 22 Bucket 2:\n",
      "Average: 1.33\n",
      "\n",
      "Experimental Group Scenario 22 Bucket 3:\n",
      "Average: 1.84\n",
      "\n",
      "Control Group Scenario 22 Bucket 1:\n",
      "Average: 0.99\n",
      "\n",
      "Control Group Scenario 22 Bucket 2:\n",
      "Average: 0.92\n",
      "\n",
      "Control Group Scenario 22 Bucket 3:\n",
      "Average: 0.94\n"
     ]
    },
    {
     "data": {
      "application/vnd.plotly.v1+json": {
       "config": {
        "plotlyServerURL": "https://plot.ly"
       },
       "data": [
        {
         "line": {
          "color": "rgb(31, 119, 180)",
          "width": 2
         },
         "mode": "lines+markers",
         "name": "Experimental 18",
         "type": "scatter",
         "x": [
          250,
          500,
          750,
          1000
         ],
         "y": [
          1.66,
          1.088,
          0.556,
          0.624
         ]
        },
        {
         "line": {
          "color": "rgb(31, 119, 180)",
          "dash": "dash",
          "width": 1
         },
         "mode": "lines",
         "name": "Experimental 18 trend (ρ=-0.8000, p=0.200)",
         "type": "scatter",
         "x": [
          250,
          1000
         ],
         "y": [
          1.5279999999999994,
          0.4359999999999995
         ]
        },
        {
         "line": {
          "color": "rgb(255, 127, 14)",
          "width": 2
         },
         "mode": "lines+markers",
         "name": "Control 18",
         "type": "scatter",
         "x": [
          250,
          500,
          750,
          1000
         ],
         "y": [
          1.02,
          1.648,
          1.18,
          1.432
         ]
        },
        {
         "line": {
          "color": "rgb(255, 127, 14)",
          "dash": "dash",
          "width": 1
         },
         "mode": "lines",
         "name": "Control 18 trend (ρ=0.4000, p=0.600)",
         "type": "scatter",
         "x": [
          250,
          1000
         ],
         "y": [
          1.2047999999999994,
          1.4351999999999996
         ]
        },
        {
         "line": {
          "color": "rgb(44, 160, 44)",
          "width": 2
         },
         "mode": "lines+markers",
         "name": "Experimental 22",
         "type": "scatter",
         "x": [
          250,
          500,
          750
         ],
         "y": [
          1.012,
          1.332,
          1.84
         ]
        },
        {
         "line": {
          "color": "rgb(44, 160, 44)",
          "dash": "dash",
          "width": 1
         },
         "mode": "lines",
         "name": "Experimental 22 trend (ρ=1.0000, p=0.000)",
         "type": "scatter",
         "x": [
          250,
          750
         ],
         "y": [
          0.9806666666666668,
          1.8086666666666669
         ]
        },
        {
         "line": {
          "color": "rgb(227, 119, 194)",
          "width": 2
         },
         "mode": "lines+markers",
         "name": "Control 22",
         "type": "scatter",
         "x": [
          250,
          500,
          750
         ],
         "y": [
          0.988,
          0.924,
          0.944
         ]
        },
        {
         "line": {
          "color": "rgb(227, 119, 194)",
          "dash": "dash",
          "width": 1
         },
         "mode": "lines",
         "name": "Control 22 trend (ρ=-0.5000, p=0.667)",
         "type": "scatter",
         "x": [
          250,
          750
         ],
         "y": [
          0.9740000000000003,
          0.9299999999999999
         ]
        }
       ],
       "layout": {
        "showlegend": true,
        "template": {
         "data": {
          "bar": [
           {
            "error_x": {
             "color": "#2a3f5f"
            },
            "error_y": {
             "color": "#2a3f5f"
            },
            "marker": {
             "line": {
              "color": "white",
              "width": 0.5
             },
             "pattern": {
              "fillmode": "overlay",
              "size": 10,
              "solidity": 0.2
             }
            },
            "type": "bar"
           }
          ],
          "barpolar": [
           {
            "marker": {
             "line": {
              "color": "white",
              "width": 0.5
             },
             "pattern": {
              "fillmode": "overlay",
              "size": 10,
              "solidity": 0.2
             }
            },
            "type": "barpolar"
           }
          ],
          "carpet": [
           {
            "aaxis": {
             "endlinecolor": "#2a3f5f",
             "gridcolor": "#C8D4E3",
             "linecolor": "#C8D4E3",
             "minorgridcolor": "#C8D4E3",
             "startlinecolor": "#2a3f5f"
            },
            "baxis": {
             "endlinecolor": "#2a3f5f",
             "gridcolor": "#C8D4E3",
             "linecolor": "#C8D4E3",
             "minorgridcolor": "#C8D4E3",
             "startlinecolor": "#2a3f5f"
            },
            "type": "carpet"
           }
          ],
          "choropleth": [
           {
            "colorbar": {
             "outlinewidth": 0,
             "ticks": ""
            },
            "type": "choropleth"
           }
          ],
          "contour": [
           {
            "colorbar": {
             "outlinewidth": 0,
             "ticks": ""
            },
            "colorscale": [
             [
              0,
              "#0d0887"
             ],
             [
              0.1111111111111111,
              "#46039f"
             ],
             [
              0.2222222222222222,
              "#7201a8"
             ],
             [
              0.3333333333333333,
              "#9c179e"
             ],
             [
              0.4444444444444444,
              "#bd3786"
             ],
             [
              0.5555555555555556,
              "#d8576b"
             ],
             [
              0.6666666666666666,
              "#ed7953"
             ],
             [
              0.7777777777777778,
              "#fb9f3a"
             ],
             [
              0.8888888888888888,
              "#fdca26"
             ],
             [
              1,
              "#f0f921"
             ]
            ],
            "type": "contour"
           }
          ],
          "contourcarpet": [
           {
            "colorbar": {
             "outlinewidth": 0,
             "ticks": ""
            },
            "type": "contourcarpet"
           }
          ],
          "heatmap": [
           {
            "colorbar": {
             "outlinewidth": 0,
             "ticks": ""
            },
            "colorscale": [
             [
              0,
              "#0d0887"
             ],
             [
              0.1111111111111111,
              "#46039f"
             ],
             [
              0.2222222222222222,
              "#7201a8"
             ],
             [
              0.3333333333333333,
              "#9c179e"
             ],
             [
              0.4444444444444444,
              "#bd3786"
             ],
             [
              0.5555555555555556,
              "#d8576b"
             ],
             [
              0.6666666666666666,
              "#ed7953"
             ],
             [
              0.7777777777777778,
              "#fb9f3a"
             ],
             [
              0.8888888888888888,
              "#fdca26"
             ],
             [
              1,
              "#f0f921"
             ]
            ],
            "type": "heatmap"
           }
          ],
          "heatmapgl": [
           {
            "colorbar": {
             "outlinewidth": 0,
             "ticks": ""
            },
            "colorscale": [
             [
              0,
              "#0d0887"
             ],
             [
              0.1111111111111111,
              "#46039f"
             ],
             [
              0.2222222222222222,
              "#7201a8"
             ],
             [
              0.3333333333333333,
              "#9c179e"
             ],
             [
              0.4444444444444444,
              "#bd3786"
             ],
             [
              0.5555555555555556,
              "#d8576b"
             ],
             [
              0.6666666666666666,
              "#ed7953"
             ],
             [
              0.7777777777777778,
              "#fb9f3a"
             ],
             [
              0.8888888888888888,
              "#fdca26"
             ],
             [
              1,
              "#f0f921"
             ]
            ],
            "type": "heatmapgl"
           }
          ],
          "histogram": [
           {
            "marker": {
             "pattern": {
              "fillmode": "overlay",
              "size": 10,
              "solidity": 0.2
             }
            },
            "type": "histogram"
           }
          ],
          "histogram2d": [
           {
            "colorbar": {
             "outlinewidth": 0,
             "ticks": ""
            },
            "colorscale": [
             [
              0,
              "#0d0887"
             ],
             [
              0.1111111111111111,
              "#46039f"
             ],
             [
              0.2222222222222222,
              "#7201a8"
             ],
             [
              0.3333333333333333,
              "#9c179e"
             ],
             [
              0.4444444444444444,
              "#bd3786"
             ],
             [
              0.5555555555555556,
              "#d8576b"
             ],
             [
              0.6666666666666666,
              "#ed7953"
             ],
             [
              0.7777777777777778,
              "#fb9f3a"
             ],
             [
              0.8888888888888888,
              "#fdca26"
             ],
             [
              1,
              "#f0f921"
             ]
            ],
            "type": "histogram2d"
           }
          ],
          "histogram2dcontour": [
           {
            "colorbar": {
             "outlinewidth": 0,
             "ticks": ""
            },
            "colorscale": [
             [
              0,
              "#0d0887"
             ],
             [
              0.1111111111111111,
              "#46039f"
             ],
             [
              0.2222222222222222,
              "#7201a8"
             ],
             [
              0.3333333333333333,
              "#9c179e"
             ],
             [
              0.4444444444444444,
              "#bd3786"
             ],
             [
              0.5555555555555556,
              "#d8576b"
             ],
             [
              0.6666666666666666,
              "#ed7953"
             ],
             [
              0.7777777777777778,
              "#fb9f3a"
             ],
             [
              0.8888888888888888,
              "#fdca26"
             ],
             [
              1,
              "#f0f921"
             ]
            ],
            "type": "histogram2dcontour"
           }
          ],
          "mesh3d": [
           {
            "colorbar": {
             "outlinewidth": 0,
             "ticks": ""
            },
            "type": "mesh3d"
           }
          ],
          "parcoords": [
           {
            "line": {
             "colorbar": {
              "outlinewidth": 0,
              "ticks": ""
             }
            },
            "type": "parcoords"
           }
          ],
          "pie": [
           {
            "automargin": true,
            "type": "pie"
           }
          ],
          "scatter": [
           {
            "fillpattern": {
             "fillmode": "overlay",
             "size": 10,
             "solidity": 0.2
            },
            "type": "scatter"
           }
          ],
          "scatter3d": [
           {
            "line": {
             "colorbar": {
              "outlinewidth": 0,
              "ticks": ""
             }
            },
            "marker": {
             "colorbar": {
              "outlinewidth": 0,
              "ticks": ""
             }
            },
            "type": "scatter3d"
           }
          ],
          "scattercarpet": [
           {
            "marker": {
             "colorbar": {
              "outlinewidth": 0,
              "ticks": ""
             }
            },
            "type": "scattercarpet"
           }
          ],
          "scattergeo": [
           {
            "marker": {
             "colorbar": {
              "outlinewidth": 0,
              "ticks": ""
             }
            },
            "type": "scattergeo"
           }
          ],
          "scattergl": [
           {
            "marker": {
             "colorbar": {
              "outlinewidth": 0,
              "ticks": ""
             }
            },
            "type": "scattergl"
           }
          ],
          "scattermapbox": [
           {
            "marker": {
             "colorbar": {
              "outlinewidth": 0,
              "ticks": ""
             }
            },
            "type": "scattermapbox"
           }
          ],
          "scatterpolar": [
           {
            "marker": {
             "colorbar": {
              "outlinewidth": 0,
              "ticks": ""
             }
            },
            "type": "scatterpolar"
           }
          ],
          "scatterpolargl": [
           {
            "marker": {
             "colorbar": {
              "outlinewidth": 0,
              "ticks": ""
             }
            },
            "type": "scatterpolargl"
           }
          ],
          "scatterternary": [
           {
            "marker": {
             "colorbar": {
              "outlinewidth": 0,
              "ticks": ""
             }
            },
            "type": "scatterternary"
           }
          ],
          "surface": [
           {
            "colorbar": {
             "outlinewidth": 0,
             "ticks": ""
            },
            "colorscale": [
             [
              0,
              "#0d0887"
             ],
             [
              0.1111111111111111,
              "#46039f"
             ],
             [
              0.2222222222222222,
              "#7201a8"
             ],
             [
              0.3333333333333333,
              "#9c179e"
             ],
             [
              0.4444444444444444,
              "#bd3786"
             ],
             [
              0.5555555555555556,
              "#d8576b"
             ],
             [
              0.6666666666666666,
              "#ed7953"
             ],
             [
              0.7777777777777778,
              "#fb9f3a"
             ],
             [
              0.8888888888888888,
              "#fdca26"
             ],
             [
              1,
              "#f0f921"
             ]
            ],
            "type": "surface"
           }
          ],
          "table": [
           {
            "cells": {
             "fill": {
              "color": "#EBF0F8"
             },
             "line": {
              "color": "white"
             }
            },
            "header": {
             "fill": {
              "color": "#C8D4E3"
             },
             "line": {
              "color": "white"
             }
            },
            "type": "table"
           }
          ]
         },
         "layout": {
          "annotationdefaults": {
           "arrowcolor": "#2a3f5f",
           "arrowhead": 0,
           "arrowwidth": 1
          },
          "autotypenumbers": "strict",
          "coloraxis": {
           "colorbar": {
            "outlinewidth": 0,
            "ticks": ""
           }
          },
          "colorscale": {
           "diverging": [
            [
             0,
             "#8e0152"
            ],
            [
             0.1,
             "#c51b7d"
            ],
            [
             0.2,
             "#de77ae"
            ],
            [
             0.3,
             "#f1b6da"
            ],
            [
             0.4,
             "#fde0ef"
            ],
            [
             0.5,
             "#f7f7f7"
            ],
            [
             0.6,
             "#e6f5d0"
            ],
            [
             0.7,
             "#b8e186"
            ],
            [
             0.8,
             "#7fbc41"
            ],
            [
             0.9,
             "#4d9221"
            ],
            [
             1,
             "#276419"
            ]
           ],
           "sequential": [
            [
             0,
             "#0d0887"
            ],
            [
             0.1111111111111111,
             "#46039f"
            ],
            [
             0.2222222222222222,
             "#7201a8"
            ],
            [
             0.3333333333333333,
             "#9c179e"
            ],
            [
             0.4444444444444444,
             "#bd3786"
            ],
            [
             0.5555555555555556,
             "#d8576b"
            ],
            [
             0.6666666666666666,
             "#ed7953"
            ],
            [
             0.7777777777777778,
             "#fb9f3a"
            ],
            [
             0.8888888888888888,
             "#fdca26"
            ],
            [
             1,
             "#f0f921"
            ]
           ],
           "sequentialminus": [
            [
             0,
             "#0d0887"
            ],
            [
             0.1111111111111111,
             "#46039f"
            ],
            [
             0.2222222222222222,
             "#7201a8"
            ],
            [
             0.3333333333333333,
             "#9c179e"
            ],
            [
             0.4444444444444444,
             "#bd3786"
            ],
            [
             0.5555555555555556,
             "#d8576b"
            ],
            [
             0.6666666666666666,
             "#ed7953"
            ],
            [
             0.7777777777777778,
             "#fb9f3a"
            ],
            [
             0.8888888888888888,
             "#fdca26"
            ],
            [
             1,
             "#f0f921"
            ]
           ]
          },
          "colorway": [
           "#636efa",
           "#EF553B",
           "#00cc96",
           "#ab63fa",
           "#FFA15A",
           "#19d3f3",
           "#FF6692",
           "#B6E880",
           "#FF97FF",
           "#FECB52"
          ],
          "font": {
           "color": "#2a3f5f"
          },
          "geo": {
           "bgcolor": "white",
           "lakecolor": "white",
           "landcolor": "white",
           "showlakes": true,
           "showland": true,
           "subunitcolor": "#C8D4E3"
          },
          "hoverlabel": {
           "align": "left"
          },
          "hovermode": "closest",
          "mapbox": {
           "style": "light"
          },
          "paper_bgcolor": "white",
          "plot_bgcolor": "white",
          "polar": {
           "angularaxis": {
            "gridcolor": "#EBF0F8",
            "linecolor": "#EBF0F8",
            "ticks": ""
           },
           "bgcolor": "white",
           "radialaxis": {
            "gridcolor": "#EBF0F8",
            "linecolor": "#EBF0F8",
            "ticks": ""
           }
          },
          "scene": {
           "xaxis": {
            "backgroundcolor": "white",
            "gridcolor": "#DFE8F3",
            "gridwidth": 2,
            "linecolor": "#EBF0F8",
            "showbackground": true,
            "ticks": "",
            "zerolinecolor": "#EBF0F8"
           },
           "yaxis": {
            "backgroundcolor": "white",
            "gridcolor": "#DFE8F3",
            "gridwidth": 2,
            "linecolor": "#EBF0F8",
            "showbackground": true,
            "ticks": "",
            "zerolinecolor": "#EBF0F8"
           },
           "zaxis": {
            "backgroundcolor": "white",
            "gridcolor": "#DFE8F3",
            "gridwidth": 2,
            "linecolor": "#EBF0F8",
            "showbackground": true,
            "ticks": "",
            "zerolinecolor": "#EBF0F8"
           }
          },
          "shapedefaults": {
           "line": {
            "color": "#2a3f5f"
           }
          },
          "ternary": {
           "aaxis": {
            "gridcolor": "#DFE8F3",
            "linecolor": "#A2B1C6",
            "ticks": ""
           },
           "baxis": {
            "gridcolor": "#DFE8F3",
            "linecolor": "#A2B1C6",
            "ticks": ""
           },
           "bgcolor": "white",
           "caxis": {
            "gridcolor": "#DFE8F3",
            "linecolor": "#A2B1C6",
            "ticks": ""
           }
          },
          "title": {
           "x": 0.05
          },
          "xaxis": {
           "automargin": true,
           "gridcolor": "#EBF0F8",
           "linecolor": "#EBF0F8",
           "ticks": "",
           "title": {
            "standoff": 15
           },
           "zerolinecolor": "#EBF0F8",
           "zerolinewidth": 2
          },
          "yaxis": {
           "automargin": true,
           "gridcolor": "#EBF0F8",
           "linecolor": "#EBF0F8",
           "ticks": "",
           "title": {
            "standoff": 15
           },
           "zerolinecolor": "#EBF0F8",
           "zerolinewidth": 2
          }
         }
        },
        "title": {
         "text": "Likes hashtags - Average Target Hashtags per 250-Video Bucket"
        },
        "xaxis": {
         "title": {
          "text": "Average Run Number in Bucket"
         }
        },
        "yaxis": {
         "title": {
          "text": "Average Number of Target Hashtags"
         }
        }
       }
      }
     },
     "metadata": {},
     "output_type": "display_data"
    },
    {
     "name": "stdout",
     "output_type": "stream",
     "text": [
      "\n",
      "Overall Averages Across All Scenarios:\n",
      "Overall Experimental group average: 1.16\n",
      "Overall Control group average: 1.16\n",
      "\n",
      "First Bucket Averages Across All Scenarios:\n",
      "Experimental group first bucket average: 1.34\n",
      "Control group first bucket average: 1.00\n",
      "\n",
      "Last Bucket Averages Across All Scenarios:\n",
      "Experimental group last bucket average: 1.23\n",
      "Control group last bucket average: 1.19\n"
     ]
    }
   ],
   "source": [
    "scenarios = ['18','22']\n",
    "scenarios_data = {}\n",
    "\n",
    "for scenario in scenarios:\n",
    "    # Call analyze_hashtags_for_scenario with group_type='both' to get both experimental and control data\n",
    "    exp_data, ctrl_data, max_videos = analyze_hashtags_for_scenario(data_combined, target_hashtags, scenario, group_type='both')\n",
    "    scenarios_data[scenario] = (exp_data, ctrl_data, max_videos)\n",
    "\n",
    "# Plot trends and print statistics with default group_type='both'\n",
    "plot_hashtag_trends(scenarios_data, target_hashtags, group_type='both')"
   ]
  },
  {
   "cell_type": "markdown",
   "metadata": {},
   "source": [
    "`get_target_hashtag_count`\n",
    "\n",
    "1. Normalizing input tags (removes special chars, lowercase conversion)\n",
    "2. Using exact string matching against provided target hashtags\n",
    "3. Returning count of matches while handling empty/missing tags\n"
   ]
  },
  {
   "cell_type": "code",
   "execution_count": 10,
   "metadata": {},
   "outputs": [],
   "source": [
    "def get_target_hashtag_count(tags, target_hashtags):\n",
    "    \"\"\"Count how many target hashtags appear in a set of tags\"\"\"\n",
    "    if not tags:\n",
    "        return 0\n",
    "    cleaned_tags = set(''.join(c for c in tag if c.isalnum()).lower() \n",
    "                      for tag in tags.split('_'))\n",
    "    return sum(1 for tag in cleaned_tags if tag in target_hashtags)"
   ]
  },
  {
   "cell_type": "markdown",
   "metadata": {},
   "source": [
    "`analyze_and_plot_target_hashtags_agg`\n",
    "\n",
    "1. Analyzing individual scenarios and aggregated groups in **control and experiment users**\n",
    "2. Calculating **bucket-based averages** (default 25 videos/bucket) with trend correlations (Spearman's ρ)\n",
    "3. Generating **visualizations** showing:\n",
    "   - Experimental vs control group comparisons\n",
    "   - Statistical annotations (ρ and p-values)\n",
    "   - Aggregated trend lines across scenario groups\n",
    "4. **Dynamic scenario grouping** with custom labeling\n"
   ]
  },
  {
   "cell_type": "code",
   "execution_count": 15,
   "metadata": {},
   "outputs": [],
   "source": [
    "def analyze_and_plot_target_hashtags_agg(data_combined, scenarios, target_hashtags, bucket_size=25,\n",
    "                          plot_type='both', # New parameter - can be 'control', 'experiment' or 'both'\n",
    "                          aggregate_scenarios=None, legend_labels=None):\n",
    "    \"\"\"\n",
    "    Analyze presence of target hashtags in control and/or experiment groups\n",
    "\n",
    "    Parameters:\n",
    "    - data_combined: DataFrame with video data\n",
    "    - scenarios: List of scenario IDs to analyze\n",
    "    - target_hashtags: List of target hashtags to count\n",
    "    - bucket_size: Size of analysis buckets\n",
    "    - plot_type: Type of plots to show ('control', 'experiment', or 'both')\n",
    "    - aggregate_scenarios: List of scenario groups to aggregate\n",
    "    - legend_labels: Custom labels for scenario groups\n",
    "    \"\"\"\n",
    "    # Validate plot_type\n",
    "    valid_plot_types = ['control', 'experiment', 'both']\n",
    "    if plot_type not in valid_plot_types:\n",
    "        raise ValueError(f\"plot_type must be one of {valid_plot_types}\")\n",
    "    \n",
    "    # Determine which groups to plot\n",
    "    if plot_type == 'both':\n",
    "        plot_groups = ('control', 'experiment')\n",
    "    else:\n",
    "        plot_groups = (plot_type,)\n",
    "\n",
    "    # Clean target hashtags\n",
    "    target_hashtags = set(''.join(c for c in tag if c.isalnum()).lower() \n",
    "                         for tag in target_hashtags)\n",
    "\n",
    "    # Color setup\n",
    "    color_palette = qualitative.Plotly\n",
    "    scenario_colors = {s: color_palette[i%len(color_palette)] \n",
    "                      for i, s in enumerate(scenarios)}\n",
    "\n",
    "    # Store results\n",
    "    results = {'individual': {}, 'aggregated': {}}\n",
    "\n",
    "    # Individual scenario analysis\n",
    "    for scenario in scenarios:\n",
    "        results['individual'][scenario] = {}\n",
    "        \n",
    "        for group in plot_groups:\n",
    "            # Data preparation\n",
    "            data = data_combined[data_combined['user_id'] == f'{scenario}-{group}'].sort_values('run_number')\n",
    "            \n",
    "\n",
    "            # Bucket processing\n",
    "            avg_counts = []\n",
    "            for i in range(0, len(data) - bucket_size + 1, bucket_size):\n",
    "                bucket = data.iloc[i:i+bucket_size]\n",
    "                counts = [get_target_hashtag_count(tags, target_hashtags) \n",
    "                         for tags in bucket['hashtags']]\n",
    "                avg_counts.append(np.mean(counts))\n",
    "\n",
    "            results['individual'][scenario][group] = avg_counts\n",
    "\n",
    "    # Visualization\n",
    "    fig_ind = go.Figure()\n",
    "    fig_agg = go.Figure() if aggregate_scenarios else None\n",
    "\n",
    "    # Individual scenario plots\n",
    "    for scenario in scenarios:\n",
    "        for group in plot_groups:\n",
    "            counts = results['individual'][scenario][group]\n",
    "            positions = [i*bucket_size + bucket_size/2 for i in range(len(counts))]\n",
    "            color = scenario_colors[scenario]\n",
    "            if plot_type == 'both':\n",
    "                color = color if group == 'control' else f'rgba{tuple(int(color.lstrip(\"#\")[i:i+2], 16) for i in (0, 2, 4)) + (0.5,)}'\n",
    "\n",
    "            # Correlation analysis\n",
    "            rho, p = scipy.stats.spearmanr(positions, counts)\n",
    "\n",
    "            # Main trace\n",
    "            fig_ind.add_trace(go.Scatter(\n",
    "                x=positions,\n",
    "                y=counts,\n",
    "                mode='lines+markers',\n",
    "                name=f'Scenario {scenario} {group} (ρ={rho:.2f}, p={p:.3f})',\n",
    "                line=dict(color=color),\n",
    "                marker=dict(color=color)\n",
    "            ))\n",
    "\n",
    "            # Trend line\n",
    "            trend = np.poly1d(np.polyfit(positions, counts, 1))(positions)\n",
    "            fig_ind.add_trace(go.Scatter(\n",
    "                x=positions,\n",
    "                y=trend,\n",
    "                mode='lines',\n",
    "                line=dict(color=color, dash='dash'),\n",
    "                showlegend=False\n",
    "            ))\n",
    "\n",
    "    # Aggregated analysis\n",
    "    if aggregate_scenarios:\n",
    "        for group_idx, scenario_group in enumerate(aggregate_scenarios):\n",
    "            color = color_palette[group_idx%len(color_palette)]\n",
    "            \n",
    "            for group in plot_groups:\n",
    "                scenario_lengths = {}\n",
    "                for scenario in scenario_group:\n",
    "                    if scenario in results['individual'] and results['individual'][scenario][group]:\n",
    "                        counts = results['individual'][scenario][group]\n",
    "                        scenario_lengths[scenario] = len(counts)\n",
    "                \n",
    "                # Skip if no scenarios have data\n",
    "                if not scenario_lengths:\n",
    "                    print(f\"No data available for group {scenario_group} {group}\")\n",
    "                    continue\n",
    "\n",
    "                # Find scenario with most videos\n",
    "                max_scenario = max(scenario_lengths.items(), key=lambda x: x[1])\n",
    "                max_len = max_scenario[1]\n",
    "                \n",
    "                if max_len > 0:\n",
    "                    positions = [i*bucket_size + bucket_size/2 for i in range(max_len)]\n",
    "                    \n",
    "                    # For each position, average available counts\n",
    "                    avg_counts = []\n",
    "                    for pos in range(max_len):\n",
    "                        pos_counts = []\n",
    "                        for scenario in scenario_group:\n",
    "                            if scenario in results['individual']:\n",
    "                                counts = results['individual'][scenario][group]\n",
    "                                if pos < len(counts):\n",
    "                                    pos_counts.append(counts[pos])\n",
    "                        if pos_counts:\n",
    "                            avg_counts.append(np.mean(pos_counts))\n",
    "                        else:\n",
    "                            avg_counts.append(results['individual'][max_scenario[0]][group][pos])\n",
    "\n",
    "                    # Correlation analysis\n",
    "                    rho, p = scipy.stats.spearmanr(positions, avg_counts)\n",
    "\n",
    "                    plot_color = color if group == 'control' else f'rgba{tuple(int(color.lstrip(\"#\")[i:i+2], 16) for i in (0, 2, 4)) + (0.5,)}'\n",
    "                    # Handle single-scenario groups differently for legend labels\n",
    "                    if len(scenario_group) == 1:\n",
    "                        label = (legend_labels.get(scenario_group[0], f'Group {scenario_group}') + \n",
    "                                f' {group} (ρ={rho:.2f}, p={p:.3f})')\n",
    "                    else:\n",
    "                        label = (legend_labels.get(tuple(sorted(scenario_group)), f'Group {scenario_group}') + \n",
    "                                f' {group} (ρ={rho:.2f}, p={p:.3f})')\n",
    "\n",
    "                    # Main trace\n",
    "                    fig_agg.add_trace(go.Scatter(\n",
    "                        x=positions,\n",
    "                        y=avg_counts,\n",
    "                        mode='lines+markers',\n",
    "                        name=label,\n",
    "                        line=dict(color=plot_color),\n",
    "                        marker=dict(color=plot_color)\n",
    "                    ))\n",
    "\n",
    "                    # Trend line\n",
    "                    trend = np.poly1d(np.polyfit(positions, avg_counts, 1))(positions)\n",
    "                    fig_agg.add_trace(go.Scatter(\n",
    "                        x=positions,\n",
    "                        y=trend,\n",
    "                        mode='lines',\n",
    "                        line=dict(color=plot_color, dash='dash'),\n",
    "                        showlegend=False\n",
    "                    ))\n",
    "\n",
    "    # Figure formatting\n",
    "    fig_ind.update_layout(\n",
    "        xaxis_title='Video Position',\n",
    "        yaxis_title='Average Target Hashtag Count',\n",
    "        template='plotly_white',\n",
    "        width=800,\n",
    "        margin=dict(l=50, r=50, t=50, b=50),\n",
    "        legend=dict(\n",
    "            orientation=\"h\",\n",
    "            yanchor=\"bottom\",\n",
    "            y=1.02,\n",
    "            xanchor=\"center\",\n",
    "            x=0.5\n",
    "        )\n",
    "    )\n",
    "    fig_ind.show()\n",
    "\n",
    "    if fig_agg:\n",
    "        fig_agg.update_layout(\n",
    "            xaxis_title='Number of watched videos',\n",
    "            yaxis_title='Average Target Hashtag Count',\n",
    "            template='plotly_white',\n",
    "            width=800,\n",
    "            margin=dict(l=20, r=20, t=1, b=1),\n",
    "            legend=dict(\n",
    "                orientation=\"h\",\n",
    "                yanchor=\"bottom\",\n",
    "                y=1.02,\n",
    "                xanchor=\"center\",\n",
    "                x=0.5\n",
    "            )\n",
    "        )\n",
    "        fig_agg.show()\n",
    "\n",
    "    return results"
   ]
  },
  {
   "cell_type": "code",
   "execution_count": 16,
   "metadata": {},
   "outputs": [
    {
     "data": {
      "application/vnd.plotly.v1+json": {
       "config": {
        "plotlyServerURL": "https://plot.ly"
       },
       "data": [
        {
         "line": {
          "color": "#636EFA"
         },
         "marker": {
          "color": "#636EFA"
         },
         "mode": "lines+markers",
         "name": "Scenario 18 experiment (ρ=0.32, p=0.075)",
         "type": "scatter",
         "x": [
          25,
          75,
          125,
          175,
          225,
          275,
          325,
          375,
          425,
          475,
          525,
          575,
          625,
          675,
          725,
          775,
          825,
          875,
          925,
          975,
          1025,
          1075,
          1125,
          1175,
          1225,
          1275,
          1325,
          1375,
          1425,
          1475,
          1525
         ],
         "y": [
          0.42,
          0.38,
          0.52,
          0.3,
          0.52,
          0.16,
          0.16,
          0.42,
          0.16,
          0.22,
          0.18,
          0.06,
          0.08,
          0.06,
          0.2,
          0.1,
          0.1,
          0.08,
          0.18,
          0.06,
          0.12,
          0.5,
          0.4,
          0.68,
          0.62,
          0.76,
          0.4,
          0.6,
          0.52,
          0.46,
          0.56
         ]
        },
        {
         "line": {
          "color": "#636EFA",
          "dash": "dash"
         },
         "mode": "lines",
         "showlegend": false,
         "type": "scatter",
         "x": [
          25,
          75,
          125,
          175,
          225,
          275,
          325,
          375,
          425,
          475,
          525,
          575,
          625,
          675,
          725,
          775,
          825,
          875,
          925,
          975,
          1025,
          1075,
          1125,
          1175,
          1225,
          1275,
          1325,
          1375,
          1425,
          1475,
          1525
         ],
         "y": [
          0.19479838709677394,
          0.20327419354838686,
          0.21174999999999977,
          0.2202258064516127,
          0.2287016129032256,
          0.23717741935483852,
          0.24565322580645144,
          0.2541290322580643,
          0.26260483870967727,
          0.27108064516129016,
          0.2795564516129031,
          0.288032258064516,
          0.2965080645161289,
          0.3049838709677418,
          0.3134596774193547,
          0.3219354838709676,
          0.33041129032258054,
          0.3388870967741935,
          0.3473629032258064,
          0.35583870967741926,
          0.3643145161290322,
          0.37279032258064515,
          0.381266129032258,
          0.3897419354838709,
          0.39821774193548387,
          0.40669354838709676,
          0.41516935483870965,
          0.4236451612903226,
          0.43212096774193554,
          0.44059677419354837,
          0.4490725806451613
         ]
        },
        {
         "line": {
          "color": "#EF553B"
         },
         "marker": {
          "color": "#EF553B"
         },
         "mode": "lines+markers",
         "name": "Scenario 22 experiment (ρ=0.13, p=0.644)",
         "type": "scatter",
         "x": [
          25,
          75,
          125,
          175,
          225,
          275,
          325,
          375,
          425,
          475,
          525,
          575,
          625,
          675,
          725,
          775
         ],
         "y": [
          0.44,
          0.34,
          0.34,
          0.2,
          0.26,
          0.3,
          0.26,
          0.42,
          0.22,
          0.24,
          0.24,
          0.28,
          0.4,
          0.4,
          0.36,
          0.38
         ]
        },
        {
         "line": {
          "color": "#EF553B",
          "dash": "dash"
         },
         "mode": "lines",
         "showlegend": false,
         "type": "scatter",
         "x": [
          25,
          75,
          125,
          175,
          225,
          275,
          325,
          375,
          425,
          475,
          525,
          575,
          625,
          675,
          725,
          775
         ],
         "y": [
          0.3020588235294115,
          0.30411764705882327,
          0.30617647058823505,
          0.30823529411764683,
          0.3102941176470586,
          0.3123529411764704,
          0.31441176470588217,
          0.31647058823529395,
          0.3185294117647057,
          0.3205882352941175,
          0.3226470588235293,
          0.32470588235294107,
          0.32676470588235285,
          0.3288235294117646,
          0.3308823529411764,
          0.3329411764705882
         ]
        },
        {
         "line": {
          "color": "#00CC96"
         },
         "marker": {
          "color": "#00CC96"
         },
         "mode": "lines+markers",
         "name": "Scenario 38 experiment (ρ=0.14, p=0.557)",
         "type": "scatter",
         "x": [
          25,
          75,
          125,
          175,
          225,
          275,
          325,
          375,
          425,
          475,
          525,
          575,
          625,
          675,
          725,
          775,
          825,
          875,
          925,
          975
         ],
         "y": [
          0.04,
          0.12,
          0.26,
          0.04,
          0.16,
          0.32,
          0.32,
          0.4,
          0.38,
          0.26,
          0.22,
          0.44,
          0.36,
          0.34,
          0.36,
          0.16,
          0.16,
          0.08,
          0.24,
          0.2
         ]
        },
        {
         "line": {
          "color": "#00CC96",
          "dash": "dash"
         },
         "mode": "lines",
         "showlegend": false,
         "type": "scatter",
         "x": [
          25,
          75,
          125,
          175,
          225,
          275,
          325,
          375,
          425,
          475,
          525,
          575,
          625,
          675,
          725,
          775,
          825,
          875,
          925,
          975
         ],
         "y": [
          0.21171428571428572,
          0.21500751879699248,
          0.21830075187969925,
          0.221593984962406,
          0.22488721804511275,
          0.2281804511278195,
          0.23147368421052628,
          0.234766917293233,
          0.23806015037593978,
          0.24135338345864654,
          0.24464661654135328,
          0.24793984962406004,
          0.2512330827067668,
          0.25452631578947355,
          0.25781954887218034,
          0.2611127819548871,
          0.2644060150375938,
          0.2676992481203006,
          0.27099248120300734,
          0.27428571428571413
         ]
        },
        {
         "line": {
          "color": "#AB63FA"
         },
         "marker": {
          "color": "#AB63FA"
         },
         "mode": "lines+markers",
         "name": "Scenario 39 experiment (ρ=0.02, p=0.939)",
         "type": "scatter",
         "x": [
          25,
          75,
          125,
          175,
          225,
          275,
          325,
          375,
          425,
          475,
          525,
          575,
          625,
          675,
          725
         ],
         "y": [
          0.48,
          0.46,
          0.34,
          0.38,
          0.18,
          0.46,
          0.34,
          0.3,
          0.38,
          0.42,
          0.44,
          0.34,
          0.46,
          0.48,
          0.36
         ]
        },
        {
         "line": {
          "color": "#AB63FA",
          "dash": "dash"
         },
         "mode": "lines",
         "showlegend": false,
         "type": "scatter",
         "x": [
          25,
          75,
          125,
          175,
          225,
          275,
          325,
          375,
          425,
          475,
          525,
          575,
          625,
          675,
          725
         ],
         "y": [
          0.37649999999999995,
          0.37814285714285706,
          0.3797857142857142,
          0.38142857142857134,
          0.3830714285714285,
          0.3847142857142857,
          0.3863571428571428,
          0.38799999999999996,
          0.38964285714285707,
          0.39128571428571424,
          0.39292857142857135,
          0.3945714285714285,
          0.39621428571428563,
          0.3978571428571428,
          0.3994999999999999
         ]
        },
        {
         "line": {
          "color": "#FFA15A"
         },
         "marker": {
          "color": "#FFA15A"
         },
         "mode": "lines+markers",
         "name": "Scenario 40 experiment (ρ=0.38, p=0.085)",
         "type": "scatter",
         "x": [
          25,
          75,
          125,
          175,
          225,
          275,
          325,
          375,
          425,
          475,
          525,
          575,
          625,
          675,
          725,
          775,
          825,
          875,
          925,
          975,
          1025
         ],
         "y": [
          0.38,
          0.34,
          0.18,
          0.26,
          0.2,
          0.34,
          0.26,
          0.34,
          0.36,
          0.2,
          0.52,
          0.36,
          0.4,
          0.44,
          0.4,
          0.36,
          0.34,
          0.22,
          0.46,
          0.48,
          0.32
         ]
        },
        {
         "line": {
          "color": "#FFA15A",
          "dash": "dash"
         },
         "mode": "lines",
         "showlegend": false,
         "type": "scatter",
         "x": [
          25,
          75,
          125,
          175,
          225,
          275,
          325,
          375,
          425,
          475,
          525,
          575,
          625,
          675,
          725,
          775,
          825,
          875,
          925,
          975,
          1025
         ],
         "y": [
          0.2804329004329004,
          0.28648484848484845,
          0.29253679653679654,
          0.29858874458874457,
          0.30464069264069266,
          0.3106926406926407,
          0.3167445887445888,
          0.3227965367965368,
          0.3288484848484849,
          0.3349004329004329,
          0.340952380952381,
          0.3470043290043291,
          0.3530562770562771,
          0.35910822510822515,
          0.36516017316017324,
          0.3712121212121213,
          0.37726406926406936,
          0.38331601731601744,
          0.3893679653679655,
          0.39541991341991356,
          0.4014718614718616
         ]
        },
        {
         "line": {
          "color": "#19D3F3"
         },
         "marker": {
          "color": "#19D3F3"
         },
         "mode": "lines+markers",
         "name": "Scenario 41 experiment (ρ=0.72, p=0.000)",
         "type": "scatter",
         "x": [
          25,
          75,
          125,
          175,
          225,
          275,
          325,
          375,
          425,
          475,
          525,
          575,
          625,
          675,
          725,
          775,
          825,
          875,
          925,
          975,
          1025,
          1075,
          1125
         ],
         "y": [
          0.22,
          0.06,
          0.16,
          0.2,
          0.14,
          0.16,
          0.12,
          0.12,
          0.08,
          0.18,
          0.18,
          0.28,
          0.2,
          0.26,
          0.18,
          0.12,
          0.26,
          0.3,
          0.58,
          0.34,
          0.36,
          0.54,
          0.4
         ]
        },
        {
         "line": {
          "color": "#19D3F3",
          "dash": "dash"
         },
         "mode": "lines",
         "showlegend": false,
         "type": "scatter",
         "x": [
          25,
          75,
          125,
          175,
          225,
          275,
          325,
          375,
          425,
          475,
          525,
          575,
          625,
          675,
          725,
          775,
          825,
          875,
          925,
          975,
          1025,
          1075,
          1125
         ],
         "y": [
          0.0756521739130435,
          0.09027667984189727,
          0.10490118577075103,
          0.11952569169960478,
          0.13415019762845853,
          0.1487747035573123,
          0.16339920948616604,
          0.17802371541501982,
          0.19264822134387355,
          0.20727272727272733,
          0.22189723320158108,
          0.23652173913043484,
          0.2511462450592886,
          0.26577075098814235,
          0.28039525691699607,
          0.29501976284584985,
          0.30964426877470363,
          0.32426877470355736,
          0.33889328063241114,
          0.3535177865612649,
          0.36814229249011865,
          0.38276679841897243,
          0.39739130434782616
         ]
        },
        {
         "line": {
          "color": "#FF6692"
         },
         "marker": {
          "color": "#FF6692"
         },
         "mode": "lines+markers",
         "name": "Scenario 42 experiment (ρ=0.61, p=0.003)",
         "type": "scatter",
         "x": [
          25,
          75,
          125,
          175,
          225,
          275,
          325,
          375,
          425,
          475,
          525,
          575,
          625,
          675,
          725,
          775,
          825,
          875,
          925,
          975,
          1025
         ],
         "y": [
          0.34,
          0.22,
          0.22,
          0.22,
          0.2,
          0.22,
          0.42,
          0.3,
          0.3,
          0.26,
          0.28,
          0.38,
          0.42,
          0.34,
          0.38,
          0.28,
          0.36,
          0.32,
          0.42,
          0.36,
          0.4
         ]
        },
        {
         "line": {
          "color": "#FF6692",
          "dash": "dash"
         },
         "mode": "lines",
         "showlegend": false,
         "type": "scatter",
         "x": [
          25,
          75,
          125,
          175,
          225,
          275,
          325,
          375,
          425,
          475,
          525,
          575,
          625,
          675,
          725,
          775,
          825,
          875,
          925,
          975,
          1025
         ],
         "y": [
          0.24164502164502172,
          0.24909956709956718,
          0.25655411255411265,
          0.2640086580086581,
          0.2714632034632036,
          0.278917748917749,
          0.2863722943722945,
          0.29382683982684,
          0.3012813852813854,
          0.3087359307359309,
          0.31619047619047636,
          0.32364502164502185,
          0.3310995670995673,
          0.3385541125541128,
          0.3460086580086582,
          0.3534632034632037,
          0.3609177489177492,
          0.36837229437229463,
          0.37582683982684006,
          0.38328138528138556,
          0.39073593073593105
         ]
        }
       ],
       "layout": {
        "legend": {
         "orientation": "h",
         "x": 0.5,
         "xanchor": "center",
         "y": 1.02,
         "yanchor": "bottom"
        },
        "margin": {
         "b": 50,
         "l": 50,
         "r": 50,
         "t": 50
        },
        "template": {
         "data": {
          "bar": [
           {
            "error_x": {
             "color": "#2a3f5f"
            },
            "error_y": {
             "color": "#2a3f5f"
            },
            "marker": {
             "line": {
              "color": "white",
              "width": 0.5
             },
             "pattern": {
              "fillmode": "overlay",
              "size": 10,
              "solidity": 0.2
             }
            },
            "type": "bar"
           }
          ],
          "barpolar": [
           {
            "marker": {
             "line": {
              "color": "white",
              "width": 0.5
             },
             "pattern": {
              "fillmode": "overlay",
              "size": 10,
              "solidity": 0.2
             }
            },
            "type": "barpolar"
           }
          ],
          "carpet": [
           {
            "aaxis": {
             "endlinecolor": "#2a3f5f",
             "gridcolor": "#C8D4E3",
             "linecolor": "#C8D4E3",
             "minorgridcolor": "#C8D4E3",
             "startlinecolor": "#2a3f5f"
            },
            "baxis": {
             "endlinecolor": "#2a3f5f",
             "gridcolor": "#C8D4E3",
             "linecolor": "#C8D4E3",
             "minorgridcolor": "#C8D4E3",
             "startlinecolor": "#2a3f5f"
            },
            "type": "carpet"
           }
          ],
          "choropleth": [
           {
            "colorbar": {
             "outlinewidth": 0,
             "ticks": ""
            },
            "type": "choropleth"
           }
          ],
          "contour": [
           {
            "colorbar": {
             "outlinewidth": 0,
             "ticks": ""
            },
            "colorscale": [
             [
              0,
              "#0d0887"
             ],
             [
              0.1111111111111111,
              "#46039f"
             ],
             [
              0.2222222222222222,
              "#7201a8"
             ],
             [
              0.3333333333333333,
              "#9c179e"
             ],
             [
              0.4444444444444444,
              "#bd3786"
             ],
             [
              0.5555555555555556,
              "#d8576b"
             ],
             [
              0.6666666666666666,
              "#ed7953"
             ],
             [
              0.7777777777777778,
              "#fb9f3a"
             ],
             [
              0.8888888888888888,
              "#fdca26"
             ],
             [
              1,
              "#f0f921"
             ]
            ],
            "type": "contour"
           }
          ],
          "contourcarpet": [
           {
            "colorbar": {
             "outlinewidth": 0,
             "ticks": ""
            },
            "type": "contourcarpet"
           }
          ],
          "heatmap": [
           {
            "colorbar": {
             "outlinewidth": 0,
             "ticks": ""
            },
            "colorscale": [
             [
              0,
              "#0d0887"
             ],
             [
              0.1111111111111111,
              "#46039f"
             ],
             [
              0.2222222222222222,
              "#7201a8"
             ],
             [
              0.3333333333333333,
              "#9c179e"
             ],
             [
              0.4444444444444444,
              "#bd3786"
             ],
             [
              0.5555555555555556,
              "#d8576b"
             ],
             [
              0.6666666666666666,
              "#ed7953"
             ],
             [
              0.7777777777777778,
              "#fb9f3a"
             ],
             [
              0.8888888888888888,
              "#fdca26"
             ],
             [
              1,
              "#f0f921"
             ]
            ],
            "type": "heatmap"
           }
          ],
          "heatmapgl": [
           {
            "colorbar": {
             "outlinewidth": 0,
             "ticks": ""
            },
            "colorscale": [
             [
              0,
              "#0d0887"
             ],
             [
              0.1111111111111111,
              "#46039f"
             ],
             [
              0.2222222222222222,
              "#7201a8"
             ],
             [
              0.3333333333333333,
              "#9c179e"
             ],
             [
              0.4444444444444444,
              "#bd3786"
             ],
             [
              0.5555555555555556,
              "#d8576b"
             ],
             [
              0.6666666666666666,
              "#ed7953"
             ],
             [
              0.7777777777777778,
              "#fb9f3a"
             ],
             [
              0.8888888888888888,
              "#fdca26"
             ],
             [
              1,
              "#f0f921"
             ]
            ],
            "type": "heatmapgl"
           }
          ],
          "histogram": [
           {
            "marker": {
             "pattern": {
              "fillmode": "overlay",
              "size": 10,
              "solidity": 0.2
             }
            },
            "type": "histogram"
           }
          ],
          "histogram2d": [
           {
            "colorbar": {
             "outlinewidth": 0,
             "ticks": ""
            },
            "colorscale": [
             [
              0,
              "#0d0887"
             ],
             [
              0.1111111111111111,
              "#46039f"
             ],
             [
              0.2222222222222222,
              "#7201a8"
             ],
             [
              0.3333333333333333,
              "#9c179e"
             ],
             [
              0.4444444444444444,
              "#bd3786"
             ],
             [
              0.5555555555555556,
              "#d8576b"
             ],
             [
              0.6666666666666666,
              "#ed7953"
             ],
             [
              0.7777777777777778,
              "#fb9f3a"
             ],
             [
              0.8888888888888888,
              "#fdca26"
             ],
             [
              1,
              "#f0f921"
             ]
            ],
            "type": "histogram2d"
           }
          ],
          "histogram2dcontour": [
           {
            "colorbar": {
             "outlinewidth": 0,
             "ticks": ""
            },
            "colorscale": [
             [
              0,
              "#0d0887"
             ],
             [
              0.1111111111111111,
              "#46039f"
             ],
             [
              0.2222222222222222,
              "#7201a8"
             ],
             [
              0.3333333333333333,
              "#9c179e"
             ],
             [
              0.4444444444444444,
              "#bd3786"
             ],
             [
              0.5555555555555556,
              "#d8576b"
             ],
             [
              0.6666666666666666,
              "#ed7953"
             ],
             [
              0.7777777777777778,
              "#fb9f3a"
             ],
             [
              0.8888888888888888,
              "#fdca26"
             ],
             [
              1,
              "#f0f921"
             ]
            ],
            "type": "histogram2dcontour"
           }
          ],
          "mesh3d": [
           {
            "colorbar": {
             "outlinewidth": 0,
             "ticks": ""
            },
            "type": "mesh3d"
           }
          ],
          "parcoords": [
           {
            "line": {
             "colorbar": {
              "outlinewidth": 0,
              "ticks": ""
             }
            },
            "type": "parcoords"
           }
          ],
          "pie": [
           {
            "automargin": true,
            "type": "pie"
           }
          ],
          "scatter": [
           {
            "fillpattern": {
             "fillmode": "overlay",
             "size": 10,
             "solidity": 0.2
            },
            "type": "scatter"
           }
          ],
          "scatter3d": [
           {
            "line": {
             "colorbar": {
              "outlinewidth": 0,
              "ticks": ""
             }
            },
            "marker": {
             "colorbar": {
              "outlinewidth": 0,
              "ticks": ""
             }
            },
            "type": "scatter3d"
           }
          ],
          "scattercarpet": [
           {
            "marker": {
             "colorbar": {
              "outlinewidth": 0,
              "ticks": ""
             }
            },
            "type": "scattercarpet"
           }
          ],
          "scattergeo": [
           {
            "marker": {
             "colorbar": {
              "outlinewidth": 0,
              "ticks": ""
             }
            },
            "type": "scattergeo"
           }
          ],
          "scattergl": [
           {
            "marker": {
             "colorbar": {
              "outlinewidth": 0,
              "ticks": ""
             }
            },
            "type": "scattergl"
           }
          ],
          "scattermapbox": [
           {
            "marker": {
             "colorbar": {
              "outlinewidth": 0,
              "ticks": ""
             }
            },
            "type": "scattermapbox"
           }
          ],
          "scatterpolar": [
           {
            "marker": {
             "colorbar": {
              "outlinewidth": 0,
              "ticks": ""
             }
            },
            "type": "scatterpolar"
           }
          ],
          "scatterpolargl": [
           {
            "marker": {
             "colorbar": {
              "outlinewidth": 0,
              "ticks": ""
             }
            },
            "type": "scatterpolargl"
           }
          ],
          "scatterternary": [
           {
            "marker": {
             "colorbar": {
              "outlinewidth": 0,
              "ticks": ""
             }
            },
            "type": "scatterternary"
           }
          ],
          "surface": [
           {
            "colorbar": {
             "outlinewidth": 0,
             "ticks": ""
            },
            "colorscale": [
             [
              0,
              "#0d0887"
             ],
             [
              0.1111111111111111,
              "#46039f"
             ],
             [
              0.2222222222222222,
              "#7201a8"
             ],
             [
              0.3333333333333333,
              "#9c179e"
             ],
             [
              0.4444444444444444,
              "#bd3786"
             ],
             [
              0.5555555555555556,
              "#d8576b"
             ],
             [
              0.6666666666666666,
              "#ed7953"
             ],
             [
              0.7777777777777778,
              "#fb9f3a"
             ],
             [
              0.8888888888888888,
              "#fdca26"
             ],
             [
              1,
              "#f0f921"
             ]
            ],
            "type": "surface"
           }
          ],
          "table": [
           {
            "cells": {
             "fill": {
              "color": "#EBF0F8"
             },
             "line": {
              "color": "white"
             }
            },
            "header": {
             "fill": {
              "color": "#C8D4E3"
             },
             "line": {
              "color": "white"
             }
            },
            "type": "table"
           }
          ]
         },
         "layout": {
          "annotationdefaults": {
           "arrowcolor": "#2a3f5f",
           "arrowhead": 0,
           "arrowwidth": 1
          },
          "autotypenumbers": "strict",
          "coloraxis": {
           "colorbar": {
            "outlinewidth": 0,
            "ticks": ""
           }
          },
          "colorscale": {
           "diverging": [
            [
             0,
             "#8e0152"
            ],
            [
             0.1,
             "#c51b7d"
            ],
            [
             0.2,
             "#de77ae"
            ],
            [
             0.3,
             "#f1b6da"
            ],
            [
             0.4,
             "#fde0ef"
            ],
            [
             0.5,
             "#f7f7f7"
            ],
            [
             0.6,
             "#e6f5d0"
            ],
            [
             0.7,
             "#b8e186"
            ],
            [
             0.8,
             "#7fbc41"
            ],
            [
             0.9,
             "#4d9221"
            ],
            [
             1,
             "#276419"
            ]
           ],
           "sequential": [
            [
             0,
             "#0d0887"
            ],
            [
             0.1111111111111111,
             "#46039f"
            ],
            [
             0.2222222222222222,
             "#7201a8"
            ],
            [
             0.3333333333333333,
             "#9c179e"
            ],
            [
             0.4444444444444444,
             "#bd3786"
            ],
            [
             0.5555555555555556,
             "#d8576b"
            ],
            [
             0.6666666666666666,
             "#ed7953"
            ],
            [
             0.7777777777777778,
             "#fb9f3a"
            ],
            [
             0.8888888888888888,
             "#fdca26"
            ],
            [
             1,
             "#f0f921"
            ]
           ],
           "sequentialminus": [
            [
             0,
             "#0d0887"
            ],
            [
             0.1111111111111111,
             "#46039f"
            ],
            [
             0.2222222222222222,
             "#7201a8"
            ],
            [
             0.3333333333333333,
             "#9c179e"
            ],
            [
             0.4444444444444444,
             "#bd3786"
            ],
            [
             0.5555555555555556,
             "#d8576b"
            ],
            [
             0.6666666666666666,
             "#ed7953"
            ],
            [
             0.7777777777777778,
             "#fb9f3a"
            ],
            [
             0.8888888888888888,
             "#fdca26"
            ],
            [
             1,
             "#f0f921"
            ]
           ]
          },
          "colorway": [
           "#636efa",
           "#EF553B",
           "#00cc96",
           "#ab63fa",
           "#FFA15A",
           "#19d3f3",
           "#FF6692",
           "#B6E880",
           "#FF97FF",
           "#FECB52"
          ],
          "font": {
           "color": "#2a3f5f"
          },
          "geo": {
           "bgcolor": "white",
           "lakecolor": "white",
           "landcolor": "white",
           "showlakes": true,
           "showland": true,
           "subunitcolor": "#C8D4E3"
          },
          "hoverlabel": {
           "align": "left"
          },
          "hovermode": "closest",
          "mapbox": {
           "style": "light"
          },
          "paper_bgcolor": "white",
          "plot_bgcolor": "white",
          "polar": {
           "angularaxis": {
            "gridcolor": "#EBF0F8",
            "linecolor": "#EBF0F8",
            "ticks": ""
           },
           "bgcolor": "white",
           "radialaxis": {
            "gridcolor": "#EBF0F8",
            "linecolor": "#EBF0F8",
            "ticks": ""
           }
          },
          "scene": {
           "xaxis": {
            "backgroundcolor": "white",
            "gridcolor": "#DFE8F3",
            "gridwidth": 2,
            "linecolor": "#EBF0F8",
            "showbackground": true,
            "ticks": "",
            "zerolinecolor": "#EBF0F8"
           },
           "yaxis": {
            "backgroundcolor": "white",
            "gridcolor": "#DFE8F3",
            "gridwidth": 2,
            "linecolor": "#EBF0F8",
            "showbackground": true,
            "ticks": "",
            "zerolinecolor": "#EBF0F8"
           },
           "zaxis": {
            "backgroundcolor": "white",
            "gridcolor": "#DFE8F3",
            "gridwidth": 2,
            "linecolor": "#EBF0F8",
            "showbackground": true,
            "ticks": "",
            "zerolinecolor": "#EBF0F8"
           }
          },
          "shapedefaults": {
           "line": {
            "color": "#2a3f5f"
           }
          },
          "ternary": {
           "aaxis": {
            "gridcolor": "#DFE8F3",
            "linecolor": "#A2B1C6",
            "ticks": ""
           },
           "baxis": {
            "gridcolor": "#DFE8F3",
            "linecolor": "#A2B1C6",
            "ticks": ""
           },
           "bgcolor": "white",
           "caxis": {
            "gridcolor": "#DFE8F3",
            "linecolor": "#A2B1C6",
            "ticks": ""
           }
          },
          "title": {
           "x": 0.05
          },
          "xaxis": {
           "automargin": true,
           "gridcolor": "#EBF0F8",
           "linecolor": "#EBF0F8",
           "ticks": "",
           "title": {
            "standoff": 15
           },
           "zerolinecolor": "#EBF0F8",
           "zerolinewidth": 2
          },
          "yaxis": {
           "automargin": true,
           "gridcolor": "#EBF0F8",
           "linecolor": "#EBF0F8",
           "ticks": "",
           "title": {
            "standoff": 15
           },
           "zerolinecolor": "#EBF0F8",
           "zerolinewidth": 2
          }
         }
        },
        "width": 800,
        "xaxis": {
         "title": {
          "text": "Video Position"
         }
        },
        "yaxis": {
         "title": {
          "text": "Average Target Hashtag Count"
         }
        }
       }
      }
     },
     "metadata": {},
     "output_type": "display_data"
    },
    {
     "data": {
      "application/vnd.plotly.v1+json": {
       "config": {
        "plotlyServerURL": "https://plot.ly"
       },
       "data": [
        {
         "line": {
          "color": "rgba(99, 110, 250, 0.5)"
         },
         "marker": {
          "color": "rgba(99, 110, 250, 0.5)"
         },
         "mode": "lines+markers",
         "name": "Likes hashtags experiment (ρ=0.37, p=0.039)",
         "type": "scatter",
         "x": [
          25,
          75,
          125,
          175,
          225,
          275,
          325,
          375,
          425,
          475,
          525,
          575,
          625,
          675,
          725,
          775,
          825,
          875,
          925,
          975,
          1025,
          1075,
          1125,
          1175,
          1225,
          1275,
          1325,
          1375,
          1425,
          1475,
          1525
         ],
         "y": [
          0.43,
          0.36,
          0.43000000000000005,
          0.25,
          0.39,
          0.22999999999999998,
          0.21000000000000002,
          0.42,
          0.19,
          0.22999999999999998,
          0.21,
          0.17,
          0.24000000000000002,
          0.23,
          0.28,
          0.24,
          0.1,
          0.08,
          0.18,
          0.06,
          0.12,
          0.5,
          0.4,
          0.68,
          0.62,
          0.76,
          0.4,
          0.6,
          0.52,
          0.46,
          0.56
         ]
        },
        {
         "line": {
          "color": "rgba(99, 110, 250, 0.5)",
          "dash": "dash"
         },
         "mode": "lines",
         "showlegend": false,
         "type": "scatter",
         "x": [
          25,
          75,
          125,
          175,
          225,
          275,
          325,
          375,
          425,
          475,
          525,
          575,
          625,
          675,
          725,
          775,
          825,
          875,
          925,
          975,
          1025,
          1075,
          1125,
          1175,
          1225,
          1275,
          1325,
          1375,
          1425,
          1475,
          1525
         ],
         "y": [
          0.21064516129032235,
          0.21929032258064493,
          0.22793548387096751,
          0.2365806451612901,
          0.2452258064516127,
          0.2538709677419353,
          0.2625161290322579,
          0.27116129032258046,
          0.2798064516129031,
          0.28845161290322563,
          0.29709677419354824,
          0.30574193548387085,
          0.3143870967741934,
          0.323032258064516,
          0.33167741935483863,
          0.3403225806451612,
          0.3489677419354838,
          0.3576129032258064,
          0.36625806451612897,
          0.3749032258064515,
          0.3835483870967742,
          0.39219354838709675,
          0.4008387096774193,
          0.40948387096774197,
          0.4181290322580645,
          0.4267741935483871,
          0.4354193548387097,
          0.4440645161290323,
          0.45270967741935486,
          0.46135483870967753,
          0.4700000000000001
         ]
        },
        {
         "line": {
          "color": "rgba(239, 85, 59, 0.5)"
         },
         "marker": {
          "color": "rgba(239, 85, 59, 0.5)"
         },
         "mode": "lines+markers",
         "name": "Watch longer hashtags experiment (ρ=0.60, p=0.002)",
         "type": "scatter",
         "x": [
          25,
          75,
          125,
          175,
          225,
          275,
          325,
          375,
          425,
          475,
          525,
          575,
          625,
          675,
          725,
          775,
          825,
          875,
          925,
          975,
          1025,
          1075,
          1125
         ],
         "y": [
          0.29200000000000004,
          0.24000000000000005,
          0.23200000000000004,
          0.21999999999999997,
          0.17600000000000002,
          0.3,
          0.292,
          0.29200000000000004,
          0.30000000000000004,
          0.26399999999999996,
          0.328,
          0.36000000000000004,
          0.368,
          0.372,
          0.336,
          0.23,
          0.28,
          0.22999999999999998,
          0.42499999999999993,
          0.345,
          0.36000000000000004,
          0.54,
          0.4
         ]
        },
        {
         "line": {
          "color": "rgba(239, 85, 59, 0.5)",
          "dash": "dash"
         },
         "mode": "lines",
         "showlegend": false,
         "type": "scatter",
         "x": [
          25,
          75,
          125,
          175,
          225,
          275,
          325,
          375,
          425,
          475,
          525,
          575,
          625,
          675,
          725,
          775,
          825,
          875,
          925,
          975,
          1025,
          1075,
          1125
         ],
         "y": [
          0.22835869565217398,
          0.2359861660079052,
          0.24361363636363642,
          0.2512411067193676,
          0.25886857707509886,
          0.2664960474308301,
          0.2741235177865613,
          0.28175098814229255,
          0.28937845849802374,
          0.297005928853755,
          0.3046333992094862,
          0.3122608695652174,
          0.31988833992094867,
          0.32751581027667986,
          0.3351432806324111,
          0.3427707509881423,
          0.35039822134387355,
          0.35802569169960474,
          0.365653162055336,
          0.37328063241106724,
          0.38090810276679843,
          0.3885355731225296,
          0.39616304347826087
         ]
        }
       ],
       "layout": {
        "legend": {
         "orientation": "h",
         "x": 0.5,
         "xanchor": "center",
         "y": 1.02,
         "yanchor": "bottom"
        },
        "margin": {
         "b": 1,
         "l": 20,
         "r": 20,
         "t": 1
        },
        "template": {
         "data": {
          "bar": [
           {
            "error_x": {
             "color": "#2a3f5f"
            },
            "error_y": {
             "color": "#2a3f5f"
            },
            "marker": {
             "line": {
              "color": "white",
              "width": 0.5
             },
             "pattern": {
              "fillmode": "overlay",
              "size": 10,
              "solidity": 0.2
             }
            },
            "type": "bar"
           }
          ],
          "barpolar": [
           {
            "marker": {
             "line": {
              "color": "white",
              "width": 0.5
             },
             "pattern": {
              "fillmode": "overlay",
              "size": 10,
              "solidity": 0.2
             }
            },
            "type": "barpolar"
           }
          ],
          "carpet": [
           {
            "aaxis": {
             "endlinecolor": "#2a3f5f",
             "gridcolor": "#C8D4E3",
             "linecolor": "#C8D4E3",
             "minorgridcolor": "#C8D4E3",
             "startlinecolor": "#2a3f5f"
            },
            "baxis": {
             "endlinecolor": "#2a3f5f",
             "gridcolor": "#C8D4E3",
             "linecolor": "#C8D4E3",
             "minorgridcolor": "#C8D4E3",
             "startlinecolor": "#2a3f5f"
            },
            "type": "carpet"
           }
          ],
          "choropleth": [
           {
            "colorbar": {
             "outlinewidth": 0,
             "ticks": ""
            },
            "type": "choropleth"
           }
          ],
          "contour": [
           {
            "colorbar": {
             "outlinewidth": 0,
             "ticks": ""
            },
            "colorscale": [
             [
              0,
              "#0d0887"
             ],
             [
              0.1111111111111111,
              "#46039f"
             ],
             [
              0.2222222222222222,
              "#7201a8"
             ],
             [
              0.3333333333333333,
              "#9c179e"
             ],
             [
              0.4444444444444444,
              "#bd3786"
             ],
             [
              0.5555555555555556,
              "#d8576b"
             ],
             [
              0.6666666666666666,
              "#ed7953"
             ],
             [
              0.7777777777777778,
              "#fb9f3a"
             ],
             [
              0.8888888888888888,
              "#fdca26"
             ],
             [
              1,
              "#f0f921"
             ]
            ],
            "type": "contour"
           }
          ],
          "contourcarpet": [
           {
            "colorbar": {
             "outlinewidth": 0,
             "ticks": ""
            },
            "type": "contourcarpet"
           }
          ],
          "heatmap": [
           {
            "colorbar": {
             "outlinewidth": 0,
             "ticks": ""
            },
            "colorscale": [
             [
              0,
              "#0d0887"
             ],
             [
              0.1111111111111111,
              "#46039f"
             ],
             [
              0.2222222222222222,
              "#7201a8"
             ],
             [
              0.3333333333333333,
              "#9c179e"
             ],
             [
              0.4444444444444444,
              "#bd3786"
             ],
             [
              0.5555555555555556,
              "#d8576b"
             ],
             [
              0.6666666666666666,
              "#ed7953"
             ],
             [
              0.7777777777777778,
              "#fb9f3a"
             ],
             [
              0.8888888888888888,
              "#fdca26"
             ],
             [
              1,
              "#f0f921"
             ]
            ],
            "type": "heatmap"
           }
          ],
          "heatmapgl": [
           {
            "colorbar": {
             "outlinewidth": 0,
             "ticks": ""
            },
            "colorscale": [
             [
              0,
              "#0d0887"
             ],
             [
              0.1111111111111111,
              "#46039f"
             ],
             [
              0.2222222222222222,
              "#7201a8"
             ],
             [
              0.3333333333333333,
              "#9c179e"
             ],
             [
              0.4444444444444444,
              "#bd3786"
             ],
             [
              0.5555555555555556,
              "#d8576b"
             ],
             [
              0.6666666666666666,
              "#ed7953"
             ],
             [
              0.7777777777777778,
              "#fb9f3a"
             ],
             [
              0.8888888888888888,
              "#fdca26"
             ],
             [
              1,
              "#f0f921"
             ]
            ],
            "type": "heatmapgl"
           }
          ],
          "histogram": [
           {
            "marker": {
             "pattern": {
              "fillmode": "overlay",
              "size": 10,
              "solidity": 0.2
             }
            },
            "type": "histogram"
           }
          ],
          "histogram2d": [
           {
            "colorbar": {
             "outlinewidth": 0,
             "ticks": ""
            },
            "colorscale": [
             [
              0,
              "#0d0887"
             ],
             [
              0.1111111111111111,
              "#46039f"
             ],
             [
              0.2222222222222222,
              "#7201a8"
             ],
             [
              0.3333333333333333,
              "#9c179e"
             ],
             [
              0.4444444444444444,
              "#bd3786"
             ],
             [
              0.5555555555555556,
              "#d8576b"
             ],
             [
              0.6666666666666666,
              "#ed7953"
             ],
             [
              0.7777777777777778,
              "#fb9f3a"
             ],
             [
              0.8888888888888888,
              "#fdca26"
             ],
             [
              1,
              "#f0f921"
             ]
            ],
            "type": "histogram2d"
           }
          ],
          "histogram2dcontour": [
           {
            "colorbar": {
             "outlinewidth": 0,
             "ticks": ""
            },
            "colorscale": [
             [
              0,
              "#0d0887"
             ],
             [
              0.1111111111111111,
              "#46039f"
             ],
             [
              0.2222222222222222,
              "#7201a8"
             ],
             [
              0.3333333333333333,
              "#9c179e"
             ],
             [
              0.4444444444444444,
              "#bd3786"
             ],
             [
              0.5555555555555556,
              "#d8576b"
             ],
             [
              0.6666666666666666,
              "#ed7953"
             ],
             [
              0.7777777777777778,
              "#fb9f3a"
             ],
             [
              0.8888888888888888,
              "#fdca26"
             ],
             [
              1,
              "#f0f921"
             ]
            ],
            "type": "histogram2dcontour"
           }
          ],
          "mesh3d": [
           {
            "colorbar": {
             "outlinewidth": 0,
             "ticks": ""
            },
            "type": "mesh3d"
           }
          ],
          "parcoords": [
           {
            "line": {
             "colorbar": {
              "outlinewidth": 0,
              "ticks": ""
             }
            },
            "type": "parcoords"
           }
          ],
          "pie": [
           {
            "automargin": true,
            "type": "pie"
           }
          ],
          "scatter": [
           {
            "fillpattern": {
             "fillmode": "overlay",
             "size": 10,
             "solidity": 0.2
            },
            "type": "scatter"
           }
          ],
          "scatter3d": [
           {
            "line": {
             "colorbar": {
              "outlinewidth": 0,
              "ticks": ""
             }
            },
            "marker": {
             "colorbar": {
              "outlinewidth": 0,
              "ticks": ""
             }
            },
            "type": "scatter3d"
           }
          ],
          "scattercarpet": [
           {
            "marker": {
             "colorbar": {
              "outlinewidth": 0,
              "ticks": ""
             }
            },
            "type": "scattercarpet"
           }
          ],
          "scattergeo": [
           {
            "marker": {
             "colorbar": {
              "outlinewidth": 0,
              "ticks": ""
             }
            },
            "type": "scattergeo"
           }
          ],
          "scattergl": [
           {
            "marker": {
             "colorbar": {
              "outlinewidth": 0,
              "ticks": ""
             }
            },
            "type": "scattergl"
           }
          ],
          "scattermapbox": [
           {
            "marker": {
             "colorbar": {
              "outlinewidth": 0,
              "ticks": ""
             }
            },
            "type": "scattermapbox"
           }
          ],
          "scatterpolar": [
           {
            "marker": {
             "colorbar": {
              "outlinewidth": 0,
              "ticks": ""
             }
            },
            "type": "scatterpolar"
           }
          ],
          "scatterpolargl": [
           {
            "marker": {
             "colorbar": {
              "outlinewidth": 0,
              "ticks": ""
             }
            },
            "type": "scatterpolargl"
           }
          ],
          "scatterternary": [
           {
            "marker": {
             "colorbar": {
              "outlinewidth": 0,
              "ticks": ""
             }
            },
            "type": "scatterternary"
           }
          ],
          "surface": [
           {
            "colorbar": {
             "outlinewidth": 0,
             "ticks": ""
            },
            "colorscale": [
             [
              0,
              "#0d0887"
             ],
             [
              0.1111111111111111,
              "#46039f"
             ],
             [
              0.2222222222222222,
              "#7201a8"
             ],
             [
              0.3333333333333333,
              "#9c179e"
             ],
             [
              0.4444444444444444,
              "#bd3786"
             ],
             [
              0.5555555555555556,
              "#d8576b"
             ],
             [
              0.6666666666666666,
              "#ed7953"
             ],
             [
              0.7777777777777778,
              "#fb9f3a"
             ],
             [
              0.8888888888888888,
              "#fdca26"
             ],
             [
              1,
              "#f0f921"
             ]
            ],
            "type": "surface"
           }
          ],
          "table": [
           {
            "cells": {
             "fill": {
              "color": "#EBF0F8"
             },
             "line": {
              "color": "white"
             }
            },
            "header": {
             "fill": {
              "color": "#C8D4E3"
             },
             "line": {
              "color": "white"
             }
            },
            "type": "table"
           }
          ]
         },
         "layout": {
          "annotationdefaults": {
           "arrowcolor": "#2a3f5f",
           "arrowhead": 0,
           "arrowwidth": 1
          },
          "autotypenumbers": "strict",
          "coloraxis": {
           "colorbar": {
            "outlinewidth": 0,
            "ticks": ""
           }
          },
          "colorscale": {
           "diverging": [
            [
             0,
             "#8e0152"
            ],
            [
             0.1,
             "#c51b7d"
            ],
            [
             0.2,
             "#de77ae"
            ],
            [
             0.3,
             "#f1b6da"
            ],
            [
             0.4,
             "#fde0ef"
            ],
            [
             0.5,
             "#f7f7f7"
            ],
            [
             0.6,
             "#e6f5d0"
            ],
            [
             0.7,
             "#b8e186"
            ],
            [
             0.8,
             "#7fbc41"
            ],
            [
             0.9,
             "#4d9221"
            ],
            [
             1,
             "#276419"
            ]
           ],
           "sequential": [
            [
             0,
             "#0d0887"
            ],
            [
             0.1111111111111111,
             "#46039f"
            ],
            [
             0.2222222222222222,
             "#7201a8"
            ],
            [
             0.3333333333333333,
             "#9c179e"
            ],
            [
             0.4444444444444444,
             "#bd3786"
            ],
            [
             0.5555555555555556,
             "#d8576b"
            ],
            [
             0.6666666666666666,
             "#ed7953"
            ],
            [
             0.7777777777777778,
             "#fb9f3a"
            ],
            [
             0.8888888888888888,
             "#fdca26"
            ],
            [
             1,
             "#f0f921"
            ]
           ],
           "sequentialminus": [
            [
             0,
             "#0d0887"
            ],
            [
             0.1111111111111111,
             "#46039f"
            ],
            [
             0.2222222222222222,
             "#7201a8"
            ],
            [
             0.3333333333333333,
             "#9c179e"
            ],
            [
             0.4444444444444444,
             "#bd3786"
            ],
            [
             0.5555555555555556,
             "#d8576b"
            ],
            [
             0.6666666666666666,
             "#ed7953"
            ],
            [
             0.7777777777777778,
             "#fb9f3a"
            ],
            [
             0.8888888888888888,
             "#fdca26"
            ],
            [
             1,
             "#f0f921"
            ]
           ]
          },
          "colorway": [
           "#636efa",
           "#EF553B",
           "#00cc96",
           "#ab63fa",
           "#FFA15A",
           "#19d3f3",
           "#FF6692",
           "#B6E880",
           "#FF97FF",
           "#FECB52"
          ],
          "font": {
           "color": "#2a3f5f"
          },
          "geo": {
           "bgcolor": "white",
           "lakecolor": "white",
           "landcolor": "white",
           "showlakes": true,
           "showland": true,
           "subunitcolor": "#C8D4E3"
          },
          "hoverlabel": {
           "align": "left"
          },
          "hovermode": "closest",
          "mapbox": {
           "style": "light"
          },
          "paper_bgcolor": "white",
          "plot_bgcolor": "white",
          "polar": {
           "angularaxis": {
            "gridcolor": "#EBF0F8",
            "linecolor": "#EBF0F8",
            "ticks": ""
           },
           "bgcolor": "white",
           "radialaxis": {
            "gridcolor": "#EBF0F8",
            "linecolor": "#EBF0F8",
            "ticks": ""
           }
          },
          "scene": {
           "xaxis": {
            "backgroundcolor": "white",
            "gridcolor": "#DFE8F3",
            "gridwidth": 2,
            "linecolor": "#EBF0F8",
            "showbackground": true,
            "ticks": "",
            "zerolinecolor": "#EBF0F8"
           },
           "yaxis": {
            "backgroundcolor": "white",
            "gridcolor": "#DFE8F3",
            "gridwidth": 2,
            "linecolor": "#EBF0F8",
            "showbackground": true,
            "ticks": "",
            "zerolinecolor": "#EBF0F8"
           },
           "zaxis": {
            "backgroundcolor": "white",
            "gridcolor": "#DFE8F3",
            "gridwidth": 2,
            "linecolor": "#EBF0F8",
            "showbackground": true,
            "ticks": "",
            "zerolinecolor": "#EBF0F8"
           }
          },
          "shapedefaults": {
           "line": {
            "color": "#2a3f5f"
           }
          },
          "ternary": {
           "aaxis": {
            "gridcolor": "#DFE8F3",
            "linecolor": "#A2B1C6",
            "ticks": ""
           },
           "baxis": {
            "gridcolor": "#DFE8F3",
            "linecolor": "#A2B1C6",
            "ticks": ""
           },
           "bgcolor": "white",
           "caxis": {
            "gridcolor": "#DFE8F3",
            "linecolor": "#A2B1C6",
            "ticks": ""
           }
          },
          "title": {
           "x": 0.05
          },
          "xaxis": {
           "automargin": true,
           "gridcolor": "#EBF0F8",
           "linecolor": "#EBF0F8",
           "ticks": "",
           "title": {
            "standoff": 15
           },
           "zerolinecolor": "#EBF0F8",
           "zerolinewidth": 2
          },
          "yaxis": {
           "automargin": true,
           "gridcolor": "#EBF0F8",
           "linecolor": "#EBF0F8",
           "ticks": "",
           "title": {
            "standoff": 15
           },
           "zerolinecolor": "#EBF0F8",
           "zerolinewidth": 2
          }
         }
        },
        "width": 800,
        "xaxis": {
         "title": {
          "text": "Number of watched videos"
         }
        },
        "yaxis": {
         "title": {
          "text": "Average Target Hashtag Count"
         }
        }
       }
      }
     },
     "metadata": {},
     "output_type": "display_data"
    }
   ],
   "source": [
    "test_scenarios = [18,22,38,39,40,41,42] # All scenarios to work with\n",
    "aggregate_groups = [[18,22],[38,39,40,41,42]] # Aggregate by groups \n",
    "group_labels = {\n",
    "    (18,22): 'Likes hashtags',\n",
    "    (38,39,40,41,42): 'Watch longer hashtags'\n",
    "}\n",
    "\n",
    "analysis_results = analyze_and_plot_target_hashtags_agg(\n",
    "    data_combined=data_combined,\n",
    "    scenarios=test_scenarios,\n",
    "    target_hashtags=target_hashtags,\n",
    "    bucket_size=50, # Size of the buckets for the rolling average\n",
    "    plot_type='experiment',  # Can be 'control', 'experiment' or 'both'\n",
    "    aggregate_scenarios=aggregate_groups,\n",
    "    legend_labels=group_labels\n",
    ")"
   ]
  },
  {
   "cell_type": "code",
   "execution_count": 17,
   "metadata": {},
   "outputs": [
    {
     "data": {
      "application/vnd.plotly.v1+json": {
       "config": {
        "plotlyServerURL": "https://plot.ly"
       },
       "data": [
        {
         "line": {
          "color": "#636EFA"
         },
         "marker": {
          "color": "#636EFA"
         },
         "mode": "lines+markers",
         "name": "Scenario 18 experiment (ρ=0.32, p=0.075)",
         "type": "scatter",
         "x": [
          25,
          75,
          125,
          175,
          225,
          275,
          325,
          375,
          425,
          475,
          525,
          575,
          625,
          675,
          725,
          775,
          825,
          875,
          925,
          975,
          1025,
          1075,
          1125,
          1175,
          1225,
          1275,
          1325,
          1375,
          1425,
          1475,
          1525
         ],
         "y": [
          0.42,
          0.38,
          0.52,
          0.3,
          0.52,
          0.16,
          0.16,
          0.42,
          0.16,
          0.22,
          0.18,
          0.06,
          0.08,
          0.06,
          0.2,
          0.1,
          0.1,
          0.08,
          0.18,
          0.06,
          0.12,
          0.5,
          0.4,
          0.68,
          0.62,
          0.76,
          0.4,
          0.6,
          0.52,
          0.46,
          0.56
         ]
        },
        {
         "line": {
          "color": "#636EFA",
          "dash": "dash"
         },
         "mode": "lines",
         "showlegend": false,
         "type": "scatter",
         "x": [
          25,
          75,
          125,
          175,
          225,
          275,
          325,
          375,
          425,
          475,
          525,
          575,
          625,
          675,
          725,
          775,
          825,
          875,
          925,
          975,
          1025,
          1075,
          1125,
          1175,
          1225,
          1275,
          1325,
          1375,
          1425,
          1475,
          1525
         ],
         "y": [
          0.19479838709677394,
          0.20327419354838686,
          0.21174999999999977,
          0.2202258064516127,
          0.2287016129032256,
          0.23717741935483852,
          0.24565322580645144,
          0.2541290322580643,
          0.26260483870967727,
          0.27108064516129016,
          0.2795564516129031,
          0.288032258064516,
          0.2965080645161289,
          0.3049838709677418,
          0.3134596774193547,
          0.3219354838709676,
          0.33041129032258054,
          0.3388870967741935,
          0.3473629032258064,
          0.35583870967741926,
          0.3643145161290322,
          0.37279032258064515,
          0.381266129032258,
          0.3897419354838709,
          0.39821774193548387,
          0.40669354838709676,
          0.41516935483870965,
          0.4236451612903226,
          0.43212096774193554,
          0.44059677419354837,
          0.4490725806451613
         ]
        },
        {
         "line": {
          "color": "#EF553B"
         },
         "marker": {
          "color": "#EF553B"
         },
         "mode": "lines+markers",
         "name": "Scenario 22 experiment (ρ=0.13, p=0.644)",
         "type": "scatter",
         "x": [
          25,
          75,
          125,
          175,
          225,
          275,
          325,
          375,
          425,
          475,
          525,
          575,
          625,
          675,
          725,
          775
         ],
         "y": [
          0.44,
          0.34,
          0.34,
          0.2,
          0.26,
          0.3,
          0.26,
          0.42,
          0.22,
          0.24,
          0.24,
          0.28,
          0.4,
          0.4,
          0.36,
          0.38
         ]
        },
        {
         "line": {
          "color": "#EF553B",
          "dash": "dash"
         },
         "mode": "lines",
         "showlegend": false,
         "type": "scatter",
         "x": [
          25,
          75,
          125,
          175,
          225,
          275,
          325,
          375,
          425,
          475,
          525,
          575,
          625,
          675,
          725,
          775
         ],
         "y": [
          0.3020588235294115,
          0.30411764705882327,
          0.30617647058823505,
          0.30823529411764683,
          0.3102941176470586,
          0.3123529411764704,
          0.31441176470588217,
          0.31647058823529395,
          0.3185294117647057,
          0.3205882352941175,
          0.3226470588235293,
          0.32470588235294107,
          0.32676470588235285,
          0.3288235294117646,
          0.3308823529411764,
          0.3329411764705882
         ]
        },
        {
         "line": {
          "color": "#00CC96"
         },
         "marker": {
          "color": "#00CC96"
         },
         "mode": "lines+markers",
         "name": "Scenario 38 experiment (ρ=0.14, p=0.557)",
         "type": "scatter",
         "x": [
          25,
          75,
          125,
          175,
          225,
          275,
          325,
          375,
          425,
          475,
          525,
          575,
          625,
          675,
          725,
          775,
          825,
          875,
          925,
          975
         ],
         "y": [
          0.04,
          0.12,
          0.26,
          0.04,
          0.16,
          0.32,
          0.32,
          0.4,
          0.38,
          0.26,
          0.22,
          0.44,
          0.36,
          0.34,
          0.36,
          0.16,
          0.16,
          0.08,
          0.24,
          0.2
         ]
        },
        {
         "line": {
          "color": "#00CC96",
          "dash": "dash"
         },
         "mode": "lines",
         "showlegend": false,
         "type": "scatter",
         "x": [
          25,
          75,
          125,
          175,
          225,
          275,
          325,
          375,
          425,
          475,
          525,
          575,
          625,
          675,
          725,
          775,
          825,
          875,
          925,
          975
         ],
         "y": [
          0.21171428571428572,
          0.21500751879699248,
          0.21830075187969925,
          0.221593984962406,
          0.22488721804511275,
          0.2281804511278195,
          0.23147368421052628,
          0.234766917293233,
          0.23806015037593978,
          0.24135338345864654,
          0.24464661654135328,
          0.24793984962406004,
          0.2512330827067668,
          0.25452631578947355,
          0.25781954887218034,
          0.2611127819548871,
          0.2644060150375938,
          0.2676992481203006,
          0.27099248120300734,
          0.27428571428571413
         ]
        },
        {
         "line": {
          "color": "#AB63FA"
         },
         "marker": {
          "color": "#AB63FA"
         },
         "mode": "lines+markers",
         "name": "Scenario 39 experiment (ρ=0.02, p=0.939)",
         "type": "scatter",
         "x": [
          25,
          75,
          125,
          175,
          225,
          275,
          325,
          375,
          425,
          475,
          525,
          575,
          625,
          675,
          725
         ],
         "y": [
          0.48,
          0.46,
          0.34,
          0.38,
          0.18,
          0.46,
          0.34,
          0.3,
          0.38,
          0.42,
          0.44,
          0.34,
          0.46,
          0.48,
          0.36
         ]
        },
        {
         "line": {
          "color": "#AB63FA",
          "dash": "dash"
         },
         "mode": "lines",
         "showlegend": false,
         "type": "scatter",
         "x": [
          25,
          75,
          125,
          175,
          225,
          275,
          325,
          375,
          425,
          475,
          525,
          575,
          625,
          675,
          725
         ],
         "y": [
          0.37649999999999995,
          0.37814285714285706,
          0.3797857142857142,
          0.38142857142857134,
          0.3830714285714285,
          0.3847142857142857,
          0.3863571428571428,
          0.38799999999999996,
          0.38964285714285707,
          0.39128571428571424,
          0.39292857142857135,
          0.3945714285714285,
          0.39621428571428563,
          0.3978571428571428,
          0.3994999999999999
         ]
        },
        {
         "line": {
          "color": "#FFA15A"
         },
         "marker": {
          "color": "#FFA15A"
         },
         "mode": "lines+markers",
         "name": "Scenario 40 experiment (ρ=0.38, p=0.085)",
         "type": "scatter",
         "x": [
          25,
          75,
          125,
          175,
          225,
          275,
          325,
          375,
          425,
          475,
          525,
          575,
          625,
          675,
          725,
          775,
          825,
          875,
          925,
          975,
          1025
         ],
         "y": [
          0.38,
          0.34,
          0.18,
          0.26,
          0.2,
          0.34,
          0.26,
          0.34,
          0.36,
          0.2,
          0.52,
          0.36,
          0.4,
          0.44,
          0.4,
          0.36,
          0.34,
          0.22,
          0.46,
          0.48,
          0.32
         ]
        },
        {
         "line": {
          "color": "#FFA15A",
          "dash": "dash"
         },
         "mode": "lines",
         "showlegend": false,
         "type": "scatter",
         "x": [
          25,
          75,
          125,
          175,
          225,
          275,
          325,
          375,
          425,
          475,
          525,
          575,
          625,
          675,
          725,
          775,
          825,
          875,
          925,
          975,
          1025
         ],
         "y": [
          0.2804329004329004,
          0.28648484848484845,
          0.29253679653679654,
          0.29858874458874457,
          0.30464069264069266,
          0.3106926406926407,
          0.3167445887445888,
          0.3227965367965368,
          0.3288484848484849,
          0.3349004329004329,
          0.340952380952381,
          0.3470043290043291,
          0.3530562770562771,
          0.35910822510822515,
          0.36516017316017324,
          0.3712121212121213,
          0.37726406926406936,
          0.38331601731601744,
          0.3893679653679655,
          0.39541991341991356,
          0.4014718614718616
         ]
        },
        {
         "line": {
          "color": "#19D3F3"
         },
         "marker": {
          "color": "#19D3F3"
         },
         "mode": "lines+markers",
         "name": "Scenario 41 experiment (ρ=0.72, p=0.000)",
         "type": "scatter",
         "x": [
          25,
          75,
          125,
          175,
          225,
          275,
          325,
          375,
          425,
          475,
          525,
          575,
          625,
          675,
          725,
          775,
          825,
          875,
          925,
          975,
          1025,
          1075,
          1125
         ],
         "y": [
          0.22,
          0.06,
          0.16,
          0.2,
          0.14,
          0.16,
          0.12,
          0.12,
          0.08,
          0.18,
          0.18,
          0.28,
          0.2,
          0.26,
          0.18,
          0.12,
          0.26,
          0.3,
          0.58,
          0.34,
          0.36,
          0.54,
          0.4
         ]
        },
        {
         "line": {
          "color": "#19D3F3",
          "dash": "dash"
         },
         "mode": "lines",
         "showlegend": false,
         "type": "scatter",
         "x": [
          25,
          75,
          125,
          175,
          225,
          275,
          325,
          375,
          425,
          475,
          525,
          575,
          625,
          675,
          725,
          775,
          825,
          875,
          925,
          975,
          1025,
          1075,
          1125
         ],
         "y": [
          0.0756521739130435,
          0.09027667984189727,
          0.10490118577075103,
          0.11952569169960478,
          0.13415019762845853,
          0.1487747035573123,
          0.16339920948616604,
          0.17802371541501982,
          0.19264822134387355,
          0.20727272727272733,
          0.22189723320158108,
          0.23652173913043484,
          0.2511462450592886,
          0.26577075098814235,
          0.28039525691699607,
          0.29501976284584985,
          0.30964426877470363,
          0.32426877470355736,
          0.33889328063241114,
          0.3535177865612649,
          0.36814229249011865,
          0.38276679841897243,
          0.39739130434782616
         ]
        },
        {
         "line": {
          "color": "#FF6692"
         },
         "marker": {
          "color": "#FF6692"
         },
         "mode": "lines+markers",
         "name": "Scenario 42 experiment (ρ=0.61, p=0.003)",
         "type": "scatter",
         "x": [
          25,
          75,
          125,
          175,
          225,
          275,
          325,
          375,
          425,
          475,
          525,
          575,
          625,
          675,
          725,
          775,
          825,
          875,
          925,
          975,
          1025
         ],
         "y": [
          0.34,
          0.22,
          0.22,
          0.22,
          0.2,
          0.22,
          0.42,
          0.3,
          0.3,
          0.26,
          0.28,
          0.38,
          0.42,
          0.34,
          0.38,
          0.28,
          0.36,
          0.32,
          0.42,
          0.36,
          0.4
         ]
        },
        {
         "line": {
          "color": "#FF6692",
          "dash": "dash"
         },
         "mode": "lines",
         "showlegend": false,
         "type": "scatter",
         "x": [
          25,
          75,
          125,
          175,
          225,
          275,
          325,
          375,
          425,
          475,
          525,
          575,
          625,
          675,
          725,
          775,
          825,
          875,
          925,
          975,
          1025
         ],
         "y": [
          0.24164502164502172,
          0.24909956709956718,
          0.25655411255411265,
          0.2640086580086581,
          0.2714632034632036,
          0.278917748917749,
          0.2863722943722945,
          0.29382683982684,
          0.3012813852813854,
          0.3087359307359309,
          0.31619047619047636,
          0.32364502164502185,
          0.3310995670995673,
          0.3385541125541128,
          0.3460086580086582,
          0.3534632034632037,
          0.3609177489177492,
          0.36837229437229463,
          0.37582683982684006,
          0.38328138528138556,
          0.39073593073593105
         ]
        }
       ],
       "layout": {
        "legend": {
         "orientation": "h",
         "x": 0.5,
         "xanchor": "center",
         "y": 1.02,
         "yanchor": "bottom"
        },
        "margin": {
         "b": 50,
         "l": 50,
         "r": 50,
         "t": 50
        },
        "template": {
         "data": {
          "bar": [
           {
            "error_x": {
             "color": "#2a3f5f"
            },
            "error_y": {
             "color": "#2a3f5f"
            },
            "marker": {
             "line": {
              "color": "white",
              "width": 0.5
             },
             "pattern": {
              "fillmode": "overlay",
              "size": 10,
              "solidity": 0.2
             }
            },
            "type": "bar"
           }
          ],
          "barpolar": [
           {
            "marker": {
             "line": {
              "color": "white",
              "width": 0.5
             },
             "pattern": {
              "fillmode": "overlay",
              "size": 10,
              "solidity": 0.2
             }
            },
            "type": "barpolar"
           }
          ],
          "carpet": [
           {
            "aaxis": {
             "endlinecolor": "#2a3f5f",
             "gridcolor": "#C8D4E3",
             "linecolor": "#C8D4E3",
             "minorgridcolor": "#C8D4E3",
             "startlinecolor": "#2a3f5f"
            },
            "baxis": {
             "endlinecolor": "#2a3f5f",
             "gridcolor": "#C8D4E3",
             "linecolor": "#C8D4E3",
             "minorgridcolor": "#C8D4E3",
             "startlinecolor": "#2a3f5f"
            },
            "type": "carpet"
           }
          ],
          "choropleth": [
           {
            "colorbar": {
             "outlinewidth": 0,
             "ticks": ""
            },
            "type": "choropleth"
           }
          ],
          "contour": [
           {
            "colorbar": {
             "outlinewidth": 0,
             "ticks": ""
            },
            "colorscale": [
             [
              0,
              "#0d0887"
             ],
             [
              0.1111111111111111,
              "#46039f"
             ],
             [
              0.2222222222222222,
              "#7201a8"
             ],
             [
              0.3333333333333333,
              "#9c179e"
             ],
             [
              0.4444444444444444,
              "#bd3786"
             ],
             [
              0.5555555555555556,
              "#d8576b"
             ],
             [
              0.6666666666666666,
              "#ed7953"
             ],
             [
              0.7777777777777778,
              "#fb9f3a"
             ],
             [
              0.8888888888888888,
              "#fdca26"
             ],
             [
              1,
              "#f0f921"
             ]
            ],
            "type": "contour"
           }
          ],
          "contourcarpet": [
           {
            "colorbar": {
             "outlinewidth": 0,
             "ticks": ""
            },
            "type": "contourcarpet"
           }
          ],
          "heatmap": [
           {
            "colorbar": {
             "outlinewidth": 0,
             "ticks": ""
            },
            "colorscale": [
             [
              0,
              "#0d0887"
             ],
             [
              0.1111111111111111,
              "#46039f"
             ],
             [
              0.2222222222222222,
              "#7201a8"
             ],
             [
              0.3333333333333333,
              "#9c179e"
             ],
             [
              0.4444444444444444,
              "#bd3786"
             ],
             [
              0.5555555555555556,
              "#d8576b"
             ],
             [
              0.6666666666666666,
              "#ed7953"
             ],
             [
              0.7777777777777778,
              "#fb9f3a"
             ],
             [
              0.8888888888888888,
              "#fdca26"
             ],
             [
              1,
              "#f0f921"
             ]
            ],
            "type": "heatmap"
           }
          ],
          "heatmapgl": [
           {
            "colorbar": {
             "outlinewidth": 0,
             "ticks": ""
            },
            "colorscale": [
             [
              0,
              "#0d0887"
             ],
             [
              0.1111111111111111,
              "#46039f"
             ],
             [
              0.2222222222222222,
              "#7201a8"
             ],
             [
              0.3333333333333333,
              "#9c179e"
             ],
             [
              0.4444444444444444,
              "#bd3786"
             ],
             [
              0.5555555555555556,
              "#d8576b"
             ],
             [
              0.6666666666666666,
              "#ed7953"
             ],
             [
              0.7777777777777778,
              "#fb9f3a"
             ],
             [
              0.8888888888888888,
              "#fdca26"
             ],
             [
              1,
              "#f0f921"
             ]
            ],
            "type": "heatmapgl"
           }
          ],
          "histogram": [
           {
            "marker": {
             "pattern": {
              "fillmode": "overlay",
              "size": 10,
              "solidity": 0.2
             }
            },
            "type": "histogram"
           }
          ],
          "histogram2d": [
           {
            "colorbar": {
             "outlinewidth": 0,
             "ticks": ""
            },
            "colorscale": [
             [
              0,
              "#0d0887"
             ],
             [
              0.1111111111111111,
              "#46039f"
             ],
             [
              0.2222222222222222,
              "#7201a8"
             ],
             [
              0.3333333333333333,
              "#9c179e"
             ],
             [
              0.4444444444444444,
              "#bd3786"
             ],
             [
              0.5555555555555556,
              "#d8576b"
             ],
             [
              0.6666666666666666,
              "#ed7953"
             ],
             [
              0.7777777777777778,
              "#fb9f3a"
             ],
             [
              0.8888888888888888,
              "#fdca26"
             ],
             [
              1,
              "#f0f921"
             ]
            ],
            "type": "histogram2d"
           }
          ],
          "histogram2dcontour": [
           {
            "colorbar": {
             "outlinewidth": 0,
             "ticks": ""
            },
            "colorscale": [
             [
              0,
              "#0d0887"
             ],
             [
              0.1111111111111111,
              "#46039f"
             ],
             [
              0.2222222222222222,
              "#7201a8"
             ],
             [
              0.3333333333333333,
              "#9c179e"
             ],
             [
              0.4444444444444444,
              "#bd3786"
             ],
             [
              0.5555555555555556,
              "#d8576b"
             ],
             [
              0.6666666666666666,
              "#ed7953"
             ],
             [
              0.7777777777777778,
              "#fb9f3a"
             ],
             [
              0.8888888888888888,
              "#fdca26"
             ],
             [
              1,
              "#f0f921"
             ]
            ],
            "type": "histogram2dcontour"
           }
          ],
          "mesh3d": [
           {
            "colorbar": {
             "outlinewidth": 0,
             "ticks": ""
            },
            "type": "mesh3d"
           }
          ],
          "parcoords": [
           {
            "line": {
             "colorbar": {
              "outlinewidth": 0,
              "ticks": ""
             }
            },
            "type": "parcoords"
           }
          ],
          "pie": [
           {
            "automargin": true,
            "type": "pie"
           }
          ],
          "scatter": [
           {
            "fillpattern": {
             "fillmode": "overlay",
             "size": 10,
             "solidity": 0.2
            },
            "type": "scatter"
           }
          ],
          "scatter3d": [
           {
            "line": {
             "colorbar": {
              "outlinewidth": 0,
              "ticks": ""
             }
            },
            "marker": {
             "colorbar": {
              "outlinewidth": 0,
              "ticks": ""
             }
            },
            "type": "scatter3d"
           }
          ],
          "scattercarpet": [
           {
            "marker": {
             "colorbar": {
              "outlinewidth": 0,
              "ticks": ""
             }
            },
            "type": "scattercarpet"
           }
          ],
          "scattergeo": [
           {
            "marker": {
             "colorbar": {
              "outlinewidth": 0,
              "ticks": ""
             }
            },
            "type": "scattergeo"
           }
          ],
          "scattergl": [
           {
            "marker": {
             "colorbar": {
              "outlinewidth": 0,
              "ticks": ""
             }
            },
            "type": "scattergl"
           }
          ],
          "scattermapbox": [
           {
            "marker": {
             "colorbar": {
              "outlinewidth": 0,
              "ticks": ""
             }
            },
            "type": "scattermapbox"
           }
          ],
          "scatterpolar": [
           {
            "marker": {
             "colorbar": {
              "outlinewidth": 0,
              "ticks": ""
             }
            },
            "type": "scatterpolar"
           }
          ],
          "scatterpolargl": [
           {
            "marker": {
             "colorbar": {
              "outlinewidth": 0,
              "ticks": ""
             }
            },
            "type": "scatterpolargl"
           }
          ],
          "scatterternary": [
           {
            "marker": {
             "colorbar": {
              "outlinewidth": 0,
              "ticks": ""
             }
            },
            "type": "scatterternary"
           }
          ],
          "surface": [
           {
            "colorbar": {
             "outlinewidth": 0,
             "ticks": ""
            },
            "colorscale": [
             [
              0,
              "#0d0887"
             ],
             [
              0.1111111111111111,
              "#46039f"
             ],
             [
              0.2222222222222222,
              "#7201a8"
             ],
             [
              0.3333333333333333,
              "#9c179e"
             ],
             [
              0.4444444444444444,
              "#bd3786"
             ],
             [
              0.5555555555555556,
              "#d8576b"
             ],
             [
              0.6666666666666666,
              "#ed7953"
             ],
             [
              0.7777777777777778,
              "#fb9f3a"
             ],
             [
              0.8888888888888888,
              "#fdca26"
             ],
             [
              1,
              "#f0f921"
             ]
            ],
            "type": "surface"
           }
          ],
          "table": [
           {
            "cells": {
             "fill": {
              "color": "#EBF0F8"
             },
             "line": {
              "color": "white"
             }
            },
            "header": {
             "fill": {
              "color": "#C8D4E3"
             },
             "line": {
              "color": "white"
             }
            },
            "type": "table"
           }
          ]
         },
         "layout": {
          "annotationdefaults": {
           "arrowcolor": "#2a3f5f",
           "arrowhead": 0,
           "arrowwidth": 1
          },
          "autotypenumbers": "strict",
          "coloraxis": {
           "colorbar": {
            "outlinewidth": 0,
            "ticks": ""
           }
          },
          "colorscale": {
           "diverging": [
            [
             0,
             "#8e0152"
            ],
            [
             0.1,
             "#c51b7d"
            ],
            [
             0.2,
             "#de77ae"
            ],
            [
             0.3,
             "#f1b6da"
            ],
            [
             0.4,
             "#fde0ef"
            ],
            [
             0.5,
             "#f7f7f7"
            ],
            [
             0.6,
             "#e6f5d0"
            ],
            [
             0.7,
             "#b8e186"
            ],
            [
             0.8,
             "#7fbc41"
            ],
            [
             0.9,
             "#4d9221"
            ],
            [
             1,
             "#276419"
            ]
           ],
           "sequential": [
            [
             0,
             "#0d0887"
            ],
            [
             0.1111111111111111,
             "#46039f"
            ],
            [
             0.2222222222222222,
             "#7201a8"
            ],
            [
             0.3333333333333333,
             "#9c179e"
            ],
            [
             0.4444444444444444,
             "#bd3786"
            ],
            [
             0.5555555555555556,
             "#d8576b"
            ],
            [
             0.6666666666666666,
             "#ed7953"
            ],
            [
             0.7777777777777778,
             "#fb9f3a"
            ],
            [
             0.8888888888888888,
             "#fdca26"
            ],
            [
             1,
             "#f0f921"
            ]
           ],
           "sequentialminus": [
            [
             0,
             "#0d0887"
            ],
            [
             0.1111111111111111,
             "#46039f"
            ],
            [
             0.2222222222222222,
             "#7201a8"
            ],
            [
             0.3333333333333333,
             "#9c179e"
            ],
            [
             0.4444444444444444,
             "#bd3786"
            ],
            [
             0.5555555555555556,
             "#d8576b"
            ],
            [
             0.6666666666666666,
             "#ed7953"
            ],
            [
             0.7777777777777778,
             "#fb9f3a"
            ],
            [
             0.8888888888888888,
             "#fdca26"
            ],
            [
             1,
             "#f0f921"
            ]
           ]
          },
          "colorway": [
           "#636efa",
           "#EF553B",
           "#00cc96",
           "#ab63fa",
           "#FFA15A",
           "#19d3f3",
           "#FF6692",
           "#B6E880",
           "#FF97FF",
           "#FECB52"
          ],
          "font": {
           "color": "#2a3f5f"
          },
          "geo": {
           "bgcolor": "white",
           "lakecolor": "white",
           "landcolor": "white",
           "showlakes": true,
           "showland": true,
           "subunitcolor": "#C8D4E3"
          },
          "hoverlabel": {
           "align": "left"
          },
          "hovermode": "closest",
          "mapbox": {
           "style": "light"
          },
          "paper_bgcolor": "white",
          "plot_bgcolor": "white",
          "polar": {
           "angularaxis": {
            "gridcolor": "#EBF0F8",
            "linecolor": "#EBF0F8",
            "ticks": ""
           },
           "bgcolor": "white",
           "radialaxis": {
            "gridcolor": "#EBF0F8",
            "linecolor": "#EBF0F8",
            "ticks": ""
           }
          },
          "scene": {
           "xaxis": {
            "backgroundcolor": "white",
            "gridcolor": "#DFE8F3",
            "gridwidth": 2,
            "linecolor": "#EBF0F8",
            "showbackground": true,
            "ticks": "",
            "zerolinecolor": "#EBF0F8"
           },
           "yaxis": {
            "backgroundcolor": "white",
            "gridcolor": "#DFE8F3",
            "gridwidth": 2,
            "linecolor": "#EBF0F8",
            "showbackground": true,
            "ticks": "",
            "zerolinecolor": "#EBF0F8"
           },
           "zaxis": {
            "backgroundcolor": "white",
            "gridcolor": "#DFE8F3",
            "gridwidth": 2,
            "linecolor": "#EBF0F8",
            "showbackground": true,
            "ticks": "",
            "zerolinecolor": "#EBF0F8"
           }
          },
          "shapedefaults": {
           "line": {
            "color": "#2a3f5f"
           }
          },
          "ternary": {
           "aaxis": {
            "gridcolor": "#DFE8F3",
            "linecolor": "#A2B1C6",
            "ticks": ""
           },
           "baxis": {
            "gridcolor": "#DFE8F3",
            "linecolor": "#A2B1C6",
            "ticks": ""
           },
           "bgcolor": "white",
           "caxis": {
            "gridcolor": "#DFE8F3",
            "linecolor": "#A2B1C6",
            "ticks": ""
           }
          },
          "title": {
           "x": 0.05
          },
          "xaxis": {
           "automargin": true,
           "gridcolor": "#EBF0F8",
           "linecolor": "#EBF0F8",
           "ticks": "",
           "title": {
            "standoff": 15
           },
           "zerolinecolor": "#EBF0F8",
           "zerolinewidth": 2
          },
          "yaxis": {
           "automargin": true,
           "gridcolor": "#EBF0F8",
           "linecolor": "#EBF0F8",
           "ticks": "",
           "title": {
            "standoff": 15
           },
           "zerolinecolor": "#EBF0F8",
           "zerolinewidth": 2
          }
         }
        },
        "width": 800,
        "xaxis": {
         "title": {
          "text": "Video Position"
         }
        },
        "yaxis": {
         "title": {
          "text": "Average Target Hashtag Count"
         }
        }
       }
      }
     },
     "metadata": {},
     "output_type": "display_data"
    },
    {
     "data": {
      "application/vnd.plotly.v1+json": {
       "config": {
        "plotlyServerURL": "https://plot.ly"
       },
       "data": [
        {
         "line": {
          "color": "rgba(99, 110, 250, 0.5)"
         },
         "marker": {
          "color": "rgba(99, 110, 250, 0.5)"
         },
         "mode": "lines+markers",
         "name": "Watch longer 50% experiment (ρ=0.14, p=0.557)",
         "type": "scatter",
         "x": [
          25,
          75,
          125,
          175,
          225,
          275,
          325,
          375,
          425,
          475,
          525,
          575,
          625,
          675,
          725,
          775,
          825,
          875,
          925,
          975
         ],
         "y": [
          0.04,
          0.12,
          0.26,
          0.04,
          0.16,
          0.32,
          0.32,
          0.4,
          0.38,
          0.26,
          0.22,
          0.44,
          0.36,
          0.34,
          0.36,
          0.16,
          0.16,
          0.08,
          0.24,
          0.2
         ]
        },
        {
         "line": {
          "color": "rgba(99, 110, 250, 0.5)",
          "dash": "dash"
         },
         "mode": "lines",
         "showlegend": false,
         "type": "scatter",
         "x": [
          25,
          75,
          125,
          175,
          225,
          275,
          325,
          375,
          425,
          475,
          525,
          575,
          625,
          675,
          725,
          775,
          825,
          875,
          925,
          975
         ],
         "y": [
          0.21171428571428572,
          0.21500751879699248,
          0.21830075187969925,
          0.221593984962406,
          0.22488721804511275,
          0.2281804511278195,
          0.23147368421052628,
          0.234766917293233,
          0.23806015037593978,
          0.24135338345864654,
          0.24464661654135328,
          0.24793984962406004,
          0.2512330827067668,
          0.25452631578947355,
          0.25781954887218034,
          0.2611127819548871,
          0.2644060150375938,
          0.2676992481203006,
          0.27099248120300734,
          0.27428571428571413
         ]
        },
        {
         "line": {
          "color": "rgba(239, 85, 59, 0.5)"
         },
         "marker": {
          "color": "rgba(239, 85, 59, 0.5)"
         },
         "mode": "lines+markers",
         "name": "Watch longer 200% experiment (ρ=0.22, p=0.331)",
         "type": "scatter",
         "x": [
          25,
          75,
          125,
          175,
          225,
          275,
          325,
          375,
          425,
          475,
          525,
          575,
          625,
          675,
          725,
          775,
          825,
          875,
          925,
          975,
          1025
         ],
         "y": [
          0.43,
          0.4,
          0.26,
          0.32,
          0.19,
          0.4,
          0.30000000000000004,
          0.32,
          0.37,
          0.31,
          0.48,
          0.35,
          0.43000000000000005,
          0.45999999999999996,
          0.38,
          0.36,
          0.34,
          0.22,
          0.46,
          0.48,
          0.32
         ]
        },
        {
         "line": {
          "color": "rgba(239, 85, 59, 0.5)",
          "dash": "dash"
         },
         "mode": "lines",
         "showlegend": false,
         "type": "scatter",
         "x": [
          25,
          75,
          125,
          175,
          225,
          275,
          325,
          375,
          425,
          475,
          525,
          575,
          625,
          675,
          725,
          775,
          825,
          875,
          925,
          975,
          1025
         ],
         "y": [
          0.3334199134199134,
          0.3361731601731602,
          0.3389264069264069,
          0.3416796536796537,
          0.3444329004329004,
          0.3471861471861472,
          0.34993939393939394,
          0.3526926406926407,
          0.35544588744588745,
          0.35819913419913424,
          0.36095238095238097,
          0.36370562770562775,
          0.3664588744588745,
          0.36921212121212127,
          0.371965367965368,
          0.3747186147186148,
          0.3774718614718615,
          0.3802251082251083,
          0.38297835497835503,
          0.3857316017316018,
          0.38848484848484854
         ]
        },
        {
         "line": {
          "color": "rgba(0, 204, 150, 0.5)"
         },
         "marker": {
          "color": "rgba(0, 204, 150, 0.5)"
         },
         "mode": "lines+markers",
         "name": "Watch longer 400% experiment (ρ=0.81, p=0.000)",
         "type": "scatter",
         "x": [
          25,
          75,
          125,
          175,
          225,
          275,
          325,
          375,
          425,
          475,
          525,
          575,
          625,
          675,
          725,
          775,
          825,
          875,
          925,
          975,
          1025,
          1075,
          1125
         ],
         "y": [
          0.28,
          0.14,
          0.19,
          0.21000000000000002,
          0.17,
          0.19,
          0.27,
          0.21,
          0.19,
          0.22,
          0.23,
          0.33,
          0.31,
          0.30000000000000004,
          0.28,
          0.2,
          0.31,
          0.31,
          0.5,
          0.35,
          0.38,
          0.54,
          0.4
         ]
        },
        {
         "line": {
          "color": "rgba(0, 204, 150, 0.5)",
          "dash": "dash"
         },
         "mode": "lines",
         "showlegend": false,
         "type": "scatter",
         "x": [
          25,
          75,
          125,
          175,
          225,
          275,
          325,
          375,
          425,
          475,
          525,
          575,
          625,
          675,
          725,
          775,
          825,
          875,
          925,
          975,
          1025,
          1075,
          1125
         ],
         "y": [
          0.1542391304347826,
          0.1659486166007905,
          0.17765810276679841,
          0.1893675889328063,
          0.20107707509881423,
          0.21278656126482215,
          0.22449604743083004,
          0.23620553359683794,
          0.24791501976284586,
          0.2596245059288538,
          0.27133399209486164,
          0.2830434782608696,
          0.2947529644268775,
          0.3064624505928854,
          0.3181719367588933,
          0.3298814229249012,
          0.3415909090909091,
          0.35330039525691703,
          0.3650098814229249,
          0.3767193675889329,
          0.38842885375494074,
          0.4001383399209486,
          0.4118478260869566
         ]
        }
       ],
       "layout": {
        "legend": {
         "orientation": "h",
         "x": 0.5,
         "xanchor": "center",
         "y": 1.02,
         "yanchor": "bottom"
        },
        "margin": {
         "b": 1,
         "l": 20,
         "r": 20,
         "t": 1
        },
        "template": {
         "data": {
          "bar": [
           {
            "error_x": {
             "color": "#2a3f5f"
            },
            "error_y": {
             "color": "#2a3f5f"
            },
            "marker": {
             "line": {
              "color": "white",
              "width": 0.5
             },
             "pattern": {
              "fillmode": "overlay",
              "size": 10,
              "solidity": 0.2
             }
            },
            "type": "bar"
           }
          ],
          "barpolar": [
           {
            "marker": {
             "line": {
              "color": "white",
              "width": 0.5
             },
             "pattern": {
              "fillmode": "overlay",
              "size": 10,
              "solidity": 0.2
             }
            },
            "type": "barpolar"
           }
          ],
          "carpet": [
           {
            "aaxis": {
             "endlinecolor": "#2a3f5f",
             "gridcolor": "#C8D4E3",
             "linecolor": "#C8D4E3",
             "minorgridcolor": "#C8D4E3",
             "startlinecolor": "#2a3f5f"
            },
            "baxis": {
             "endlinecolor": "#2a3f5f",
             "gridcolor": "#C8D4E3",
             "linecolor": "#C8D4E3",
             "minorgridcolor": "#C8D4E3",
             "startlinecolor": "#2a3f5f"
            },
            "type": "carpet"
           }
          ],
          "choropleth": [
           {
            "colorbar": {
             "outlinewidth": 0,
             "ticks": ""
            },
            "type": "choropleth"
           }
          ],
          "contour": [
           {
            "colorbar": {
             "outlinewidth": 0,
             "ticks": ""
            },
            "colorscale": [
             [
              0,
              "#0d0887"
             ],
             [
              0.1111111111111111,
              "#46039f"
             ],
             [
              0.2222222222222222,
              "#7201a8"
             ],
             [
              0.3333333333333333,
              "#9c179e"
             ],
             [
              0.4444444444444444,
              "#bd3786"
             ],
             [
              0.5555555555555556,
              "#d8576b"
             ],
             [
              0.6666666666666666,
              "#ed7953"
             ],
             [
              0.7777777777777778,
              "#fb9f3a"
             ],
             [
              0.8888888888888888,
              "#fdca26"
             ],
             [
              1,
              "#f0f921"
             ]
            ],
            "type": "contour"
           }
          ],
          "contourcarpet": [
           {
            "colorbar": {
             "outlinewidth": 0,
             "ticks": ""
            },
            "type": "contourcarpet"
           }
          ],
          "heatmap": [
           {
            "colorbar": {
             "outlinewidth": 0,
             "ticks": ""
            },
            "colorscale": [
             [
              0,
              "#0d0887"
             ],
             [
              0.1111111111111111,
              "#46039f"
             ],
             [
              0.2222222222222222,
              "#7201a8"
             ],
             [
              0.3333333333333333,
              "#9c179e"
             ],
             [
              0.4444444444444444,
              "#bd3786"
             ],
             [
              0.5555555555555556,
              "#d8576b"
             ],
             [
              0.6666666666666666,
              "#ed7953"
             ],
             [
              0.7777777777777778,
              "#fb9f3a"
             ],
             [
              0.8888888888888888,
              "#fdca26"
             ],
             [
              1,
              "#f0f921"
             ]
            ],
            "type": "heatmap"
           }
          ],
          "heatmapgl": [
           {
            "colorbar": {
             "outlinewidth": 0,
             "ticks": ""
            },
            "colorscale": [
             [
              0,
              "#0d0887"
             ],
             [
              0.1111111111111111,
              "#46039f"
             ],
             [
              0.2222222222222222,
              "#7201a8"
             ],
             [
              0.3333333333333333,
              "#9c179e"
             ],
             [
              0.4444444444444444,
              "#bd3786"
             ],
             [
              0.5555555555555556,
              "#d8576b"
             ],
             [
              0.6666666666666666,
              "#ed7953"
             ],
             [
              0.7777777777777778,
              "#fb9f3a"
             ],
             [
              0.8888888888888888,
              "#fdca26"
             ],
             [
              1,
              "#f0f921"
             ]
            ],
            "type": "heatmapgl"
           }
          ],
          "histogram": [
           {
            "marker": {
             "pattern": {
              "fillmode": "overlay",
              "size": 10,
              "solidity": 0.2
             }
            },
            "type": "histogram"
           }
          ],
          "histogram2d": [
           {
            "colorbar": {
             "outlinewidth": 0,
             "ticks": ""
            },
            "colorscale": [
             [
              0,
              "#0d0887"
             ],
             [
              0.1111111111111111,
              "#46039f"
             ],
             [
              0.2222222222222222,
              "#7201a8"
             ],
             [
              0.3333333333333333,
              "#9c179e"
             ],
             [
              0.4444444444444444,
              "#bd3786"
             ],
             [
              0.5555555555555556,
              "#d8576b"
             ],
             [
              0.6666666666666666,
              "#ed7953"
             ],
             [
              0.7777777777777778,
              "#fb9f3a"
             ],
             [
              0.8888888888888888,
              "#fdca26"
             ],
             [
              1,
              "#f0f921"
             ]
            ],
            "type": "histogram2d"
           }
          ],
          "histogram2dcontour": [
           {
            "colorbar": {
             "outlinewidth": 0,
             "ticks": ""
            },
            "colorscale": [
             [
              0,
              "#0d0887"
             ],
             [
              0.1111111111111111,
              "#46039f"
             ],
             [
              0.2222222222222222,
              "#7201a8"
             ],
             [
              0.3333333333333333,
              "#9c179e"
             ],
             [
              0.4444444444444444,
              "#bd3786"
             ],
             [
              0.5555555555555556,
              "#d8576b"
             ],
             [
              0.6666666666666666,
              "#ed7953"
             ],
             [
              0.7777777777777778,
              "#fb9f3a"
             ],
             [
              0.8888888888888888,
              "#fdca26"
             ],
             [
              1,
              "#f0f921"
             ]
            ],
            "type": "histogram2dcontour"
           }
          ],
          "mesh3d": [
           {
            "colorbar": {
             "outlinewidth": 0,
             "ticks": ""
            },
            "type": "mesh3d"
           }
          ],
          "parcoords": [
           {
            "line": {
             "colorbar": {
              "outlinewidth": 0,
              "ticks": ""
             }
            },
            "type": "parcoords"
           }
          ],
          "pie": [
           {
            "automargin": true,
            "type": "pie"
           }
          ],
          "scatter": [
           {
            "fillpattern": {
             "fillmode": "overlay",
             "size": 10,
             "solidity": 0.2
            },
            "type": "scatter"
           }
          ],
          "scatter3d": [
           {
            "line": {
             "colorbar": {
              "outlinewidth": 0,
              "ticks": ""
             }
            },
            "marker": {
             "colorbar": {
              "outlinewidth": 0,
              "ticks": ""
             }
            },
            "type": "scatter3d"
           }
          ],
          "scattercarpet": [
           {
            "marker": {
             "colorbar": {
              "outlinewidth": 0,
              "ticks": ""
             }
            },
            "type": "scattercarpet"
           }
          ],
          "scattergeo": [
           {
            "marker": {
             "colorbar": {
              "outlinewidth": 0,
              "ticks": ""
             }
            },
            "type": "scattergeo"
           }
          ],
          "scattergl": [
           {
            "marker": {
             "colorbar": {
              "outlinewidth": 0,
              "ticks": ""
             }
            },
            "type": "scattergl"
           }
          ],
          "scattermapbox": [
           {
            "marker": {
             "colorbar": {
              "outlinewidth": 0,
              "ticks": ""
             }
            },
            "type": "scattermapbox"
           }
          ],
          "scatterpolar": [
           {
            "marker": {
             "colorbar": {
              "outlinewidth": 0,
              "ticks": ""
             }
            },
            "type": "scatterpolar"
           }
          ],
          "scatterpolargl": [
           {
            "marker": {
             "colorbar": {
              "outlinewidth": 0,
              "ticks": ""
             }
            },
            "type": "scatterpolargl"
           }
          ],
          "scatterternary": [
           {
            "marker": {
             "colorbar": {
              "outlinewidth": 0,
              "ticks": ""
             }
            },
            "type": "scatterternary"
           }
          ],
          "surface": [
           {
            "colorbar": {
             "outlinewidth": 0,
             "ticks": ""
            },
            "colorscale": [
             [
              0,
              "#0d0887"
             ],
             [
              0.1111111111111111,
              "#46039f"
             ],
             [
              0.2222222222222222,
              "#7201a8"
             ],
             [
              0.3333333333333333,
              "#9c179e"
             ],
             [
              0.4444444444444444,
              "#bd3786"
             ],
             [
              0.5555555555555556,
              "#d8576b"
             ],
             [
              0.6666666666666666,
              "#ed7953"
             ],
             [
              0.7777777777777778,
              "#fb9f3a"
             ],
             [
              0.8888888888888888,
              "#fdca26"
             ],
             [
              1,
              "#f0f921"
             ]
            ],
            "type": "surface"
           }
          ],
          "table": [
           {
            "cells": {
             "fill": {
              "color": "#EBF0F8"
             },
             "line": {
              "color": "white"
             }
            },
            "header": {
             "fill": {
              "color": "#C8D4E3"
             },
             "line": {
              "color": "white"
             }
            },
            "type": "table"
           }
          ]
         },
         "layout": {
          "annotationdefaults": {
           "arrowcolor": "#2a3f5f",
           "arrowhead": 0,
           "arrowwidth": 1
          },
          "autotypenumbers": "strict",
          "coloraxis": {
           "colorbar": {
            "outlinewidth": 0,
            "ticks": ""
           }
          },
          "colorscale": {
           "diverging": [
            [
             0,
             "#8e0152"
            ],
            [
             0.1,
             "#c51b7d"
            ],
            [
             0.2,
             "#de77ae"
            ],
            [
             0.3,
             "#f1b6da"
            ],
            [
             0.4,
             "#fde0ef"
            ],
            [
             0.5,
             "#f7f7f7"
            ],
            [
             0.6,
             "#e6f5d0"
            ],
            [
             0.7,
             "#b8e186"
            ],
            [
             0.8,
             "#7fbc41"
            ],
            [
             0.9,
             "#4d9221"
            ],
            [
             1,
             "#276419"
            ]
           ],
           "sequential": [
            [
             0,
             "#0d0887"
            ],
            [
             0.1111111111111111,
             "#46039f"
            ],
            [
             0.2222222222222222,
             "#7201a8"
            ],
            [
             0.3333333333333333,
             "#9c179e"
            ],
            [
             0.4444444444444444,
             "#bd3786"
            ],
            [
             0.5555555555555556,
             "#d8576b"
            ],
            [
             0.6666666666666666,
             "#ed7953"
            ],
            [
             0.7777777777777778,
             "#fb9f3a"
            ],
            [
             0.8888888888888888,
             "#fdca26"
            ],
            [
             1,
             "#f0f921"
            ]
           ],
           "sequentialminus": [
            [
             0,
             "#0d0887"
            ],
            [
             0.1111111111111111,
             "#46039f"
            ],
            [
             0.2222222222222222,
             "#7201a8"
            ],
            [
             0.3333333333333333,
             "#9c179e"
            ],
            [
             0.4444444444444444,
             "#bd3786"
            ],
            [
             0.5555555555555556,
             "#d8576b"
            ],
            [
             0.6666666666666666,
             "#ed7953"
            ],
            [
             0.7777777777777778,
             "#fb9f3a"
            ],
            [
             0.8888888888888888,
             "#fdca26"
            ],
            [
             1,
             "#f0f921"
            ]
           ]
          },
          "colorway": [
           "#636efa",
           "#EF553B",
           "#00cc96",
           "#ab63fa",
           "#FFA15A",
           "#19d3f3",
           "#FF6692",
           "#B6E880",
           "#FF97FF",
           "#FECB52"
          ],
          "font": {
           "color": "#2a3f5f"
          },
          "geo": {
           "bgcolor": "white",
           "lakecolor": "white",
           "landcolor": "white",
           "showlakes": true,
           "showland": true,
           "subunitcolor": "#C8D4E3"
          },
          "hoverlabel": {
           "align": "left"
          },
          "hovermode": "closest",
          "mapbox": {
           "style": "light"
          },
          "paper_bgcolor": "white",
          "plot_bgcolor": "white",
          "polar": {
           "angularaxis": {
            "gridcolor": "#EBF0F8",
            "linecolor": "#EBF0F8",
            "ticks": ""
           },
           "bgcolor": "white",
           "radialaxis": {
            "gridcolor": "#EBF0F8",
            "linecolor": "#EBF0F8",
            "ticks": ""
           }
          },
          "scene": {
           "xaxis": {
            "backgroundcolor": "white",
            "gridcolor": "#DFE8F3",
            "gridwidth": 2,
            "linecolor": "#EBF0F8",
            "showbackground": true,
            "ticks": "",
            "zerolinecolor": "#EBF0F8"
           },
           "yaxis": {
            "backgroundcolor": "white",
            "gridcolor": "#DFE8F3",
            "gridwidth": 2,
            "linecolor": "#EBF0F8",
            "showbackground": true,
            "ticks": "",
            "zerolinecolor": "#EBF0F8"
           },
           "zaxis": {
            "backgroundcolor": "white",
            "gridcolor": "#DFE8F3",
            "gridwidth": 2,
            "linecolor": "#EBF0F8",
            "showbackground": true,
            "ticks": "",
            "zerolinecolor": "#EBF0F8"
           }
          },
          "shapedefaults": {
           "line": {
            "color": "#2a3f5f"
           }
          },
          "ternary": {
           "aaxis": {
            "gridcolor": "#DFE8F3",
            "linecolor": "#A2B1C6",
            "ticks": ""
           },
           "baxis": {
            "gridcolor": "#DFE8F3",
            "linecolor": "#A2B1C6",
            "ticks": ""
           },
           "bgcolor": "white",
           "caxis": {
            "gridcolor": "#DFE8F3",
            "linecolor": "#A2B1C6",
            "ticks": ""
           }
          },
          "title": {
           "x": 0.05
          },
          "xaxis": {
           "automargin": true,
           "gridcolor": "#EBF0F8",
           "linecolor": "#EBF0F8",
           "ticks": "",
           "title": {
            "standoff": 15
           },
           "zerolinecolor": "#EBF0F8",
           "zerolinewidth": 2
          },
          "yaxis": {
           "automargin": true,
           "gridcolor": "#EBF0F8",
           "linecolor": "#EBF0F8",
           "ticks": "",
           "title": {
            "standoff": 15
           },
           "zerolinecolor": "#EBF0F8",
           "zerolinewidth": 2
          }
         }
        },
        "width": 800,
        "xaxis": {
         "title": {
          "text": "Number of watched videos"
         }
        },
        "yaxis": {
         "title": {
          "text": "Average Target Hashtag Count"
         }
        }
       }
      }
     },
     "metadata": {},
     "output_type": "display_data"
    }
   ],
   "source": [
    "test_scenarios = [18,22,38,39,40,41,42] # All scenarios to work with\n",
    "aggregate_groups = [[38],[39,40],[41,42]] # Aggregate by groups \n",
    "group_labels = {\n",
    "    (38): 'Watch longer 50%',\n",
    "    (39,40): 'Watch longer 200%',\n",
    "    (41,42): 'Watch longer 400%'\n",
    "}\n",
    "\n",
    "analysis_results = analyze_and_plot_target_hashtags_agg(\n",
    "    data_combined=data_combined,\n",
    "    scenarios=test_scenarios,\n",
    "    target_hashtags=target_hashtags,\n",
    "    bucket_size=50, # Size of the buckets for the rolling average\n",
    "    plot_type='experiment',  # Can be 'control', 'experiment' or 'both'\n",
    "    aggregate_scenarios=aggregate_groups,\n",
    "    legend_labels=group_labels\n",
    ")"
   ]
  },
  {
   "cell_type": "code",
   "execution_count": null,
   "metadata": {},
   "outputs": [],
   "source": []
  }
 ],
 "metadata": {
  "kernelspec": {
   "display_name": "mic",
   "language": "python",
   "name": "python3"
  },
  "language_info": {
   "codemirror_mode": {
    "name": "ipython",
    "version": 3
   },
   "file_extension": ".py",
   "mimetype": "text/x-python",
   "name": "python",
   "nbconvert_exporter": "python",
   "pygments_lexer": "ipython3",
   "version": "3.12.5"
  }
 },
 "nbformat": 4,
 "nbformat_minor": 2
}
