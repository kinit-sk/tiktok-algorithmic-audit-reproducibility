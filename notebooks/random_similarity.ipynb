{
 "cells": [
  {
   "cell_type": "code",
   "execution_count": 1,
   "metadata": {},
   "outputs": [],
   "source": [
    "import os\n",
    "import json\n",
    "import unicodedata\n",
    "import pandas as pd\n",
    "import plotly.graph_objects as go\n",
    "import scipy.stats\n",
    "import numpy as np\n",
    "import pandas as pd\n",
    "from plotly.colors import qualitative\n",
    "\n",
    "files_path = '../data/'"
   ]
  },
  {
   "cell_type": "code",
   "execution_count": 2,
   "metadata": {},
   "outputs": [],
   "source": [
    "scenarios = [16,18,22,23,24,28,29,33,34,35,37,38,39,40,41,42]"
   ]
  },
  {
   "cell_type": "code",
   "execution_count": 3,
   "metadata": {},
   "outputs": [],
   "source": [
    "def clean_text(text):\n",
    "    \"\"\"Ensure text is UTF-8 encoded and strip out non-ASCII characters.\"\"\"\n",
    "    # Normalize text to remove accents and unusual unicode characters\n",
    "    normalized_text = unicodedata.normalize('NFKD', text)\n",
    "    # Encode to ASCII, ignoring characters that cannot be encoded, then decode back to string\n",
    "    return normalized_text.encode('ascii', 'ignore').decode('ascii')\n",
    "\n",
    "def parse_info(video, user_id):\n",
    "    d = {}\n",
    "    d[\"user_id\"] = user_id\n",
    "    \n",
    "    author = video.get(\"author\", {})\n",
    "    stats = video.get(\"stats\", {})\n",
    "    music = video.get(\"music\", {})\n",
    "    video_stats = video.get(\"video\", {})\n",
    "    text_extras = video.get(\"contents\", [{}])[0].get(\"textExtra\", [])\n",
    "    # df[\"author\"] = author\n",
    "    # df[\"stats\"] = stats\n",
    "    # df[\"music\"] = music\n",
    "    # df[\"video_stats\"] = video_stats\n",
    "    # df[\"text_extras\"] = text_extras\n",
    "\n",
    "    # Basic video details\n",
    "    d[\"play_count\"] = stats.get(\"playCount\", 0)\n",
    "    d[\"digg_count\"] = stats.get(\"diggCount\", 0)\n",
    "    d[\"share_count\"] = stats.get(\"shareCount\", 0)\n",
    "    d[\"comment_count\"] = stats.get(\"commentCount\", 0)\n",
    "    d[\"collect_count\"] = stats.get(\"collectCount\", 0)\n",
    "    d[\"repost_count\"] = video.get(\"statsV2\", {}).get(\"repostCount\", 0)\n",
    "    d[\"loudness\"] = video_stats.get(\"volumeInfo\", {}).get(\"Loudness\", \"N/A\")\n",
    "    d[\"duration\"] = video_stats.get(\"duration\", \"N/A\")  # Video duration\n",
    "\n",
    "    # Author details\n",
    "    d[\"author_id\"] = author.get(\"id\", \"Unknown Author\")\n",
    "    d[\"author_name\"] = clean_text(author.get(\"nickname\", \"Unknown Author Name\"))\n",
    "    d[\"author_bio\"] = clean_text(author.get(\"signature\", \"No bio\"))  # Cleaned Author bio\n",
    "\n",
    "    # Music details\n",
    "    d[\"music_name\"] = clean_text(music.get(\"title\", \"Unknown Music Title\"))\n",
    "    d[\"music_id\"] = music.get(\"id\", \"Unknown Music ID\")\n",
    "    d[\"music_author\"] = clean_text(music.get(\"authorName\", \"Unknown Music Author\"))\n",
    "    d[\"music_album\"] = clean_text(music.get(\"album\", \"Unknown Album\"))  # Cleaned Music album\n",
    "\n",
    "    # Hashtags from textExtra\n",
    "    hashtags = [clean_text(extra.get(\"hashtagName\")) for extra in text_extras if extra.get(\"type\") == 1]\n",
    "    d[\"hashtags\"] = '_'.join(hashtags)\n",
    "\n",
    "    d[\"video_id\"] = video.get(\"id\", \"Unknown ID\")\n",
    "\n",
    "    df = pd.DataFrame([d])\n",
    "    df[\"repost_count\"] = df[\"repost_count\"].astype(int)\n",
    "    return df"
   ]
  },
  {
   "cell_type": "code",
   "execution_count": 4,
   "metadata": {},
   "outputs": [],
   "source": [
    "def load_data_into_df(scenarios: list) -> pd.DataFrame:\n",
    "    df_jsons = []\n",
    "    for user_id in scenarios:\n",
    "        for user_type in ['control', 'experiment']:\n",
    "            user_path = files_path + f'{user_id}/{user_id}-{user_type}/'\n",
    "\n",
    "            for root, dirs, files in os.walk(user_path):\n",
    "                if 'responses' in dirs:\n",
    "                    responses_path = os.path.join(root, 'responses')\n",
    "                    # Only look at files directly in responses folder\n",
    "                    response_files = [f for f in os.listdir(responses_path) \n",
    "                                    if f.endswith('.json') and f != 'config.json']\n",
    "                    for file in response_files:\n",
    "                        file_path = os.path.join(responses_path, file)\n",
    "                        with open(file_path, 'r') as f:\n",
    "                            data = json.load(f)\n",
    "                            for video in data['itemList']:\n",
    "                                df_jsons.append(parse_info(video, str(user_id) + '-' + user_type))\n",
    "\n",
    "    data_combined = pd.concat(df_jsons, ignore_index=True)\n",
    "    data_combined['run_number'] = data_combined.groupby('user_id').cumcount() + 1\n",
    "    \n",
    "    # Remove specified hashtags including partial matches\n",
    "    hashtags_to_ignore = [\" \", \"fyp\", \"foryou\", \"fyr\", \"'fyp'\", \"tiktok\", \"capcut\", \n",
    "                         \"CapCut\", \"viral\", \"video\", \"trend\", \"' '\", \"''\", \"['']\"]\n",
    "    \n",
    "    # Split hashtags string into list, filter out ignored tags, rejoin\n",
    "    data_combined['hashtags'] = data_combined['hashtags'].apply(lambda x: '_'.join(\n",
    "        [tag for tag in x.split('_') if not any(ignore in tag.lower() for ignore in hashtags_to_ignore)]\n",
    "    ))\n",
    "\n",
    "    return data_combined"
   ]
  },
  {
   "cell_type": "code",
   "execution_count": 5,
   "metadata": {},
   "outputs": [
    {
     "data": {
      "text/html": [
       "<div>\n",
       "<style scoped>\n",
       "    .dataframe tbody tr th:only-of-type {\n",
       "        vertical-align: middle;\n",
       "    }\n",
       "\n",
       "    .dataframe tbody tr th {\n",
       "        vertical-align: top;\n",
       "    }\n",
       "\n",
       "    .dataframe thead th {\n",
       "        text-align: right;\n",
       "    }\n",
       "</style>\n",
       "<table border=\"1\" class=\"dataframe\">\n",
       "  <thead>\n",
       "    <tr style=\"text-align: right;\">\n",
       "      <th></th>\n",
       "      <th>user_id</th>\n",
       "      <th>play_count</th>\n",
       "      <th>digg_count</th>\n",
       "      <th>share_count</th>\n",
       "      <th>comment_count</th>\n",
       "      <th>collect_count</th>\n",
       "      <th>repost_count</th>\n",
       "      <th>loudness</th>\n",
       "      <th>duration</th>\n",
       "      <th>author_id</th>\n",
       "      <th>author_name</th>\n",
       "      <th>author_bio</th>\n",
       "      <th>music_name</th>\n",
       "      <th>music_id</th>\n",
       "      <th>music_author</th>\n",
       "      <th>music_album</th>\n",
       "      <th>hashtags</th>\n",
       "      <th>video_id</th>\n",
       "      <th>run_number</th>\n",
       "    </tr>\n",
       "  </thead>\n",
       "  <tbody>\n",
       "    <tr>\n",
       "      <th>0</th>\n",
       "      <td>16-control</td>\n",
       "      <td>17800000</td>\n",
       "      <td>1300000</td>\n",
       "      <td>14100</td>\n",
       "      <td>4585</td>\n",
       "      <td>123600</td>\n",
       "      <td>0</td>\n",
       "      <td>-18.4</td>\n",
       "      <td>131</td>\n",
       "      <td>7426628785489314862</td>\n",
       "      <td>Alison</td>\n",
       "      <td></td>\n",
       "      <td>original sound</td>\n",
       "      <td>7440407226923240223</td>\n",
       "      <td>Alison</td>\n",
       "      <td></td>\n",
       "      <td>movies</td>\n",
       "      <td>7440407367017123102</td>\n",
       "      <td>1</td>\n",
       "    </tr>\n",
       "    <tr>\n",
       "      <th>1</th>\n",
       "      <td>16-control</td>\n",
       "      <td>12600000</td>\n",
       "      <td>2000000</td>\n",
       "      <td>161200</td>\n",
       "      <td>3359</td>\n",
       "      <td>174300</td>\n",
       "      <td>0</td>\n",
       "      <td>-10.4</td>\n",
       "      <td>67</td>\n",
       "      <td>7422934866856444970</td>\n",
       "      <td>Scare Prank USA</td>\n",
       "      <td>Follow me uOeuOe</td>\n",
       "      <td>original sound</td>\n",
       "      <td>7462017662344907550</td>\n",
       "      <td>Scare Prank USA</td>\n",
       "      <td></td>\n",
       "      <td>prank_scaring_jumpy_funnyprank_scareprank_scar...</td>\n",
       "      <td>7462017792586288415</td>\n",
       "      <td>2</td>\n",
       "    </tr>\n",
       "    <tr>\n",
       "      <th>2</th>\n",
       "      <td>16-control</td>\n",
       "      <td>3500000</td>\n",
       "      <td>14000</td>\n",
       "      <td>160</td>\n",
       "      <td>0</td>\n",
       "      <td>1456</td>\n",
       "      <td>0</td>\n",
       "      <td>N/A</td>\n",
       "      <td>25985</td>\n",
       "      <td>7070621747376604162</td>\n",
       "      <td>Tiktok for Business</td>\n",
       "      <td></td>\n",
       "      <td>Promoted Music</td>\n",
       "      <td>7414003614940695312</td>\n",
       "      <td>Unknown Music Author</td>\n",
       "      <td>Unknown Album</td>\n",
       "      <td></td>\n",
       "      <td>7414003587438611713</td>\n",
       "      <td>3</td>\n",
       "    </tr>\n",
       "    <tr>\n",
       "      <th>3</th>\n",
       "      <td>16-control</td>\n",
       "      <td>4700000</td>\n",
       "      <td>251500</td>\n",
       "      <td>1920</td>\n",
       "      <td>752</td>\n",
       "      <td>20700</td>\n",
       "      <td>0</td>\n",
       "      <td>-13.8</td>\n",
       "      <td>175</td>\n",
       "      <td>7375457841778099242</td>\n",
       "      <td>ayejeje</td>\n",
       "      <td></td>\n",
       "      <td>original sound</td>\n",
       "      <td>7448295532134484782</td>\n",
       "      <td>ayejeje</td>\n",
       "      <td></td>\n",
       "      <td>pov_funny_pov</td>\n",
       "      <td>7448295527004982574</td>\n",
       "      <td>4</td>\n",
       "    </tr>\n",
       "    <tr>\n",
       "      <th>4</th>\n",
       "      <td>16-control</td>\n",
       "      <td>64500000</td>\n",
       "      <td>7800000</td>\n",
       "      <td>630700</td>\n",
       "      <td>25800</td>\n",
       "      <td>682500</td>\n",
       "      <td>0</td>\n",
       "      <td>-16</td>\n",
       "      <td>122</td>\n",
       "      <td>79639104283377664</td>\n",
       "      <td>Akamz</td>\n",
       "      <td>Mail Pro : Contact@atlas-agence.com</td>\n",
       "      <td>son original</td>\n",
       "      <td>7452067172380003094</td>\n",
       "      <td>Akamz</td>\n",
       "      <td></td>\n",
       "      <td>boyzinthehood</td>\n",
       "      <td>7452067110429150486</td>\n",
       "      <td>5</td>\n",
       "    </tr>\n",
       "    <tr>\n",
       "      <th>...</th>\n",
       "      <td>...</td>\n",
       "      <td>...</td>\n",
       "      <td>...</td>\n",
       "      <td>...</td>\n",
       "      <td>...</td>\n",
       "      <td>...</td>\n",
       "      <td>...</td>\n",
       "      <td>...</td>\n",
       "      <td>...</td>\n",
       "      <td>...</td>\n",
       "      <td>...</td>\n",
       "      <td>...</td>\n",
       "      <td>...</td>\n",
       "      <td>...</td>\n",
       "      <td>...</td>\n",
       "      <td>...</td>\n",
       "      <td>...</td>\n",
       "      <td>...</td>\n",
       "      <td>...</td>\n",
       "    </tr>\n",
       "    <tr>\n",
       "      <th>34068</th>\n",
       "      <td>42-experiment</td>\n",
       "      <td>1900000</td>\n",
       "      <td>377000</td>\n",
       "      <td>9905</td>\n",
       "      <td>2172</td>\n",
       "      <td>54100</td>\n",
       "      <td>0</td>\n",
       "      <td>-21.8</td>\n",
       "      <td>132</td>\n",
       "      <td>6676293103072658437</td>\n",
       "      <td>Brady LXIX</td>\n",
       "      <td>IG/FB:BRADYLXIX \\nother account:bradylxix2\\nME...</td>\n",
       "      <td>original sound</td>\n",
       "      <td>7461417766466243370</td>\n",
       "      <td>Brady LXIX</td>\n",
       "      <td>Unknown Album</td>\n",
       "      <td>bradylxix</td>\n",
       "      <td>7461417768965950763</td>\n",
       "      <td>1066</td>\n",
       "    </tr>\n",
       "    <tr>\n",
       "      <th>34069</th>\n",
       "      <td>42-experiment</td>\n",
       "      <td>1200000</td>\n",
       "      <td>80300</td>\n",
       "      <td>2216</td>\n",
       "      <td>673</td>\n",
       "      <td>33100</td>\n",
       "      <td>0</td>\n",
       "      <td>-13.8</td>\n",
       "      <td>35</td>\n",
       "      <td>6793632786105713666</td>\n",
       "      <td>CAPCUT TEMPLATE TRENDS</td>\n",
       "      <td>uiMUSIC PROMOTION DMui\\n\\nCREDITS TO THE OWNER...</td>\n",
       "      <td>AURA</td>\n",
       "      <td>7387573619378046993</td>\n",
       "      <td>Ogryzek</td>\n",
       "      <td>AURA</td>\n",
       "      <td>edit_smoothvelocity_softslowmotion_softslowmo_...</td>\n",
       "      <td>7447105323816602898</td>\n",
       "      <td>1067</td>\n",
       "    </tr>\n",
       "    <tr>\n",
       "      <th>34070</th>\n",
       "      <td>42-experiment</td>\n",
       "      <td>3800000</td>\n",
       "      <td>493000</td>\n",
       "      <td>13500</td>\n",
       "      <td>3063</td>\n",
       "      <td>104800</td>\n",
       "      <td>0</td>\n",
       "      <td>-6.7</td>\n",
       "      <td>62</td>\n",
       "      <td>7250349443498066990</td>\n",
       "      <td>vidz</td>\n",
       "      <td>Trying to influence a bigger audience uoOe\\nI ...</td>\n",
       "      <td>original sound</td>\n",
       "      <td>7451284899840953130</td>\n",
       "      <td>vidz</td>\n",
       "      <td>Unknown Album</td>\n",
       "      <td>edit</td>\n",
       "      <td>7451284883516771630</td>\n",
       "      <td>1068</td>\n",
       "    </tr>\n",
       "    <tr>\n",
       "      <th>34071</th>\n",
       "      <td>42-experiment</td>\n",
       "      <td>1500000</td>\n",
       "      <td>94100</td>\n",
       "      <td>10100</td>\n",
       "      <td>14000</td>\n",
       "      <td>16400</td>\n",
       "      <td>0</td>\n",
       "      <td>-9.3</td>\n",
       "      <td>61</td>\n",
       "      <td>6936022572887360517</td>\n",
       "      <td>hydgjgf</td>\n",
       "      <td></td>\n",
       "      <td>original sound</td>\n",
       "      <td>7445855150561905414</td>\n",
       "      <td>hydgjgf</td>\n",
       "      <td>Unknown Album</td>\n",
       "      <td>story_marrkadams</td>\n",
       "      <td>7445855110065818885</td>\n",
       "      <td>1069</td>\n",
       "    </tr>\n",
       "    <tr>\n",
       "      <th>34072</th>\n",
       "      <td>42-experiment</td>\n",
       "      <td>1900000</td>\n",
       "      <td>161100</td>\n",
       "      <td>22100</td>\n",
       "      <td>532</td>\n",
       "      <td>23900</td>\n",
       "      <td>0</td>\n",
       "      <td>-21</td>\n",
       "      <td>63</td>\n",
       "      <td>7412570664597783594</td>\n",
       "      <td>petlovers024</td>\n",
       "      <td>Total hilarious pranks</td>\n",
       "      <td>original sound</td>\n",
       "      <td>7451208725953661738</td>\n",
       "      <td>petlovers024</td>\n",
       "      <td>Unknown Album</td>\n",
       "      <td>funnymoments_pet_cat_funnycat_catlover_cattok_...</td>\n",
       "      <td>7451208800062868782</td>\n",
       "      <td>1070</td>\n",
       "    </tr>\n",
       "  </tbody>\n",
       "</table>\n",
       "<p>34073 rows × 19 columns</p>\n",
       "</div>"
      ],
      "text/plain": [
       "             user_id  play_count  digg_count  share_count  comment_count  \\\n",
       "0         16-control    17800000     1300000        14100           4585   \n",
       "1         16-control    12600000     2000000       161200           3359   \n",
       "2         16-control     3500000       14000          160              0   \n",
       "3         16-control     4700000      251500         1920            752   \n",
       "4         16-control    64500000     7800000       630700          25800   \n",
       "...              ...         ...         ...          ...            ...   \n",
       "34068  42-experiment     1900000      377000         9905           2172   \n",
       "34069  42-experiment     1200000       80300         2216            673   \n",
       "34070  42-experiment     3800000      493000        13500           3063   \n",
       "34071  42-experiment     1500000       94100        10100          14000   \n",
       "34072  42-experiment     1900000      161100        22100            532   \n",
       "\n",
       "       collect_count  repost_count loudness duration            author_id  \\\n",
       "0             123600             0    -18.4      131  7426628785489314862   \n",
       "1             174300             0    -10.4       67  7422934866856444970   \n",
       "2               1456             0      N/A    25985  7070621747376604162   \n",
       "3              20700             0    -13.8      175  7375457841778099242   \n",
       "4             682500             0      -16      122    79639104283377664   \n",
       "...              ...           ...      ...      ...                  ...   \n",
       "34068          54100             0    -21.8      132  6676293103072658437   \n",
       "34069          33100             0    -13.8       35  6793632786105713666   \n",
       "34070         104800             0     -6.7       62  7250349443498066990   \n",
       "34071          16400             0     -9.3       61  6936022572887360517   \n",
       "34072          23900             0      -21       63  7412570664597783594   \n",
       "\n",
       "                  author_name  \\\n",
       "0                      Alison   \n",
       "1             Scare Prank USA   \n",
       "2         Tiktok for Business   \n",
       "3                     ayejeje   \n",
       "4                       Akamz   \n",
       "...                       ...   \n",
       "34068              Brady LXIX   \n",
       "34069  CAPCUT TEMPLATE TRENDS   \n",
       "34070                    vidz   \n",
       "34071                 hydgjgf   \n",
       "34072            petlovers024   \n",
       "\n",
       "                                              author_bio      music_name  \\\n",
       "0                                                         original sound   \n",
       "1                                       Follow me uOeuOe  original sound   \n",
       "2                                                         Promoted Music   \n",
       "3                                                         original sound   \n",
       "4                    Mail Pro : Contact@atlas-agence.com    son original   \n",
       "...                                                  ...             ...   \n",
       "34068  IG/FB:BRADYLXIX \\nother account:bradylxix2\\nME...  original sound   \n",
       "34069  uiMUSIC PROMOTION DMui\\n\\nCREDITS TO THE OWNER...            AURA   \n",
       "34070  Trying to influence a bigger audience uoOe\\nI ...  original sound   \n",
       "34071                                                     original sound   \n",
       "34072                             Total hilarious pranks  original sound   \n",
       "\n",
       "                  music_id          music_author    music_album  \\\n",
       "0      7440407226923240223                Alison                  \n",
       "1      7462017662344907550       Scare Prank USA                  \n",
       "2      7414003614940695312  Unknown Music Author  Unknown Album   \n",
       "3      7448295532134484782               ayejeje                  \n",
       "4      7452067172380003094                 Akamz                  \n",
       "...                    ...                   ...            ...   \n",
       "34068  7461417766466243370            Brady LXIX  Unknown Album   \n",
       "34069  7387573619378046993               Ogryzek           AURA   \n",
       "34070  7451284899840953130                  vidz  Unknown Album   \n",
       "34071  7445855150561905414               hydgjgf  Unknown Album   \n",
       "34072  7451208725953661738          petlovers024  Unknown Album   \n",
       "\n",
       "                                                hashtags             video_id  \\\n",
       "0                                                 movies  7440407367017123102   \n",
       "1      prank_scaring_jumpy_funnyprank_scareprank_scar...  7462017792586288415   \n",
       "2                                                         7414003587438611713   \n",
       "3                                          pov_funny_pov  7448295527004982574   \n",
       "4                                          boyzinthehood  7452067110429150486   \n",
       "...                                                  ...                  ...   \n",
       "34068                                          bradylxix  7461417768965950763   \n",
       "34069  edit_smoothvelocity_softslowmotion_softslowmo_...  7447105323816602898   \n",
       "34070                                               edit  7451284883516771630   \n",
       "34071                                   story_marrkadams  7445855110065818885   \n",
       "34072  funnymoments_pet_cat_funnycat_catlover_cattok_...  7451208800062868782   \n",
       "\n",
       "       run_number  \n",
       "0               1  \n",
       "1               2  \n",
       "2               3  \n",
       "3               4  \n",
       "4               5  \n",
       "...           ...  \n",
       "34068        1066  \n",
       "34069        1067  \n",
       "34070        1068  \n",
       "34071        1069  \n",
       "34072        1070  \n",
       "\n",
       "[34073 rows x 19 columns]"
      ]
     },
     "execution_count": 5,
     "metadata": {},
     "output_type": "execute_result"
    }
   ],
   "source": [
    "data_combined = load_data_into_df(scenarios)\n",
    "data_combined"
   ]
  },
  {
   "cell_type": "code",
   "execution_count": 6,
   "metadata": {},
   "outputs": [],
   "source": [
    "def get_hashtag_sets(df):\n",
    "    \"\"\"Extract sets of hashtags from each video in the dataframe\"\"\"\n",
    "    def clean_hashtags(tags):\n",
    "        # Convert to lowercase and remove non-alphanumeric characters\n",
    "        cleaned = []\n",
    "        for tag in tags.split('_'):\n",
    "            # Keep only alphanumeric chars and convert to lowercase\n",
    "            clean_tag = ''.join(c for c in tag if c.isalnum()).lower()\n",
    "            if clean_tag:  # Only add if not empty\n",
    "                cleaned.append(clean_tag)\n",
    "        return set(cleaned)\n",
    "    \n",
    "    return [clean_hashtags(tags) for tags in df['hashtags'] if tags]"
   ]
  },
  {
   "cell_type": "markdown",
   "metadata": {},
   "source": [
    "`analyze_hashtag_similarity`\n",
    "\n",
    "1. Comparing **experimental vs control groups** in video buckets (default 150 videos/bucket)\n",
    "2. Calculating **hashtag overlaps** (≥1 shared hashtag = match)\n",
    "3. Tracking similarity trends through:\n",
    "   - First/last bucket comparison metrics\n",
    "4. Generating formatted tables showing:\n",
    "   - Scenario-specific similarity progression\n",
    "   - Aggregate trend differences (last - first bucket)"
   ]
  },
  {
   "cell_type": "code",
   "execution_count": 7,
   "metadata": {},
   "outputs": [],
   "source": [
    "def analyze_hashtag_similarity(data_combined, scenarios, bucket_size=150):\n",
    "    \"\"\"\n",
    "    Analyze hashtag similarity between videos within buckets.\n",
    "    A match occurs if two videos share at least one hashtag.\n",
    "    \n",
    "    Parameters:\n",
    "    - data_combined: DataFrame with the video data \n",
    "    - scenarios: List of scenario numbers to analyze\n",
    "    - bucket_size: Size of buckets for aggregating results\n",
    "    \"\"\"\n",
    "    all_similarities = {}\n",
    "    \n",
    "    # Process each scenario\n",
    "    for scenario in scenarios:\n",
    "        bucket_similarities = []\n",
    "        \n",
    "        # Get data for the scenario\n",
    "        exp_data = data_combined[data_combined['user_id'] == f'{scenario}-experiment'].sort_values('run_number')\n",
    "        ctrl_data = data_combined[data_combined['user_id'] == f'{scenario}-control'].sort_values('run_number')\n",
    "            \n",
    "        # Determine analysis length and get buckets\n",
    "        max_videos = min(len(exp_data), len(ctrl_data))\n",
    "        exp_data = exp_data.iloc[:max_videos]\n",
    "        ctrl_data = ctrl_data.iloc[:max_videos]\n",
    "        \n",
    "        # Calculate similarities between buckets\n",
    "        for i in range(0, max_videos - bucket_size + 1, bucket_size):\n",
    "            exp_bucket = exp_data.iloc[i:i+bucket_size]\n",
    "            ctrl_bucket = ctrl_data.iloc[i:i+bucket_size]\n",
    "            \n",
    "            exp_tag_sets = get_hashtag_sets(exp_bucket)\n",
    "            ctrl_tag_sets = get_hashtag_sets(ctrl_bucket)\n",
    "            \n",
    "            # Combine both buckets\n",
    "            all_tag_sets = exp_tag_sets + ctrl_tag_sets\n",
    "            \n",
    "            # Calculate matches for each video\n",
    "            total_matches = 0\n",
    "            total_comparisons = 0\n",
    "            \n",
    "            for idx, video_tags in enumerate(all_tag_sets):\n",
    "                # Compare with all other videos except itself\n",
    "                for other_idx in range(len(all_tag_sets)):\n",
    "                    if idx != other_idx:\n",
    "                        total_comparisons += 1\n",
    "                        if video_tags.intersection(all_tag_sets[other_idx]):\n",
    "                            total_matches += 1\n",
    "            \n",
    "            # Calculate average similarity for this bucket\n",
    "            avg_similarity = total_matches / total_comparisons if total_comparisons > 0 else 0\n",
    "            bucket_similarities.append(avg_similarity)\n",
    "        \n",
    "        # Store results\n",
    "        all_similarities[scenario] = bucket_similarities\n",
    "        \n",
    "    # Print table\n",
    "    print(\"\\nAVERAGE HASHTAG SIMILARITY BY VIDEO BUCKET\")\n",
    "    print(\"=\"*80)\n",
    "    \n",
    "    headers = [\"Scenario\"]\n",
    "    max_buckets = max(len(sims) for sims in all_similarities.values())\n",
    "    for i in range(max_buckets):\n",
    "        start = i * bucket_size + 1\n",
    "        end = (i + 1) * bucket_size\n",
    "        headers.append(f\"Videos {start}-{end}\")\n",
    "    \n",
    "    print(\" | \".join(headers))\n",
    "    print(\"-\" * 80)\n",
    "    \n",
    "    # Track sums for overall averages\n",
    "    first_bucket_sum = 0\n",
    "    last_bucket_sum = 0\n",
    "    scenario_count = 0\n",
    "    \n",
    "    for scenario in scenarios:\n",
    "        scenario_similarities = all_similarities[scenario]\n",
    "        row = [str(scenario)]\n",
    "        \n",
    "        for i in range(max_buckets):\n",
    "            if i < len(scenario_similarities):\n",
    "                row.append(f\"{scenario_similarities[i]:.4f}\")\n",
    "                if i == 0:\n",
    "                    first_bucket_sum += scenario_similarities[0]\n",
    "                if i == len(scenario_similarities) - 1:\n",
    "                    last_bucket_sum += scenario_similarities[-1]\n",
    "            else:\n",
    "                row.append(\"-\")\n",
    "        \n",
    "        scenario_count += 1\n",
    "        print(\" | \".join(row))\n",
    "    \n",
    "    # Print average row\n",
    "    print(\"-\" * 80)\n",
    "    if scenario_count > 0:\n",
    "        first_bucket_avg = first_bucket_sum / scenario_count\n",
    "        last_bucket_avg = last_bucket_sum / scenario_count\n",
    "        print(f\"First Bucket [size {bucket_size}] Average: {first_bucket_avg:.4f}\")\n",
    "        print(f\"Last Bucket [size {bucket_size}] Average: {last_bucket_avg:.4f}\")\n",
    "        print(f\"Difference (Last - First): {(last_bucket_avg - first_bucket_avg):.4f}\")\n",
    "\n",
    "    return all_similarities"
   ]
  },
  {
   "cell_type": "code",
   "execution_count": 8,
   "metadata": {},
   "outputs": [
    {
     "name": "stdout",
     "output_type": "stream",
     "text": [
      "\n",
      "AVERAGE HASHTAG SIMILARITY BY VIDEO BUCKET\n",
      "================================================================================\n",
      "Scenario | Videos 1-125 | Videos 126-250 | Videos 251-375 | Videos 376-500 | Videos 501-625 | Videos 626-750 | Videos 751-875 | Videos 876-1000 | Videos 1001-1125\n",
      "--------------------------------------------------------------------------------\n",
      "33 | 0.0678 | 0.0696 | 0.0707 | 0.0720 | 0.0647 | 0.0535 | 0.0673 | 0.0520 | -\n",
      "34 | 0.0241 | 0.0140 | 0.0380 | 0.0276 | 0.0423 | 0.0301 | 0.0191 | 0.0236 | -\n",
      "35 | 0.0639 | 0.0736 | 0.0440 | 0.0692 | 0.0462 | 0.0466 | - | - | -\n",
      "37 | 0.0624 | 0.0401 | 0.0362 | 0.0509 | 0.0522 | 0.0386 | 0.0509 | 0.0456 | -\n",
      "38 | 0.0269 | 0.0289 | 0.1183 | 0.1083 | 0.1232 | 0.0973 | 0.0508 | 0.0484 | -\n",
      "39 | 0.1097 | 0.0760 | 0.0582 | 0.0518 | 0.0663 | 0.0443 | - | - | -\n",
      "40 | 0.0461 | 0.0311 | 0.0588 | 0.0714 | 0.0979 | - | - | - | -\n",
      "41 | 0.0206 | 0.0276 | 0.0224 | 0.0357 | 0.0589 | 0.0391 | 0.0430 | 0.0301 | 0.0389\n",
      "42 | 0.0392 | 0.0326 | 0.0611 | 0.0716 | 0.0793 | 0.0653 | 0.0462 | - | -\n",
      "--------------------------------------------------------------------------------\n",
      "First Bucket [size 125] Average: 0.0512\n",
      "Last Bucket [size 125] Average: 0.0493\n",
      "Difference (Last - First): -0.0019\n"
     ]
    }
   ],
   "source": [
    "# Example usage:\n",
    "scenarios = [33,34,35,37,38,39,40,41,42]  # List of scenarios to analyze\n",
    "results = analyze_hashtag_similarity(\n",
    "    data_combined=data_combined,\n",
    "    scenarios=scenarios,\n",
    "    bucket_size=125\n",
    ")"
   ]
  },
  {
   "cell_type": "markdown",
   "metadata": {},
   "source": [
    "`analyze_control_vs_experiment`\n",
    "\n",
    "1. Calculating **control vs experiment similarity scores** using:\n",
    "   - Bucket-based comparisons (default 25 videos/bucket)\n",
    "   - Intersection ratios of hashtag sets\n",
    "2. Tracking trends with:\n",
    "   - Spearman correlation (ρ) and p-values\n",
    "   - Trend lines\n",
    "3. Visualizing results through:\n",
    "   - Individual scenario trajectories\n",
    "   - Aggregated group comparisons"
   ]
  },
  {
   "cell_type": "code",
   "execution_count": 9,
   "metadata": {},
   "outputs": [
    {
     "data": {
      "application/vnd.plotly.v1+json": {
       "config": {
        "plotlyServerURL": "https://plot.ly"
       },
       "data": [
        {
         "line": {
          "color": "#636EFA"
         },
         "marker": {
          "color": "#636EFA"
         },
         "mode": "lines+markers",
         "name": "Scenario 16 (ρ=0.58, p=0.002)",
         "type": "scatter",
         "x": [
          25,
          75,
          125,
          175,
          225,
          275,
          325,
          375,
          425,
          475,
          525,
          575,
          625,
          675,
          725,
          775,
          825,
          875,
          925,
          975,
          1025,
          1075,
          1125,
          1175,
          1225
         ],
         "y": [
          0.009259259259259259,
          0.014619883040935672,
          0.03616813294232649,
          0.016129032258064516,
          0.016632016632016633,
          0.016550522648083623,
          0.02261904761904762,
          0.024193548387096774,
          0.051319648093841645,
          0.024242424242424242,
          0.02586206896551724,
          0.05170387779083431,
          0.026785714285714284,
          0.021052631578947368,
          0.03048780487804878,
          0.02849264705882353,
          0.01904761904761905,
          0.027573529411764705,
          0.049586776859504134,
          0.032407407407407406,
          0.03225806451612903,
          0.04376657824933687,
          0.05555555555555555,
          0.023668639053254437,
          0.041050903119868636
         ]
        },
        {
         "line": {
          "color": "#636EFA",
          "dash": "dash"
         },
         "mode": "lines",
         "showlegend": false,
         "type": "scatter",
         "x": [
          25,
          75,
          125,
          175,
          225,
          275,
          325,
          375,
          425,
          475,
          525,
          575,
          625,
          675,
          725,
          775,
          825,
          875,
          925,
          975,
          1025,
          1075,
          1125,
          1175,
          1225
         ],
         "y": [
          0.018558651925149584,
          0.01948220870772519,
          0.020405765490300796,
          0.021329322272876403,
          0.022252879055452007,
          0.023176435838027615,
          0.02409999262060322,
          0.025023549403178826,
          0.02594710618575443,
          0.026870662968330038,
          0.027794219750905645,
          0.028717776533481253,
          0.029641333316056857,
          0.03056489009863246,
          0.03148844688120807,
          0.032412003663783676,
          0.03333556044635928,
          0.03425911722893489,
          0.03518267401151049,
          0.0361062307940861,
          0.037029787576661706,
          0.03795334435923731,
          0.038876901141812914,
          0.03980045792438852,
          0.04072401470696413
         ]
        },
        {
         "line": {
          "color": "#EF553B"
         },
         "marker": {
          "color": "#EF553B"
         },
         "mode": "lines+markers",
         "name": "Scenario 18 (ρ=-0.33, p=0.146)",
         "type": "scatter",
         "x": [
          25,
          75,
          125,
          175,
          225,
          275,
          325,
          375,
          425,
          475,
          525,
          575,
          625,
          675,
          725,
          775,
          825,
          875,
          925,
          975,
          1025
         ],
         "y": [
          0.054498269896193774,
          0.0234375,
          0.06454248366013073,
          0.055357142857142855,
          0.06060606060606061,
          0.03918367346938775,
          0.037575757575757575,
          0.038903625110521665,
          0.024761904761904763,
          0.027958993476234855,
          0.013756613756613757,
          0.020531400966183576,
          0.02546296296296296,
          0.03333333333333333,
          0.029743589743589743,
          0.017592592592592594,
          0.03736263736263736,
          0.015610651974288337,
          0.03940217391304348,
          0.03513770180436847,
          0.04377104377104377
         ]
        },
        {
         "line": {
          "color": "#EF553B",
          "dash": "dash"
         },
         "mode": "lines",
         "showlegend": false,
         "type": "scatter",
         "x": [
          25,
          75,
          125,
          175,
          225,
          275,
          325,
          375,
          425,
          475,
          525,
          575,
          625,
          675,
          725,
          775,
          825,
          875,
          925,
          975,
          1025
         ],
         "y": [
          0.04533432565748295,
          0.04431770315646795,
          0.043301080655452955,
          0.04228445815443795,
          0.04126783565342295,
          0.040251213152407955,
          0.03923459065139295,
          0.03821796815037795,
          0.037201345649362956,
          0.036184723148347954,
          0.03516810064733295,
          0.03415147814631796,
          0.033134855645302955,
          0.03211823314428795,
          0.031101610643272954,
          0.030084988142257955,
          0.029068365641242957,
          0.028051743140227955,
          0.027035120639212956,
          0.026018498138197954,
          0.025001875637182955
         ]
        },
        {
         "line": {
          "color": "#00CC96"
         },
         "marker": {
          "color": "#00CC96"
         },
         "mode": "lines+markers",
         "name": "Scenario 22 (ρ=0.63, p=0.009)",
         "type": "scatter",
         "x": [
          25,
          75,
          125,
          175,
          225,
          275,
          325,
          375,
          425,
          475,
          525,
          575,
          625,
          675,
          725,
          775
         ],
         "y": [
          0.043010752688172046,
          0.02027027027027027,
          0.03259141494435612,
          0.04047619047619048,
          0.057432432432432436,
          0.051669316375198726,
          0.07700892857142858,
          0.043243243243243246,
          0.044534412955465584,
          0.03997289972899729,
          0.03360116873630387,
          0.0777000777000777,
          0.06890243902439025,
          0.0860597439544808,
          0.05787545787545788,
          0.07027027027027027
         ]
        },
        {
         "line": {
          "color": "#00CC96",
          "dash": "dash"
         },
         "mode": "lines",
         "showlegend": false,
         "type": "scatter",
         "x": [
          25,
          75,
          125,
          175,
          225,
          275,
          325,
          375,
          425,
          475,
          525,
          575,
          625,
          675,
          725,
          775
         ],
         "y": [
          0.03422107193261153,
          0.036696754168652784,
          0.03917243640469404,
          0.041648118640735296,
          0.044123800876776545,
          0.0465994831128178,
          0.04907516534885906,
          0.05155084758490031,
          0.05402652982094157,
          0.05650221205698282,
          0.05897789429302407,
          0.06145357652906533,
          0.06392925876510658,
          0.06640494100114783,
          0.06888062323718909,
          0.07135630547323035
         ]
        }
       ],
       "layout": {
        "template": {
         "data": {
          "bar": [
           {
            "error_x": {
             "color": "#2a3f5f"
            },
            "error_y": {
             "color": "#2a3f5f"
            },
            "marker": {
             "line": {
              "color": "white",
              "width": 0.5
             },
             "pattern": {
              "fillmode": "overlay",
              "size": 10,
              "solidity": 0.2
             }
            },
            "type": "bar"
           }
          ],
          "barpolar": [
           {
            "marker": {
             "line": {
              "color": "white",
              "width": 0.5
             },
             "pattern": {
              "fillmode": "overlay",
              "size": 10,
              "solidity": 0.2
             }
            },
            "type": "barpolar"
           }
          ],
          "carpet": [
           {
            "aaxis": {
             "endlinecolor": "#2a3f5f",
             "gridcolor": "#C8D4E3",
             "linecolor": "#C8D4E3",
             "minorgridcolor": "#C8D4E3",
             "startlinecolor": "#2a3f5f"
            },
            "baxis": {
             "endlinecolor": "#2a3f5f",
             "gridcolor": "#C8D4E3",
             "linecolor": "#C8D4E3",
             "minorgridcolor": "#C8D4E3",
             "startlinecolor": "#2a3f5f"
            },
            "type": "carpet"
           }
          ],
          "choropleth": [
           {
            "colorbar": {
             "outlinewidth": 0,
             "ticks": ""
            },
            "type": "choropleth"
           }
          ],
          "contour": [
           {
            "colorbar": {
             "outlinewidth": 0,
             "ticks": ""
            },
            "colorscale": [
             [
              0,
              "#0d0887"
             ],
             [
              0.1111111111111111,
              "#46039f"
             ],
             [
              0.2222222222222222,
              "#7201a8"
             ],
             [
              0.3333333333333333,
              "#9c179e"
             ],
             [
              0.4444444444444444,
              "#bd3786"
             ],
             [
              0.5555555555555556,
              "#d8576b"
             ],
             [
              0.6666666666666666,
              "#ed7953"
             ],
             [
              0.7777777777777778,
              "#fb9f3a"
             ],
             [
              0.8888888888888888,
              "#fdca26"
             ],
             [
              1,
              "#f0f921"
             ]
            ],
            "type": "contour"
           }
          ],
          "contourcarpet": [
           {
            "colorbar": {
             "outlinewidth": 0,
             "ticks": ""
            },
            "type": "contourcarpet"
           }
          ],
          "heatmap": [
           {
            "colorbar": {
             "outlinewidth": 0,
             "ticks": ""
            },
            "colorscale": [
             [
              0,
              "#0d0887"
             ],
             [
              0.1111111111111111,
              "#46039f"
             ],
             [
              0.2222222222222222,
              "#7201a8"
             ],
             [
              0.3333333333333333,
              "#9c179e"
             ],
             [
              0.4444444444444444,
              "#bd3786"
             ],
             [
              0.5555555555555556,
              "#d8576b"
             ],
             [
              0.6666666666666666,
              "#ed7953"
             ],
             [
              0.7777777777777778,
              "#fb9f3a"
             ],
             [
              0.8888888888888888,
              "#fdca26"
             ],
             [
              1,
              "#f0f921"
             ]
            ],
            "type": "heatmap"
           }
          ],
          "heatmapgl": [
           {
            "colorbar": {
             "outlinewidth": 0,
             "ticks": ""
            },
            "colorscale": [
             [
              0,
              "#0d0887"
             ],
             [
              0.1111111111111111,
              "#46039f"
             ],
             [
              0.2222222222222222,
              "#7201a8"
             ],
             [
              0.3333333333333333,
              "#9c179e"
             ],
             [
              0.4444444444444444,
              "#bd3786"
             ],
             [
              0.5555555555555556,
              "#d8576b"
             ],
             [
              0.6666666666666666,
              "#ed7953"
             ],
             [
              0.7777777777777778,
              "#fb9f3a"
             ],
             [
              0.8888888888888888,
              "#fdca26"
             ],
             [
              1,
              "#f0f921"
             ]
            ],
            "type": "heatmapgl"
           }
          ],
          "histogram": [
           {
            "marker": {
             "pattern": {
              "fillmode": "overlay",
              "size": 10,
              "solidity": 0.2
             }
            },
            "type": "histogram"
           }
          ],
          "histogram2d": [
           {
            "colorbar": {
             "outlinewidth": 0,
             "ticks": ""
            },
            "colorscale": [
             [
              0,
              "#0d0887"
             ],
             [
              0.1111111111111111,
              "#46039f"
             ],
             [
              0.2222222222222222,
              "#7201a8"
             ],
             [
              0.3333333333333333,
              "#9c179e"
             ],
             [
              0.4444444444444444,
              "#bd3786"
             ],
             [
              0.5555555555555556,
              "#d8576b"
             ],
             [
              0.6666666666666666,
              "#ed7953"
             ],
             [
              0.7777777777777778,
              "#fb9f3a"
             ],
             [
              0.8888888888888888,
              "#fdca26"
             ],
             [
              1,
              "#f0f921"
             ]
            ],
            "type": "histogram2d"
           }
          ],
          "histogram2dcontour": [
           {
            "colorbar": {
             "outlinewidth": 0,
             "ticks": ""
            },
            "colorscale": [
             [
              0,
              "#0d0887"
             ],
             [
              0.1111111111111111,
              "#46039f"
             ],
             [
              0.2222222222222222,
              "#7201a8"
             ],
             [
              0.3333333333333333,
              "#9c179e"
             ],
             [
              0.4444444444444444,
              "#bd3786"
             ],
             [
              0.5555555555555556,
              "#d8576b"
             ],
             [
              0.6666666666666666,
              "#ed7953"
             ],
             [
              0.7777777777777778,
              "#fb9f3a"
             ],
             [
              0.8888888888888888,
              "#fdca26"
             ],
             [
              1,
              "#f0f921"
             ]
            ],
            "type": "histogram2dcontour"
           }
          ],
          "mesh3d": [
           {
            "colorbar": {
             "outlinewidth": 0,
             "ticks": ""
            },
            "type": "mesh3d"
           }
          ],
          "parcoords": [
           {
            "line": {
             "colorbar": {
              "outlinewidth": 0,
              "ticks": ""
             }
            },
            "type": "parcoords"
           }
          ],
          "pie": [
           {
            "automargin": true,
            "type": "pie"
           }
          ],
          "scatter": [
           {
            "fillpattern": {
             "fillmode": "overlay",
             "size": 10,
             "solidity": 0.2
            },
            "type": "scatter"
           }
          ],
          "scatter3d": [
           {
            "line": {
             "colorbar": {
              "outlinewidth": 0,
              "ticks": ""
             }
            },
            "marker": {
             "colorbar": {
              "outlinewidth": 0,
              "ticks": ""
             }
            },
            "type": "scatter3d"
           }
          ],
          "scattercarpet": [
           {
            "marker": {
             "colorbar": {
              "outlinewidth": 0,
              "ticks": ""
             }
            },
            "type": "scattercarpet"
           }
          ],
          "scattergeo": [
           {
            "marker": {
             "colorbar": {
              "outlinewidth": 0,
              "ticks": ""
             }
            },
            "type": "scattergeo"
           }
          ],
          "scattergl": [
           {
            "marker": {
             "colorbar": {
              "outlinewidth": 0,
              "ticks": ""
             }
            },
            "type": "scattergl"
           }
          ],
          "scattermapbox": [
           {
            "marker": {
             "colorbar": {
              "outlinewidth": 0,
              "ticks": ""
             }
            },
            "type": "scattermapbox"
           }
          ],
          "scatterpolar": [
           {
            "marker": {
             "colorbar": {
              "outlinewidth": 0,
              "ticks": ""
             }
            },
            "type": "scatterpolar"
           }
          ],
          "scatterpolargl": [
           {
            "marker": {
             "colorbar": {
              "outlinewidth": 0,
              "ticks": ""
             }
            },
            "type": "scatterpolargl"
           }
          ],
          "scatterternary": [
           {
            "marker": {
             "colorbar": {
              "outlinewidth": 0,
              "ticks": ""
             }
            },
            "type": "scatterternary"
           }
          ],
          "surface": [
           {
            "colorbar": {
             "outlinewidth": 0,
             "ticks": ""
            },
            "colorscale": [
             [
              0,
              "#0d0887"
             ],
             [
              0.1111111111111111,
              "#46039f"
             ],
             [
              0.2222222222222222,
              "#7201a8"
             ],
             [
              0.3333333333333333,
              "#9c179e"
             ],
             [
              0.4444444444444444,
              "#bd3786"
             ],
             [
              0.5555555555555556,
              "#d8576b"
             ],
             [
              0.6666666666666666,
              "#ed7953"
             ],
             [
              0.7777777777777778,
              "#fb9f3a"
             ],
             [
              0.8888888888888888,
              "#fdca26"
             ],
             [
              1,
              "#f0f921"
             ]
            ],
            "type": "surface"
           }
          ],
          "table": [
           {
            "cells": {
             "fill": {
              "color": "#EBF0F8"
             },
             "line": {
              "color": "white"
             }
            },
            "header": {
             "fill": {
              "color": "#C8D4E3"
             },
             "line": {
              "color": "white"
             }
            },
            "type": "table"
           }
          ]
         },
         "layout": {
          "annotationdefaults": {
           "arrowcolor": "#2a3f5f",
           "arrowhead": 0,
           "arrowwidth": 1
          },
          "autotypenumbers": "strict",
          "coloraxis": {
           "colorbar": {
            "outlinewidth": 0,
            "ticks": ""
           }
          },
          "colorscale": {
           "diverging": [
            [
             0,
             "#8e0152"
            ],
            [
             0.1,
             "#c51b7d"
            ],
            [
             0.2,
             "#de77ae"
            ],
            [
             0.3,
             "#f1b6da"
            ],
            [
             0.4,
             "#fde0ef"
            ],
            [
             0.5,
             "#f7f7f7"
            ],
            [
             0.6,
             "#e6f5d0"
            ],
            [
             0.7,
             "#b8e186"
            ],
            [
             0.8,
             "#7fbc41"
            ],
            [
             0.9,
             "#4d9221"
            ],
            [
             1,
             "#276419"
            ]
           ],
           "sequential": [
            [
             0,
             "#0d0887"
            ],
            [
             0.1111111111111111,
             "#46039f"
            ],
            [
             0.2222222222222222,
             "#7201a8"
            ],
            [
             0.3333333333333333,
             "#9c179e"
            ],
            [
             0.4444444444444444,
             "#bd3786"
            ],
            [
             0.5555555555555556,
             "#d8576b"
            ],
            [
             0.6666666666666666,
             "#ed7953"
            ],
            [
             0.7777777777777778,
             "#fb9f3a"
            ],
            [
             0.8888888888888888,
             "#fdca26"
            ],
            [
             1,
             "#f0f921"
            ]
           ],
           "sequentialminus": [
            [
             0,
             "#0d0887"
            ],
            [
             0.1111111111111111,
             "#46039f"
            ],
            [
             0.2222222222222222,
             "#7201a8"
            ],
            [
             0.3333333333333333,
             "#9c179e"
            ],
            [
             0.4444444444444444,
             "#bd3786"
            ],
            [
             0.5555555555555556,
             "#d8576b"
            ],
            [
             0.6666666666666666,
             "#ed7953"
            ],
            [
             0.7777777777777778,
             "#fb9f3a"
            ],
            [
             0.8888888888888888,
             "#fdca26"
            ],
            [
             1,
             "#f0f921"
            ]
           ]
          },
          "colorway": [
           "#636efa",
           "#EF553B",
           "#00cc96",
           "#ab63fa",
           "#FFA15A",
           "#19d3f3",
           "#FF6692",
           "#B6E880",
           "#FF97FF",
           "#FECB52"
          ],
          "font": {
           "color": "#2a3f5f"
          },
          "geo": {
           "bgcolor": "white",
           "lakecolor": "white",
           "landcolor": "white",
           "showlakes": true,
           "showland": true,
           "subunitcolor": "#C8D4E3"
          },
          "hoverlabel": {
           "align": "left"
          },
          "hovermode": "closest",
          "mapbox": {
           "style": "light"
          },
          "paper_bgcolor": "white",
          "plot_bgcolor": "white",
          "polar": {
           "angularaxis": {
            "gridcolor": "#EBF0F8",
            "linecolor": "#EBF0F8",
            "ticks": ""
           },
           "bgcolor": "white",
           "radialaxis": {
            "gridcolor": "#EBF0F8",
            "linecolor": "#EBF0F8",
            "ticks": ""
           }
          },
          "scene": {
           "xaxis": {
            "backgroundcolor": "white",
            "gridcolor": "#DFE8F3",
            "gridwidth": 2,
            "linecolor": "#EBF0F8",
            "showbackground": true,
            "ticks": "",
            "zerolinecolor": "#EBF0F8"
           },
           "yaxis": {
            "backgroundcolor": "white",
            "gridcolor": "#DFE8F3",
            "gridwidth": 2,
            "linecolor": "#EBF0F8",
            "showbackground": true,
            "ticks": "",
            "zerolinecolor": "#EBF0F8"
           },
           "zaxis": {
            "backgroundcolor": "white",
            "gridcolor": "#DFE8F3",
            "gridwidth": 2,
            "linecolor": "#EBF0F8",
            "showbackground": true,
            "ticks": "",
            "zerolinecolor": "#EBF0F8"
           }
          },
          "shapedefaults": {
           "line": {
            "color": "#2a3f5f"
           }
          },
          "ternary": {
           "aaxis": {
            "gridcolor": "#DFE8F3",
            "linecolor": "#A2B1C6",
            "ticks": ""
           },
           "baxis": {
            "gridcolor": "#DFE8F3",
            "linecolor": "#A2B1C6",
            "ticks": ""
           },
           "bgcolor": "white",
           "caxis": {
            "gridcolor": "#DFE8F3",
            "linecolor": "#A2B1C6",
            "ticks": ""
           }
          },
          "title": {
           "x": 0.05
          },
          "xaxis": {
           "automargin": true,
           "gridcolor": "#EBF0F8",
           "linecolor": "#EBF0F8",
           "ticks": "",
           "title": {
            "standoff": 15
           },
           "zerolinecolor": "#EBF0F8",
           "zerolinewidth": 2
          },
          "yaxis": {
           "automargin": true,
           "gridcolor": "#EBF0F8",
           "linecolor": "#EBF0F8",
           "ticks": "",
           "title": {
            "standoff": 15
           },
           "zerolinecolor": "#EBF0F8",
           "zerolinewidth": 2
          }
         }
        },
        "title": {
         "text": "Control vs Experiment Hashtag Similarity"
        },
        "xaxis": {
         "title": {
          "text": "Video Position"
         }
        },
        "yaxis": {
         "title": {
          "text": "Similarity Score"
         }
        }
       }
      }
     },
     "metadata": {},
     "output_type": "display_data"
    },
    {
     "data": {
      "application/vnd.plotly.v1+json": {
       "config": {
        "plotlyServerURL": "https://plot.ly"
       },
       "data": [
        {
         "line": {
          "color": "#636EFA"
         },
         "marker": {
          "color": "#636EFA"
         },
         "mode": "lines+markers",
         "name": "Likes hashtags (ρ=0.08, p=0.698)",
         "type": "scatter",
         "x": [
          25,
          75,
          125,
          175,
          225,
          275,
          325,
          375,
          425,
          475,
          525,
          575,
          625,
          675,
          725,
          775,
          825,
          875,
          925,
          975,
          1025,
          1075,
          1125,
          1175,
          1225
         ],
         "y": [
          0.03558942728120836,
          0.019442551103735314,
          0.04443401051560445,
          0.03732078853046595,
          0.04489016989016989,
          0.03580117083089004,
          0.04573457792207792,
          0.035446805580287226,
          0.040205321937070666,
          0.03072477248255213,
          0.024406617152811626,
          0.04997845215236519,
          0.04038370542435583,
          0.0468152362889205,
          0.03936895083236547,
          0.038785169973895466,
          0.028205128205128206,
          0.02159209069302652,
          0.04449447538627381,
          0.03377255460588793,
          0.0380145541435864,
          0.04376657824933687,
          0.05555555555555555,
          0.023668639053254437,
          0.041050903119868636
         ]
        },
        {
         "line": {
          "color": "#636EFA",
          "dash": "dash"
         },
         "mode": "lines",
         "showlegend": false,
         "type": "scatter",
         "x": [
          25,
          75,
          125,
          175,
          225,
          275,
          325,
          375,
          425,
          475,
          525,
          575,
          625,
          675,
          725,
          775,
          825,
          875,
          925,
          975,
          1025,
          1075,
          1125,
          1175,
          1225
         ],
         "y": [
          0.036301546659002266,
          0.036407911793787724,
          0.03651427692857318,
          0.03662064206335864,
          0.0367270071981441,
          0.036833372332929555,
          0.03693973746771501,
          0.03704610260250047,
          0.03715246773728593,
          0.037258832872071386,
          0.037365198006856844,
          0.03747156314164231,
          0.037577928276427766,
          0.037684293411213224,
          0.03779065854599868,
          0.03789702368078414,
          0.0380033888155696,
          0.038109753950355055,
          0.03821611908514051,
          0.03832248421992597,
          0.03842884935471143,
          0.038535214489496886,
          0.03864157962428234,
          0.0387479447590678,
          0.03885430989385326
         ]
        }
       ],
       "layout": {
        "template": {
         "data": {
          "bar": [
           {
            "error_x": {
             "color": "#2a3f5f"
            },
            "error_y": {
             "color": "#2a3f5f"
            },
            "marker": {
             "line": {
              "color": "white",
              "width": 0.5
             },
             "pattern": {
              "fillmode": "overlay",
              "size": 10,
              "solidity": 0.2
             }
            },
            "type": "bar"
           }
          ],
          "barpolar": [
           {
            "marker": {
             "line": {
              "color": "white",
              "width": 0.5
             },
             "pattern": {
              "fillmode": "overlay",
              "size": 10,
              "solidity": 0.2
             }
            },
            "type": "barpolar"
           }
          ],
          "carpet": [
           {
            "aaxis": {
             "endlinecolor": "#2a3f5f",
             "gridcolor": "#C8D4E3",
             "linecolor": "#C8D4E3",
             "minorgridcolor": "#C8D4E3",
             "startlinecolor": "#2a3f5f"
            },
            "baxis": {
             "endlinecolor": "#2a3f5f",
             "gridcolor": "#C8D4E3",
             "linecolor": "#C8D4E3",
             "minorgridcolor": "#C8D4E3",
             "startlinecolor": "#2a3f5f"
            },
            "type": "carpet"
           }
          ],
          "choropleth": [
           {
            "colorbar": {
             "outlinewidth": 0,
             "ticks": ""
            },
            "type": "choropleth"
           }
          ],
          "contour": [
           {
            "colorbar": {
             "outlinewidth": 0,
             "ticks": ""
            },
            "colorscale": [
             [
              0,
              "#0d0887"
             ],
             [
              0.1111111111111111,
              "#46039f"
             ],
             [
              0.2222222222222222,
              "#7201a8"
             ],
             [
              0.3333333333333333,
              "#9c179e"
             ],
             [
              0.4444444444444444,
              "#bd3786"
             ],
             [
              0.5555555555555556,
              "#d8576b"
             ],
             [
              0.6666666666666666,
              "#ed7953"
             ],
             [
              0.7777777777777778,
              "#fb9f3a"
             ],
             [
              0.8888888888888888,
              "#fdca26"
             ],
             [
              1,
              "#f0f921"
             ]
            ],
            "type": "contour"
           }
          ],
          "contourcarpet": [
           {
            "colorbar": {
             "outlinewidth": 0,
             "ticks": ""
            },
            "type": "contourcarpet"
           }
          ],
          "heatmap": [
           {
            "colorbar": {
             "outlinewidth": 0,
             "ticks": ""
            },
            "colorscale": [
             [
              0,
              "#0d0887"
             ],
             [
              0.1111111111111111,
              "#46039f"
             ],
             [
              0.2222222222222222,
              "#7201a8"
             ],
             [
              0.3333333333333333,
              "#9c179e"
             ],
             [
              0.4444444444444444,
              "#bd3786"
             ],
             [
              0.5555555555555556,
              "#d8576b"
             ],
             [
              0.6666666666666666,
              "#ed7953"
             ],
             [
              0.7777777777777778,
              "#fb9f3a"
             ],
             [
              0.8888888888888888,
              "#fdca26"
             ],
             [
              1,
              "#f0f921"
             ]
            ],
            "type": "heatmap"
           }
          ],
          "heatmapgl": [
           {
            "colorbar": {
             "outlinewidth": 0,
             "ticks": ""
            },
            "colorscale": [
             [
              0,
              "#0d0887"
             ],
             [
              0.1111111111111111,
              "#46039f"
             ],
             [
              0.2222222222222222,
              "#7201a8"
             ],
             [
              0.3333333333333333,
              "#9c179e"
             ],
             [
              0.4444444444444444,
              "#bd3786"
             ],
             [
              0.5555555555555556,
              "#d8576b"
             ],
             [
              0.6666666666666666,
              "#ed7953"
             ],
             [
              0.7777777777777778,
              "#fb9f3a"
             ],
             [
              0.8888888888888888,
              "#fdca26"
             ],
             [
              1,
              "#f0f921"
             ]
            ],
            "type": "heatmapgl"
           }
          ],
          "histogram": [
           {
            "marker": {
             "pattern": {
              "fillmode": "overlay",
              "size": 10,
              "solidity": 0.2
             }
            },
            "type": "histogram"
           }
          ],
          "histogram2d": [
           {
            "colorbar": {
             "outlinewidth": 0,
             "ticks": ""
            },
            "colorscale": [
             [
              0,
              "#0d0887"
             ],
             [
              0.1111111111111111,
              "#46039f"
             ],
             [
              0.2222222222222222,
              "#7201a8"
             ],
             [
              0.3333333333333333,
              "#9c179e"
             ],
             [
              0.4444444444444444,
              "#bd3786"
             ],
             [
              0.5555555555555556,
              "#d8576b"
             ],
             [
              0.6666666666666666,
              "#ed7953"
             ],
             [
              0.7777777777777778,
              "#fb9f3a"
             ],
             [
              0.8888888888888888,
              "#fdca26"
             ],
             [
              1,
              "#f0f921"
             ]
            ],
            "type": "histogram2d"
           }
          ],
          "histogram2dcontour": [
           {
            "colorbar": {
             "outlinewidth": 0,
             "ticks": ""
            },
            "colorscale": [
             [
              0,
              "#0d0887"
             ],
             [
              0.1111111111111111,
              "#46039f"
             ],
             [
              0.2222222222222222,
              "#7201a8"
             ],
             [
              0.3333333333333333,
              "#9c179e"
             ],
             [
              0.4444444444444444,
              "#bd3786"
             ],
             [
              0.5555555555555556,
              "#d8576b"
             ],
             [
              0.6666666666666666,
              "#ed7953"
             ],
             [
              0.7777777777777778,
              "#fb9f3a"
             ],
             [
              0.8888888888888888,
              "#fdca26"
             ],
             [
              1,
              "#f0f921"
             ]
            ],
            "type": "histogram2dcontour"
           }
          ],
          "mesh3d": [
           {
            "colorbar": {
             "outlinewidth": 0,
             "ticks": ""
            },
            "type": "mesh3d"
           }
          ],
          "parcoords": [
           {
            "line": {
             "colorbar": {
              "outlinewidth": 0,
              "ticks": ""
             }
            },
            "type": "parcoords"
           }
          ],
          "pie": [
           {
            "automargin": true,
            "type": "pie"
           }
          ],
          "scatter": [
           {
            "fillpattern": {
             "fillmode": "overlay",
             "size": 10,
             "solidity": 0.2
            },
            "type": "scatter"
           }
          ],
          "scatter3d": [
           {
            "line": {
             "colorbar": {
              "outlinewidth": 0,
              "ticks": ""
             }
            },
            "marker": {
             "colorbar": {
              "outlinewidth": 0,
              "ticks": ""
             }
            },
            "type": "scatter3d"
           }
          ],
          "scattercarpet": [
           {
            "marker": {
             "colorbar": {
              "outlinewidth": 0,
              "ticks": ""
             }
            },
            "type": "scattercarpet"
           }
          ],
          "scattergeo": [
           {
            "marker": {
             "colorbar": {
              "outlinewidth": 0,
              "ticks": ""
             }
            },
            "type": "scattergeo"
           }
          ],
          "scattergl": [
           {
            "marker": {
             "colorbar": {
              "outlinewidth": 0,
              "ticks": ""
             }
            },
            "type": "scattergl"
           }
          ],
          "scattermapbox": [
           {
            "marker": {
             "colorbar": {
              "outlinewidth": 0,
              "ticks": ""
             }
            },
            "type": "scattermapbox"
           }
          ],
          "scatterpolar": [
           {
            "marker": {
             "colorbar": {
              "outlinewidth": 0,
              "ticks": ""
             }
            },
            "type": "scatterpolar"
           }
          ],
          "scatterpolargl": [
           {
            "marker": {
             "colorbar": {
              "outlinewidth": 0,
              "ticks": ""
             }
            },
            "type": "scatterpolargl"
           }
          ],
          "scatterternary": [
           {
            "marker": {
             "colorbar": {
              "outlinewidth": 0,
              "ticks": ""
             }
            },
            "type": "scatterternary"
           }
          ],
          "surface": [
           {
            "colorbar": {
             "outlinewidth": 0,
             "ticks": ""
            },
            "colorscale": [
             [
              0,
              "#0d0887"
             ],
             [
              0.1111111111111111,
              "#46039f"
             ],
             [
              0.2222222222222222,
              "#7201a8"
             ],
             [
              0.3333333333333333,
              "#9c179e"
             ],
             [
              0.4444444444444444,
              "#bd3786"
             ],
             [
              0.5555555555555556,
              "#d8576b"
             ],
             [
              0.6666666666666666,
              "#ed7953"
             ],
             [
              0.7777777777777778,
              "#fb9f3a"
             ],
             [
              0.8888888888888888,
              "#fdca26"
             ],
             [
              1,
              "#f0f921"
             ]
            ],
            "type": "surface"
           }
          ],
          "table": [
           {
            "cells": {
             "fill": {
              "color": "#EBF0F8"
             },
             "line": {
              "color": "white"
             }
            },
            "header": {
             "fill": {
              "color": "#C8D4E3"
             },
             "line": {
              "color": "white"
             }
            },
            "type": "table"
           }
          ]
         },
         "layout": {
          "annotationdefaults": {
           "arrowcolor": "#2a3f5f",
           "arrowhead": 0,
           "arrowwidth": 1
          },
          "autotypenumbers": "strict",
          "coloraxis": {
           "colorbar": {
            "outlinewidth": 0,
            "ticks": ""
           }
          },
          "colorscale": {
           "diverging": [
            [
             0,
             "#8e0152"
            ],
            [
             0.1,
             "#c51b7d"
            ],
            [
             0.2,
             "#de77ae"
            ],
            [
             0.3,
             "#f1b6da"
            ],
            [
             0.4,
             "#fde0ef"
            ],
            [
             0.5,
             "#f7f7f7"
            ],
            [
             0.6,
             "#e6f5d0"
            ],
            [
             0.7,
             "#b8e186"
            ],
            [
             0.8,
             "#7fbc41"
            ],
            [
             0.9,
             "#4d9221"
            ],
            [
             1,
             "#276419"
            ]
           ],
           "sequential": [
            [
             0,
             "#0d0887"
            ],
            [
             0.1111111111111111,
             "#46039f"
            ],
            [
             0.2222222222222222,
             "#7201a8"
            ],
            [
             0.3333333333333333,
             "#9c179e"
            ],
            [
             0.4444444444444444,
             "#bd3786"
            ],
            [
             0.5555555555555556,
             "#d8576b"
            ],
            [
             0.6666666666666666,
             "#ed7953"
            ],
            [
             0.7777777777777778,
             "#fb9f3a"
            ],
            [
             0.8888888888888888,
             "#fdca26"
            ],
            [
             1,
             "#f0f921"
            ]
           ],
           "sequentialminus": [
            [
             0,
             "#0d0887"
            ],
            [
             0.1111111111111111,
             "#46039f"
            ],
            [
             0.2222222222222222,
             "#7201a8"
            ],
            [
             0.3333333333333333,
             "#9c179e"
            ],
            [
             0.4444444444444444,
             "#bd3786"
            ],
            [
             0.5555555555555556,
             "#d8576b"
            ],
            [
             0.6666666666666666,
             "#ed7953"
            ],
            [
             0.7777777777777778,
             "#fb9f3a"
            ],
            [
             0.8888888888888888,
             "#fdca26"
            ],
            [
             1,
             "#f0f921"
            ]
           ]
          },
          "colorway": [
           "#636efa",
           "#EF553B",
           "#00cc96",
           "#ab63fa",
           "#FFA15A",
           "#19d3f3",
           "#FF6692",
           "#B6E880",
           "#FF97FF",
           "#FECB52"
          ],
          "font": {
           "color": "#2a3f5f"
          },
          "geo": {
           "bgcolor": "white",
           "lakecolor": "white",
           "landcolor": "white",
           "showlakes": true,
           "showland": true,
           "subunitcolor": "#C8D4E3"
          },
          "hoverlabel": {
           "align": "left"
          },
          "hovermode": "closest",
          "mapbox": {
           "style": "light"
          },
          "paper_bgcolor": "white",
          "plot_bgcolor": "white",
          "polar": {
           "angularaxis": {
            "gridcolor": "#EBF0F8",
            "linecolor": "#EBF0F8",
            "ticks": ""
           },
           "bgcolor": "white",
           "radialaxis": {
            "gridcolor": "#EBF0F8",
            "linecolor": "#EBF0F8",
            "ticks": ""
           }
          },
          "scene": {
           "xaxis": {
            "backgroundcolor": "white",
            "gridcolor": "#DFE8F3",
            "gridwidth": 2,
            "linecolor": "#EBF0F8",
            "showbackground": true,
            "ticks": "",
            "zerolinecolor": "#EBF0F8"
           },
           "yaxis": {
            "backgroundcolor": "white",
            "gridcolor": "#DFE8F3",
            "gridwidth": 2,
            "linecolor": "#EBF0F8",
            "showbackground": true,
            "ticks": "",
            "zerolinecolor": "#EBF0F8"
           },
           "zaxis": {
            "backgroundcolor": "white",
            "gridcolor": "#DFE8F3",
            "gridwidth": 2,
            "linecolor": "#EBF0F8",
            "showbackground": true,
            "ticks": "",
            "zerolinecolor": "#EBF0F8"
           }
          },
          "shapedefaults": {
           "line": {
            "color": "#2a3f5f"
           }
          },
          "ternary": {
           "aaxis": {
            "gridcolor": "#DFE8F3",
            "linecolor": "#A2B1C6",
            "ticks": ""
           },
           "baxis": {
            "gridcolor": "#DFE8F3",
            "linecolor": "#A2B1C6",
            "ticks": ""
           },
           "bgcolor": "white",
           "caxis": {
            "gridcolor": "#DFE8F3",
            "linecolor": "#A2B1C6",
            "ticks": ""
           }
          },
          "title": {
           "x": 0.05
          },
          "xaxis": {
           "automargin": true,
           "gridcolor": "#EBF0F8",
           "linecolor": "#EBF0F8",
           "ticks": "",
           "title": {
            "standoff": 15
           },
           "zerolinecolor": "#EBF0F8",
           "zerolinewidth": 2
          },
          "yaxis": {
           "automargin": true,
           "gridcolor": "#EBF0F8",
           "linecolor": "#EBF0F8",
           "ticks": "",
           "title": {
            "standoff": 15
           },
           "zerolinecolor": "#EBF0F8",
           "zerolinewidth": 2
          }
         }
        },
        "title": {
         "text": "Aggregated Similarity Comparisons for all liking scenarios"
        },
        "xaxis": {
         "title": {
          "text": "Video Position"
         }
        },
        "yaxis": {
         "title": {
          "text": "Similarity Score"
         }
        }
       }
      }
     },
     "metadata": {},
     "output_type": "display_data"
    }
   ],
   "source": [
    "def analyze_control_vs_experiment(data_combined, scenarios, bucket_size=25, \n",
    "                                  aggregate_scenarios=None, legend_labels=None):\n",
    "    \"\"\"\n",
    "    Analyze hashtag similarity between control and experiment groups with color-matched trends\n",
    "\n",
    "    Parameters:\n",
    "    - data_combined: DataFrame with video data\n",
    "    - scenarios: List of scenario IDs to analyze \n",
    "    - bucket_size: Size of analysis buckets\n",
    "    - aggregate_scenarios: List of scenario groups to aggregate\n",
    "    - legend_labels: Custom labels for scenario groups\n",
    "    \"\"\"\n",
    "\n",
    "    # Color setup\n",
    "    color_palette = qualitative.Plotly\n",
    "    scenario_colors = {s: color_palette[i%len(color_palette)] \n",
    "                       for i, s in enumerate(scenarios)}\n",
    "\n",
    "    # Store results\n",
    "    results = {'individual': {}, 'aggregated': {}}\n",
    "\n",
    "    # Individual scenario analysis\n",
    "    for scenario in scenarios:\n",
    "        # Data preparation\n",
    "        control = data_combined[data_combined['user_id'] == f'{scenario}-control'].sort_values('run_number')\n",
    "        experiment = data_combined[data_combined['user_id'] == f'{scenario}-experiment'].sort_values('run_number')\n",
    "        \n",
    "        min_length = min(len(control), len(experiment))\n",
    "        control = control.iloc[:min_length]\n",
    "        experiment = experiment.iloc[:min_length]\n",
    "\n",
    "        # Bucket processing\n",
    "        similarities = []\n",
    "        for i in range(0, min_length - bucket_size + 1, bucket_size):\n",
    "            c_bucket = control.iloc[i:i+bucket_size]\n",
    "            e_bucket = experiment.iloc[i:i+bucket_size]\n",
    "\n",
    "            c_tags = get_hashtag_sets(c_bucket)\n",
    "            e_tags = get_hashtag_sets(e_bucket)\n",
    "\n",
    "            matches = sum(1 for c in c_tags for e in e_tags if c & e)\n",
    "            total = len(c_tags) * len(e_tags)\n",
    "            similarities.append(matches/total if total > 0 else 0)\n",
    "\n",
    "        results['individual'][scenario] = similarities\n",
    "\n",
    "    # Visualization\n",
    "    fig_ind = go.Figure()\n",
    "    fig_agg = go.Figure() if aggregate_scenarios else None\n",
    "\n",
    "    # Individual scenario plots\n",
    "    for idx, scenario in enumerate(scenarios):\n",
    "        similarities = results['individual'][scenario]\n",
    "        positions = [i*bucket_size + bucket_size/2 for i in range(len(similarities))]\n",
    "        color = scenario_colors[scenario]\n",
    "\n",
    "        # Correlation analysis\n",
    "        rho, p = scipy.stats.spearmanr(positions, similarities)\n",
    "        slope = np.polyfit(positions, similarities, 1)[0]\n",
    "\n",
    "        # Main trace\n",
    "        fig_ind.add_trace(go.Scatter(\n",
    "            x=positions,\n",
    "            y=similarities,\n",
    "            mode='lines+markers',\n",
    "            name=f'Scenario {scenario} (ρ={rho:.2f}, p={p:.3f})',\n",
    "            line=dict(color=color),\n",
    "            marker=dict(color=color)\n",
    "        ))\n",
    "\n",
    "        # Trend line\n",
    "        trend = np.poly1d(np.polyfit(positions, similarities, 1))(positions)\n",
    "        fig_ind.add_trace(go.Scatter(\n",
    "            x=positions,\n",
    "            y=trend,\n",
    "            mode='lines',\n",
    "            line=dict(color=color, dash='dash'),\n",
    "            showlegend=False\n",
    "        ))\n",
    "\n",
    "    # Aggregated analysis\n",
    "    if aggregate_scenarios:\n",
    "        for group_idx, scenario_group in enumerate(aggregate_scenarios):\n",
    "            group_sims = []\n",
    "            positions = None\n",
    "            color = color_palette[group_idx%len(color_palette)]\n",
    "\n",
    "            # Get video counts for each scenario\n",
    "            scenario_lengths = {}\n",
    "            for scenario in scenario_group:\n",
    "                if scenario in results['individual']:\n",
    "                    sims = results['individual'][scenario]\n",
    "                    scenario_lengths[scenario] = len(sims)    \n",
    "            \n",
    "            # Find scenario with most videos\n",
    "            max_scenario = max(scenario_lengths.items(), key=lambda x: x[1])\n",
    "            max_len = max_scenario[1]\n",
    "            \n",
    "            if max_len > 0:\n",
    "                positions = [i*bucket_size + bucket_size/2 for i in range(max_len)]\n",
    "                \n",
    "                # For each position, average available similarities\n",
    "                avg_sims = []\n",
    "                for pos in range(max_len):\n",
    "                    pos_sims = []\n",
    "                    for scenario in scenario_group:\n",
    "                        if scenario in results['individual']:\n",
    "                            sims = results['individual'][scenario]\n",
    "                            if pos < len(sims):\n",
    "                                pos_sims.append(sims[pos])\n",
    "                    if pos_sims:\n",
    "                        avg_sims.append(np.mean(pos_sims))\n",
    "                    else:\n",
    "                        # If no scenarios have data for this position, use data from longest scenario\n",
    "                        avg_sims.append(results['individual'][max_scenario[0]][pos])\n",
    "\n",
    "                # Correlation analysis\n",
    "                rho, p = scipy.stats.spearmanr(positions, avg_sims)\n",
    "\n",
    "\n",
    "                label = legend_labels.get(tuple(scenario_group), \n",
    "                        f'Group {scenario_group}') + f' (ρ={rho:.2f}, p={p:.3f})'\n",
    "\n",
    "                # Main trace\n",
    "                fig_agg.add_trace(go.Scatter(\n",
    "                    x=positions,\n",
    "                    y=avg_sims,\n",
    "                    mode='lines+markers',\n",
    "                    name=label,\n",
    "                    line=dict(color=color),\n",
    "                    marker=dict(color=color)\n",
    "                ))\n",
    "\n",
    "                # Trend line\n",
    "                trend = np.poly1d(np.polyfit(positions, avg_sims, 1))(positions)\n",
    "                fig_agg.add_trace(go.Scatter(\n",
    "                    x=positions,\n",
    "                    y=trend,\n",
    "                    mode='lines',\n",
    "                    line=dict(color=color, dash='dash'),\n",
    "                    showlegend=False\n",
    "                ))\n",
    "\n",
    "    # Figure formatting\n",
    "    fig_ind.update_layout(\n",
    "        title='Control vs Experiment Hashtag Similarity',\n",
    "        xaxis_title='Video Position',\n",
    "        yaxis_title='Similarity Score',\n",
    "        template='plotly_white'\n",
    "    )\n",
    "    fig_ind.show()\n",
    "\n",
    "    if fig_agg:\n",
    "        fig_agg.update_layout(\n",
    "            title='Aggregated Similarity Comparisons for all liking scenarios',\n",
    "            xaxis_title='Video Position',\n",
    "            yaxis_title='Similarity Score',\n",
    "            template='plotly_white'\n",
    "        )\n",
    "        fig_agg.show()\n",
    "\n",
    "    return results\n",
    "\n",
    "# Example usage\n",
    "test_scenarios = [16,18,22]\n",
    "aggregate_groups = [[16,18,22]]\n",
    "group_labels = {\n",
    "    (16,18,22): 'Likes hashtags',\n",
    "}\n",
    "\n",
    "analysis_results = analyze_control_vs_experiment(\n",
    "    data_combined=data_combined,\n",
    "    scenarios=test_scenarios,\n",
    "    bucket_size=50,\n",
    "    aggregate_scenarios=aggregate_groups,\n",
    "    legend_labels=group_labels\n",
    ")\n"
   ]
  },
  {
   "cell_type": "markdown",
   "metadata": {},
   "source": [
    "`analyze_hashtag_similarity_same_group`\n",
    "\n",
    "1. Comparing **first vs last video buckets** within a single group (control/experiment)\n",
    "2. Calculating **pairwise similarity scores** using:\n",
    "   - Undirected hashtag overlaps (≥1 shared tag)\n",
    "   - Normalized match ratios (matches/total_pairs)\n",
    "3. Generating formatted comparisons showing:\n",
    "   - Per-scenario bucket similarity differences\n",
    "   - Aggregate trend direction (increasing/decreasing)\n"
   ]
  },
  {
   "cell_type": "code",
   "execution_count": 10,
   "metadata": {},
   "outputs": [
    {
     "name": "stdout",
     "output_type": "stream",
     "text": [
      "\n",
      "============================================================\n",
      "HASHTAG SIMILARITY ANALYSIS - CONTROL GROUP\n",
      "============================================================\n",
      "Scenario   | First Bucket | Last Bucket  | Difference\n",
      "------------------------------------------------------------\n",
      "33         | 0.0807       | 0.0687       | -0.0121\n",
      "34         | 0.0243       | 0.0327       | +0.0084\n",
      "35         | 0.0762       | 0.0774       | +0.0012\n",
      "37         | 0.0598       | 0.0519       | -0.0079\n",
      "38         | 0.0352       | 0.0581       | +0.0229\n",
      "39         | 0.0417       | 0.0527       | +0.0109\n",
      "40         | 0.0583       | 0.0526       | -0.0057\n",
      "41         | 0.0249       | 0.0467       | +0.0218\n",
      "42         | 0.0446       | 0.0344       | -0.0102\n",
      "------------------------------------------------------------\n",
      "Overall    | 0.0495       | 0.0528       | +0.0033\n"
     ]
    }
   ],
   "source": [
    "def analyze_hashtag_similarity_same_group(data_combined, scenarios, group='control', bucket_size=150):\n",
    "    \"\"\"\n",
    "    Analyze hashtag similarity between videos within first and last buckets.\n",
    "    A match occurs if two videos share at least one hashtag.\n",
    "\n",
    "    Parameters:\n",
    "    - data_combined: DataFrame with the video data \n",
    "    - scenarios: List of scenario numbers to analyze\n",
    "    - group: Either 'control' or 'experiment'\n",
    "    - bucket_size: Size of buckets for aggregating results\n",
    "    \"\"\"\n",
    "    all_results = {}\n",
    "\n",
    "    # Process each scenario\n",
    "    for scenario in scenarios:\n",
    "        scenario_data = data_combined[data_combined['user_id'] == f'{scenario}-{group}'].sort_values('run_number')\n",
    "\n",
    "        # Calculate similarities for first and last buckets\n",
    "        similarities = []\n",
    "        for bucket in [scenario_data.iloc[:bucket_size], \n",
    "                       scenario_data.iloc[-bucket_size:]]:\n",
    "\n",
    "            tag_sets = get_hashtag_sets(bucket)\n",
    "            total_pairs = len(tag_sets) * (len(tag_sets) - 1)\n",
    "            matches = 0\n",
    "\n",
    "            # Compare all unique pairs\n",
    "            for i in range(len(tag_sets)):\n",
    "                for j in range(i+1, len(tag_sets)):\n",
    "                    if tag_sets[i] & tag_sets[j]:\n",
    "                        matches += 1\n",
    "\n",
    "            # Calculate similarity score (undirected pairs)\n",
    "            similarity = (2 * matches) / total_pairs if total_pairs > 0 else 0\n",
    "            similarities.append(similarity)\n",
    "\n",
    "        all_results[scenario] = similarities\n",
    "\n",
    "    # Generate formatted output\n",
    "    print(f\"\\n{'='*60}\")\n",
    "    print(f\"HASHTAG SIMILARITY ANALYSIS - {group.upper()} GROUP\")\n",
    "    print(f\"{'='*60}\")\n",
    "    print(f\"{'Scenario':<10} | {'First Bucket':<12} | {'Last Bucket':<12} | {'Difference':<10}\")\n",
    "    print(f\"{'-'*60}\")\n",
    "\n",
    "    first_avg, last_avg = [], []\n",
    "    for scenario, sims in all_results.items():\n",
    "        diff = sims[1] - sims[0]\n",
    "        first_avg.append(sims[0])\n",
    "        last_avg.append(sims[1])\n",
    "        print(f\"{scenario:<10} | {sims[0]:<12.4f} | {sims[1]:<12.4f} | {diff:+.4f}\")\n",
    "\n",
    "    # Calculate overall averages\n",
    "    print(f\"{'-'*60}\")\n",
    "    print(f\"{'Overall':<10} | {np.mean(first_avg):<12.4f} | {np.mean(last_avg):<12.4f} | \"\n",
    "          f\"{np.mean(last_avg)-np.mean(first_avg):+.4f}\")\n",
    "\n",
    "    return all_results\n",
    "\n",
    "# Example usage\n",
    "scenarios = [33,34,35,37,38,39,40,41,42]\n",
    "results = analyze_hashtag_similarity_same_group(\n",
    "    data_combined=data_combined,\n",
    "    scenarios=scenarios,\n",
    "    group='control',\n",
    "    bucket_size=125\n",
    ")\n"
   ]
  }
 ],
 "metadata": {
  "kernelspec": {
   "display_name": "mic",
   "language": "python",
   "name": "python3"
  },
  "language_info": {
   "codemirror_mode": {
    "name": "ipython",
    "version": 3
   },
   "file_extension": ".py",
   "mimetype": "text/x-python",
   "name": "python",
   "nbconvert_exporter": "python",
   "pygments_lexer": "ipython3",
   "version": "3.12.5"
  }
 },
 "nbformat": 4,
 "nbformat_minor": 2
}
