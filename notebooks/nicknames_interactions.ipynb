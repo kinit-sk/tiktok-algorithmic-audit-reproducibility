{
 "cells": [
  {
   "cell_type": "code",
   "execution_count": 1,
   "metadata": {},
   "outputs": [],
   "source": [
    "import os\n",
    "import json\n",
    "import unicodedata\n",
    "import numpy as np\n",
    "import pandas as pd\n",
    "import seaborn as sns\n",
    "import plotly.graph_objects as go\n",
    "\n",
    "files_path = '../data/'"
   ]
  },
  {
   "cell_type": "code",
   "execution_count": 2,
   "metadata": {},
   "outputs": [],
   "source": [
    "scenarios = [18,22,23,24,38,39,40,41,42]"
   ]
  },
  {
   "cell_type": "code",
   "execution_count": 3,
   "metadata": {},
   "outputs": [],
   "source": [
    "# Define target nicknames\n",
    "target_nicknames = [\"charlidamelio\",\n",
    "        \"bellapoarch\",\n",
    "        \"addisonre\",\n",
    "        \"willsmith\",\n",
    "        \"zachking\",\n",
    "        \"tiktok\",\n",
    "        \"dixiedamelio\",\n",
    "        \"jasonderulo\",\n",
    "        \"spencerx\",\n",
    "        \"lorengray\",\n",
    "        \"justmaiko\",\n",
    "        \"kyliejenner\",\n",
    "        \"brentrivera\",\n",
    "        \"itsjojosiwa\",\n",
    "        \"selenagomez\",\n",
    "        \"avani\",\n",
    "        \"joealbanese\",\n",
    "        \"jamescharles\",\n",
    "        \"dobretwins\",\n",
    "        \"babyariel\",\n",
    "        \"wigofellas\",\n",
    "        \"qpark\",\n",
    "        \"aehaunted\",\n",
    "        \"ketikajazan\",\n",
    "        \"tiffytoky\",\n",
    "        \"dylan.page\",\n",
    "        \"ooliviakathleenn\",\n",
    "        \"funny.pets090\",\n",
    "        \"nbcsnl\",\n",
    "        \"tvshows_analyst\",\n",
    "        \"ishowspeed\",\n",
    "        \"corevibezzz_\",\n",
    "        \"oneilthomas97\",\n",
    "        \"bonjourmusic\",\n",
    "        \"virall.music\",\n",
    "        \"brainrotdaily_\",\n",
    "        \"lambotelevision\",\n",
    "        \"nitronuke\"\n",
    "        ]"
   ]
  },
  {
   "cell_type": "code",
   "execution_count": 4,
   "metadata": {},
   "outputs": [],
   "source": [
    "def clean_text(text):\n",
    "    \"\"\"Ensure text is UTF-8 encoded and strip out non-ASCII characters.\"\"\"\n",
    "    # Normalize text to remove accents and unusual unicode characters\n",
    "    normalized_text = unicodedata.normalize('NFKD', text)\n",
    "    # Encode to ASCII, ignoring characters that cannot be encoded, then decode back to string\n",
    "    return normalized_text.encode('ascii', 'ignore').decode('ascii')\n",
    "\n",
    "def parse_info(video, user_id):\n",
    "    d = {}\n",
    "    d[\"user_id\"] = user_id\n",
    "    \n",
    "    author = video.get(\"author\", {})\n",
    "    stats = video.get(\"stats\", {})\n",
    "    music = video.get(\"music\", {})\n",
    "    video_stats = video.get(\"video\", {})\n",
    "    text_extras = video.get(\"contents\", [{}])[0].get(\"textExtra\", [])\n",
    "    # df[\"author\"] = author\n",
    "    # df[\"stats\"] = stats\n",
    "    # df[\"music\"] = music\n",
    "    # df[\"video_stats\"] = video_stats\n",
    "    # df[\"text_extras\"] = text_extras\n",
    "\n",
    "    # Basic video details\n",
    "    d[\"play_count\"] = stats.get(\"playCount\", 0)\n",
    "    d[\"digg_count\"] = stats.get(\"diggCount\", 0)\n",
    "    d[\"share_count\"] = stats.get(\"shareCount\", 0)\n",
    "    d[\"comment_count\"] = stats.get(\"commentCount\", 0)\n",
    "    d[\"collect_count\"] = stats.get(\"collectCount\", 0)\n",
    "    d[\"repost_count\"] = video.get(\"statsV2\", {}).get(\"repostCount\", 0)\n",
    "    d[\"loudness\"] = video_stats.get(\"volumeInfo\", {}).get(\"Loudness\", \"N/A\")\n",
    "    d[\"duration\"] = video_stats.get(\"duration\", \"N/A\")  # Video duration\n",
    "\n",
    "    # Author details\n",
    "    d[\"author_id\"] = author.get(\"id\", \"Unknown Author\")\n",
    "    d[\"author_name\"] = clean_text(author.get(\"nickname\", \"Unknown Author Name\"))\n",
    "    d[\"author_bio\"] = clean_text(author.get(\"signature\", \"No bio\"))  # Cleaned Author bio\n",
    "    d[\"nickname\"] = author.get(\"uniqueId\", \"Unknown Nickname\")\n",
    "\n",
    "    # Music details\n",
    "    d[\"music_name\"] = clean_text(music.get(\"title\", \"Unknown Music Title\"))\n",
    "    d[\"music_id\"] = music.get(\"id\", \"Unknown Music ID\")\n",
    "    d[\"music_author\"] = clean_text(music.get(\"authorName\", \"Unknown Music Author\"))\n",
    "    d[\"music_album\"] = clean_text(music.get(\"album\", \"Unknown Album\"))  # Cleaned Music album\n",
    "\n",
    "    # Hashtags from textExtra\n",
    "    hashtags = [clean_text(extra.get(\"hashtagName\")) for extra in text_extras if extra.get(\"type\") == 1]\n",
    "    d[\"hashtags\"] = '_'.join(hashtags)\n",
    "\n",
    "    d[\"video_id\"] = video.get(\"id\", \"Unknown ID\")\n",
    "\n",
    "    df = pd.DataFrame([d])\n",
    "    df[\"repost_count\"] = df[\"repost_count\"].astype(int)\n",
    "    return df"
   ]
  },
  {
   "cell_type": "code",
   "execution_count": 5,
   "metadata": {},
   "outputs": [],
   "source": [
    "def load_data_into_df(scenarios: list) -> pd.DataFrame:\n",
    "    df_jsons = []\n",
    "    for user_id in scenarios:\n",
    "        for user_type in ['control', 'experiment']:\n",
    "            user_path = files_path + f'{user_id}/{user_id}-{user_type}/'\n",
    "\n",
    "            for root, dirs, files in os.walk(user_path):\n",
    "                if 'responses' in dirs:\n",
    "                    responses_path = os.path.join(root, 'responses')\n",
    "                    # Only look at files directly in responses folder\n",
    "                    response_files = [f for f in os.listdir(responses_path) \n",
    "                                    if f.endswith('.json') and f != 'config.json']\n",
    "                    for file in response_files:\n",
    "                        file_path = os.path.join(responses_path, file)\n",
    "                        with open(file_path, 'r') as f:\n",
    "                            data = json.load(f)\n",
    "                            for video in data['itemList']:\n",
    "                                df_jsons.append(parse_info(video, str(user_id) + '-' + user_type))\n",
    "\n",
    "    data_combined = pd.concat(df_jsons, ignore_index=True)\n",
    "    data_combined['run_number'] = data_combined.groupby('user_id').cumcount() + 1\n",
    "\n",
    "    return data_combined"
   ]
  },
  {
   "cell_type": "code",
   "execution_count": 6,
   "metadata": {},
   "outputs": [
    {
     "data": {
      "text/html": [
       "<div>\n",
       "<style scoped>\n",
       "    .dataframe tbody tr th:only-of-type {\n",
       "        vertical-align: middle;\n",
       "    }\n",
       "\n",
       "    .dataframe tbody tr th {\n",
       "        vertical-align: top;\n",
       "    }\n",
       "\n",
       "    .dataframe thead th {\n",
       "        text-align: right;\n",
       "    }\n",
       "</style>\n",
       "<table border=\"1\" class=\"dataframe\">\n",
       "  <thead>\n",
       "    <tr style=\"text-align: right;\">\n",
       "      <th></th>\n",
       "      <th>user_id</th>\n",
       "      <th>play_count</th>\n",
       "      <th>digg_count</th>\n",
       "      <th>share_count</th>\n",
       "      <th>comment_count</th>\n",
       "      <th>collect_count</th>\n",
       "      <th>repost_count</th>\n",
       "      <th>loudness</th>\n",
       "      <th>duration</th>\n",
       "      <th>author_id</th>\n",
       "      <th>author_name</th>\n",
       "      <th>author_bio</th>\n",
       "      <th>nickname</th>\n",
       "      <th>music_name</th>\n",
       "      <th>music_id</th>\n",
       "      <th>music_author</th>\n",
       "      <th>music_album</th>\n",
       "      <th>hashtags</th>\n",
       "      <th>video_id</th>\n",
       "      <th>run_number</th>\n",
       "    </tr>\n",
       "  </thead>\n",
       "  <tbody>\n",
       "    <tr>\n",
       "      <th>0</th>\n",
       "      <td>18-control</td>\n",
       "      <td>47400000</td>\n",
       "      <td>3000000</td>\n",
       "      <td>25600</td>\n",
       "      <td>31900</td>\n",
       "      <td>75200</td>\n",
       "      <td>0</td>\n",
       "      <td>-20.6</td>\n",
       "      <td>268</td>\n",
       "      <td>6980785150019781637</td>\n",
       "      <td>SB Mowing</td>\n",
       "      <td>Please keep up with me on Snapchat or YouTube ...</td>\n",
       "      <td>sbmowing</td>\n",
       "      <td>original sound - SB Mowing</td>\n",
       "      <td>7463305390462094126</td>\n",
       "      <td>SB Mowing</td>\n",
       "      <td>Unknown Album</td>\n",
       "      <td></td>\n",
       "      <td>7463304946616651050</td>\n",
       "      <td>1</td>\n",
       "    </tr>\n",
       "    <tr>\n",
       "      <th>1</th>\n",
       "      <td>18-control</td>\n",
       "      <td>6600000</td>\n",
       "      <td>1400000</td>\n",
       "      <td>78100</td>\n",
       "      <td>1928</td>\n",
       "      <td>146500</td>\n",
       "      <td>0</td>\n",
       "      <td>-14</td>\n",
       "      <td>71</td>\n",
       "      <td>7329520300319540257</td>\n",
       "      <td>Scare Prank USA</td>\n",
       "      <td>ueafollow me uea</td>\n",
       "      <td>scareprankusa54</td>\n",
       "      <td>original sound</td>\n",
       "      <td>7458665057581288214</td>\n",
       "      <td>Scare Prank USA</td>\n",
       "      <td>Unknown Album</td>\n",
       "      <td>scarecam_scareprank_funnyprank_scaring_jumpy_v...</td>\n",
       "      <td>7458665050828492054</td>\n",
       "      <td>2</td>\n",
       "    </tr>\n",
       "    <tr>\n",
       "      <th>2</th>\n",
       "      <td>18-control</td>\n",
       "      <td>4900000</td>\n",
       "      <td>324700</td>\n",
       "      <td>967</td>\n",
       "      <td>260</td>\n",
       "      <td>20200</td>\n",
       "      <td>0</td>\n",
       "      <td>-23.9</td>\n",
       "      <td>119</td>\n",
       "      <td>7425531431735985198</td>\n",
       "      <td>user7291424162817</td>\n",
       "      <td></td>\n",
       "      <td>user7291424162817</td>\n",
       "      <td>original sound</td>\n",
       "      <td>7451878052642016031</td>\n",
       "      <td>user7291424162817</td>\n",
       "      <td>Unknown Album</td>\n",
       "      <td>movie_tiktokmovies_movieclips_clip_movieshowsc...</td>\n",
       "      <td>7451878163384110366</td>\n",
       "      <td>3</td>\n",
       "    </tr>\n",
       "    <tr>\n",
       "      <th>3</th>\n",
       "      <td>18-control</td>\n",
       "      <td>584300</td>\n",
       "      <td>25700</td>\n",
       "      <td>155</td>\n",
       "      <td>201</td>\n",
       "      <td>2923</td>\n",
       "      <td>0</td>\n",
       "      <td>-8.7</td>\n",
       "      <td>131</td>\n",
       "      <td>7319790687351882795</td>\n",
       "      <td>Jay rose</td>\n",
       "      <td></td>\n",
       "      <td>jayrose044</td>\n",
       "      <td>AeuEA</td>\n",
       "      <td>7433574331416529706</td>\n",
       "      <td>Jay rose</td>\n",
       "      <td>Unknown Album</td>\n",
       "      <td>satisfyin_fyp_storytime_foryou_viral_tiktok_tr...</td>\n",
       "      <td>7433574400735104302</td>\n",
       "      <td>4</td>\n",
       "    </tr>\n",
       "    <tr>\n",
       "      <th>4</th>\n",
       "      <td>18-control</td>\n",
       "      <td>2300000</td>\n",
       "      <td>258600</td>\n",
       "      <td>4980</td>\n",
       "      <td>1021</td>\n",
       "      <td>30800</td>\n",
       "      <td>0</td>\n",
       "      <td>-11.9</td>\n",
       "      <td>83</td>\n",
       "      <td>6982084681585394693</td>\n",
       "      <td>UniversalCore</td>\n",
       "      <td>(ua Mental health matters ua)           \\nTrus...</td>\n",
       "      <td>universalcore____</td>\n",
       "      <td>Closer</td>\n",
       "      <td>7309864547584968706</td>\n",
       "      <td>Nuages</td>\n",
       "      <td>Closer</td>\n",
       "      <td>corecore_sadcore_hopecore_coretok_core_mentalh...</td>\n",
       "      <td>7443535065801379115</td>\n",
       "      <td>5</td>\n",
       "    </tr>\n",
       "    <tr>\n",
       "      <th>...</th>\n",
       "      <td>...</td>\n",
       "      <td>...</td>\n",
       "      <td>...</td>\n",
       "      <td>...</td>\n",
       "      <td>...</td>\n",
       "      <td>...</td>\n",
       "      <td>...</td>\n",
       "      <td>...</td>\n",
       "      <td>...</td>\n",
       "      <td>...</td>\n",
       "      <td>...</td>\n",
       "      <td>...</td>\n",
       "      <td>...</td>\n",
       "      <td>...</td>\n",
       "      <td>...</td>\n",
       "      <td>...</td>\n",
       "      <td>...</td>\n",
       "      <td>...</td>\n",
       "      <td>...</td>\n",
       "      <td>...</td>\n",
       "    </tr>\n",
       "    <tr>\n",
       "      <th>18877</th>\n",
       "      <td>42-experiment</td>\n",
       "      <td>1900000</td>\n",
       "      <td>377000</td>\n",
       "      <td>9905</td>\n",
       "      <td>2172</td>\n",
       "      <td>54100</td>\n",
       "      <td>0</td>\n",
       "      <td>-21.8</td>\n",
       "      <td>132</td>\n",
       "      <td>6676293103072658437</td>\n",
       "      <td>Brady LXIX</td>\n",
       "      <td>IG/FB:BRADYLXIX \\nother account:bradylxix2\\nME...</td>\n",
       "      <td>bradylxix</td>\n",
       "      <td>original sound</td>\n",
       "      <td>7461417766466243370</td>\n",
       "      <td>Brady LXIX</td>\n",
       "      <td>Unknown Album</td>\n",
       "      <td>bradylxix</td>\n",
       "      <td>7461417768965950763</td>\n",
       "      <td>1066</td>\n",
       "    </tr>\n",
       "    <tr>\n",
       "      <th>18878</th>\n",
       "      <td>42-experiment</td>\n",
       "      <td>1200000</td>\n",
       "      <td>80300</td>\n",
       "      <td>2216</td>\n",
       "      <td>673</td>\n",
       "      <td>33100</td>\n",
       "      <td>0</td>\n",
       "      <td>-13.8</td>\n",
       "      <td>35</td>\n",
       "      <td>6793632786105713666</td>\n",
       "      <td>CAPCUT TEMPLATE TRENDS</td>\n",
       "      <td>uiMUSIC PROMOTION DMui\\n\\nCREDITS TO THE OWNER...</td>\n",
       "      <td>capcut_templatetrends</td>\n",
       "      <td>AURA</td>\n",
       "      <td>7387573619378046993</td>\n",
       "      <td>Ogryzek</td>\n",
       "      <td>AURA</td>\n",
       "      <td>capcut_capcutpioneer_capcut_edit_fyp_trend_for...</td>\n",
       "      <td>7447105323816602898</td>\n",
       "      <td>1067</td>\n",
       "    </tr>\n",
       "    <tr>\n",
       "      <th>18879</th>\n",
       "      <td>42-experiment</td>\n",
       "      <td>3800000</td>\n",
       "      <td>493000</td>\n",
       "      <td>13500</td>\n",
       "      <td>3063</td>\n",
       "      <td>104800</td>\n",
       "      <td>0</td>\n",
       "      <td>-6.7</td>\n",
       "      <td>62</td>\n",
       "      <td>7250349443498066990</td>\n",
       "      <td>vidz</td>\n",
       "      <td>Trying to influence a bigger audience uoOe\\nI ...</td>\n",
       "      <td>vidztoker</td>\n",
       "      <td>original sound</td>\n",
       "      <td>7451284899840953130</td>\n",
       "      <td>vidz</td>\n",
       "      <td>Unknown Album</td>\n",
       "      <td>foryou_fyp_edit</td>\n",
       "      <td>7451284883516771630</td>\n",
       "      <td>1068</td>\n",
       "    </tr>\n",
       "    <tr>\n",
       "      <th>18880</th>\n",
       "      <td>42-experiment</td>\n",
       "      <td>1500000</td>\n",
       "      <td>94100</td>\n",
       "      <td>10100</td>\n",
       "      <td>14000</td>\n",
       "      <td>16400</td>\n",
       "      <td>0</td>\n",
       "      <td>-9.3</td>\n",
       "      <td>61</td>\n",
       "      <td>6936022572887360517</td>\n",
       "      <td>hydgjgf</td>\n",
       "      <td></td>\n",
       "      <td>hydgjgf</td>\n",
       "      <td>original sound</td>\n",
       "      <td>7445855150561905414</td>\n",
       "      <td>hydgjgf</td>\n",
       "      <td>Unknown Album</td>\n",
       "      <td>fyp_fypC_story_satisfyingvideo_comedyvideo_mar...</td>\n",
       "      <td>7445855110065818885</td>\n",
       "      <td>1069</td>\n",
       "    </tr>\n",
       "    <tr>\n",
       "      <th>18881</th>\n",
       "      <td>42-experiment</td>\n",
       "      <td>1900000</td>\n",
       "      <td>161100</td>\n",
       "      <td>22100</td>\n",
       "      <td>532</td>\n",
       "      <td>23900</td>\n",
       "      <td>0</td>\n",
       "      <td>-21</td>\n",
       "      <td>63</td>\n",
       "      <td>7412570664597783594</td>\n",
       "      <td>petlovers024</td>\n",
       "      <td>Total hilarious pranks</td>\n",
       "      <td>petlovers024</td>\n",
       "      <td>original sound</td>\n",
       "      <td>7451208725953661738</td>\n",
       "      <td>petlovers024</td>\n",
       "      <td>Unknown Album</td>\n",
       "      <td>funnyvideo_funnymoments_pet_cat_catsoftiktok_f...</td>\n",
       "      <td>7451208800062868782</td>\n",
       "      <td>1070</td>\n",
       "    </tr>\n",
       "  </tbody>\n",
       "</table>\n",
       "<p>18882 rows × 20 columns</p>\n",
       "</div>"
      ],
      "text/plain": [
       "             user_id  play_count  digg_count  share_count  comment_count  \\\n",
       "0         18-control    47400000     3000000        25600          31900   \n",
       "1         18-control     6600000     1400000        78100           1928   \n",
       "2         18-control     4900000      324700          967            260   \n",
       "3         18-control      584300       25700          155            201   \n",
       "4         18-control     2300000      258600         4980           1021   \n",
       "...              ...         ...         ...          ...            ...   \n",
       "18877  42-experiment     1900000      377000         9905           2172   \n",
       "18878  42-experiment     1200000       80300         2216            673   \n",
       "18879  42-experiment     3800000      493000        13500           3063   \n",
       "18880  42-experiment     1500000       94100        10100          14000   \n",
       "18881  42-experiment     1900000      161100        22100            532   \n",
       "\n",
       "       collect_count  repost_count loudness duration            author_id  \\\n",
       "0              75200             0    -20.6      268  6980785150019781637   \n",
       "1             146500             0      -14       71  7329520300319540257   \n",
       "2              20200             0    -23.9      119  7425531431735985198   \n",
       "3               2923             0     -8.7      131  7319790687351882795   \n",
       "4              30800             0    -11.9       83  6982084681585394693   \n",
       "...              ...           ...      ...      ...                  ...   \n",
       "18877          54100             0    -21.8      132  6676293103072658437   \n",
       "18878          33100             0    -13.8       35  6793632786105713666   \n",
       "18879         104800             0     -6.7       62  7250349443498066990   \n",
       "18880          16400             0     -9.3       61  6936022572887360517   \n",
       "18881          23900             0      -21       63  7412570664597783594   \n",
       "\n",
       "                  author_name  \\\n",
       "0                   SB Mowing   \n",
       "1             Scare Prank USA   \n",
       "2           user7291424162817   \n",
       "3                    Jay rose   \n",
       "4               UniversalCore   \n",
       "...                       ...   \n",
       "18877              Brady LXIX   \n",
       "18878  CAPCUT TEMPLATE TRENDS   \n",
       "18879                    vidz   \n",
       "18880                 hydgjgf   \n",
       "18881            petlovers024   \n",
       "\n",
       "                                              author_bio  \\\n",
       "0      Please keep up with me on Snapchat or YouTube ...   \n",
       "1                                       ueafollow me uea   \n",
       "2                                                          \n",
       "3                                                          \n",
       "4      (ua Mental health matters ua)           \\nTrus...   \n",
       "...                                                  ...   \n",
       "18877  IG/FB:BRADYLXIX \\nother account:bradylxix2\\nME...   \n",
       "18878  uiMUSIC PROMOTION DMui\\n\\nCREDITS TO THE OWNER...   \n",
       "18879  Trying to influence a bigger audience uoOe\\nI ...   \n",
       "18880                                                      \n",
       "18881                             Total hilarious pranks   \n",
       "\n",
       "                    nickname                  music_name             music_id  \\\n",
       "0                   sbmowing  original sound - SB Mowing  7463305390462094126   \n",
       "1            scareprankusa54              original sound  7458665057581288214   \n",
       "2          user7291424162817              original sound  7451878052642016031   \n",
       "3                 jayrose044                       AeuEA  7433574331416529706   \n",
       "4          universalcore____                      Closer  7309864547584968706   \n",
       "...                      ...                         ...                  ...   \n",
       "18877              bradylxix              original sound  7461417766466243370   \n",
       "18878  capcut_templatetrends                        AURA  7387573619378046993   \n",
       "18879              vidztoker              original sound  7451284899840953130   \n",
       "18880                hydgjgf              original sound  7445855150561905414   \n",
       "18881           petlovers024              original sound  7451208725953661738   \n",
       "\n",
       "            music_author    music_album  \\\n",
       "0              SB Mowing  Unknown Album   \n",
       "1        Scare Prank USA  Unknown Album   \n",
       "2      user7291424162817  Unknown Album   \n",
       "3               Jay rose  Unknown Album   \n",
       "4                 Nuages         Closer   \n",
       "...                  ...            ...   \n",
       "18877         Brady LXIX  Unknown Album   \n",
       "18878            Ogryzek           AURA   \n",
       "18879               vidz  Unknown Album   \n",
       "18880            hydgjgf  Unknown Album   \n",
       "18881       petlovers024  Unknown Album   \n",
       "\n",
       "                                                hashtags             video_id  \\\n",
       "0                                                         7463304946616651050   \n",
       "1      scarecam_scareprank_funnyprank_scaring_jumpy_v...  7458665050828492054   \n",
       "2      movie_tiktokmovies_movieclips_clip_movieshowsc...  7451878163384110366   \n",
       "3      satisfyin_fyp_storytime_foryou_viral_tiktok_tr...  7433574400735104302   \n",
       "4      corecore_sadcore_hopecore_coretok_core_mentalh...  7443535065801379115   \n",
       "...                                                  ...                  ...   \n",
       "18877                                          bradylxix  7461417768965950763   \n",
       "18878  capcut_capcutpioneer_capcut_edit_fyp_trend_for...  7447105323816602898   \n",
       "18879                                    foryou_fyp_edit  7451284883516771630   \n",
       "18880  fyp_fypC_story_satisfyingvideo_comedyvideo_mar...  7445855110065818885   \n",
       "18881  funnyvideo_funnymoments_pet_cat_catsoftiktok_f...  7451208800062868782   \n",
       "\n",
       "       run_number  \n",
       "0               1  \n",
       "1               2  \n",
       "2               3  \n",
       "3               4  \n",
       "4               5  \n",
       "...           ...  \n",
       "18877        1066  \n",
       "18878        1067  \n",
       "18879        1068  \n",
       "18880        1069  \n",
       "18881        1070  \n",
       "\n",
       "[18882 rows x 20 columns]"
      ]
     },
     "execution_count": 6,
     "metadata": {},
     "output_type": "execute_result"
    }
   ],
   "source": [
    "data_combined = load_data_into_df(scenarios)\n",
    "data_combined"
   ]
  },
  {
   "cell_type": "markdown",
   "metadata": {},
   "source": [
    "`analyze_nicknames_for_scenario`\n",
    "\n",
    "1. Aligning experiment/control group video counts for **direct comparison**\n",
    "2. Tracking target nickname appearances across:\n",
    "   - Chronological video sequences (using `run_number`)\n",
    "   - Both experimental and control groups\n",
    "3. Generating **time-series data** for:\n",
    "   - Per-video nickname occurrences\n",
    "   - Maximum comparable observation window"
   ]
  },
  {
   "cell_type": "code",
   "execution_count": 7,
   "metadata": {},
   "outputs": [],
   "source": [
    "def analyze_nicknames_for_scenario(data_combined, target_nicknames, scenario):\n",
    "    # Create a timeline analysis for both groups\n",
    "    experiment_data = data_combined[data_combined['user_id'].str.contains(f'{scenario}-experiment')]\n",
    "    control_data = data_combined[data_combined['user_id'].str.contains(f'{scenario}-control')]\n",
    "\n",
    "    # Sort both datasets\n",
    "    experiment_data = experiment_data.sort_values('run_number')\n",
    "    control_data = control_data.sort_values('run_number')\n",
    "\n",
    "    # Find the minimum number of videos between control and experimental groups\n",
    "    max_videos = min(experiment_data['run_number'].max(), control_data['run_number'].max())\n",
    "\n",
    "    # Limit analysis to the minimum number of videos\n",
    "    experiment_data = experiment_data[experiment_data['run_number'] <= max_videos]\n",
    "    control_data = control_data[control_data['run_number'] <= max_videos]\n",
    "\n",
    "    # Calculate presence of target nicknames over time for both groups\n",
    "    def count_target_nicknames(nickname):\n",
    "        return 1 if nickname in target_nicknames else 0\n",
    "\n",
    "    experiment_data['target_nickname_count'] = experiment_data['nickname'].apply(count_target_nicknames)\n",
    "    control_data['target_nickname_count'] = control_data['nickname'].apply(count_target_nicknames)\n",
    "\n",
    "    return experiment_data, control_data, max_videos"
   ]
  },
  {
   "cell_type": "markdown",
   "metadata": {},
   "source": [
    "`plot_nickname_trends`\n",
    "\n",
    "1. Creating **comparisons** between control/experiment groups using:\n",
    "   - 250-video buckets\n",
    "2. Calculating **three key metrics**:\n",
    "   - Overall group averages\n",
    "   - First/last bucket comparisons\n",
    "   - Per-scenario temporal patterns\n"
   ]
  },
  {
   "cell_type": "code",
   "execution_count": 8,
   "metadata": {},
   "outputs": [],
   "source": [
    "def plot_nickname_trends(scenarios_data, target_nicknames):\n",
    "    bucket_size = 250  # Size of buckets for averaging\n",
    "\n",
    "    # Plot bucket averages across all scenarios\n",
    "    fig2 = go.Figure()\n",
    "\n",
    "    all_exp_means = []\n",
    "    all_ctrl_means = []\n",
    "    all_exp_first_bucket = []\n",
    "    all_exp_last_bucket = []\n",
    "    all_ctrl_first_bucket = []\n",
    "    all_ctrl_last_bucket = []\n",
    "\n",
    "    for scenario, (exp_data, ctrl_data, _) in scenarios_data.items():\n",
    "        exp_bucket_means = []\n",
    "        ctrl_bucket_means = []\n",
    "        \n",
    "        # Calculate bucket averages for experimental group\n",
    "        for i in range(0, len(exp_data), bucket_size):\n",
    "            bucket = exp_data.iloc[i:i+bucket_size]\n",
    "            if len(bucket) >= bucket_size * 0.75:  # Only include if bucket is at least 75% full\n",
    "                bucket_mean = bucket['target_nickname_count'].mean()\n",
    "                exp_bucket_means.append({\n",
    "                    'mean': bucket_mean,\n",
    "                    'run': bucket['run_number'].mean()\n",
    "                })\n",
    "                all_exp_means.append(bucket_mean)\n",
    "                \n",
    "                if i == 0:\n",
    "                    all_exp_first_bucket.append(bucket_mean)\n",
    "                if i + bucket_size >= len(exp_data) - bucket_size:\n",
    "                    all_exp_last_bucket.append(bucket_mean)\n",
    "\n",
    "                print(f\"\\nExperimental Group Scenario {scenario} Bucket {i//bucket_size + 1}:\")\n",
    "                print(f\"Average: {bucket_mean:.2f}\")\n",
    "\n",
    "        # Calculate bucket averages for control group\n",
    "        for i in range(0, len(ctrl_data), bucket_size):\n",
    "            bucket = ctrl_data.iloc[i:i+bucket_size]\n",
    "            if len(bucket) >= bucket_size * 0.75:\n",
    "                bucket_mean = bucket['target_nickname_count'].mean()\n",
    "                ctrl_bucket_means.append({\n",
    "                    'mean': bucket_mean,\n",
    "                    'run': bucket['run_number'].mean()\n",
    "                })\n",
    "                all_ctrl_means.append(bucket_mean)\n",
    "                \n",
    "                if i == 0:\n",
    "                    all_ctrl_first_bucket.append(bucket_mean)\n",
    "                if i + bucket_size >= len(ctrl_data) - bucket_size:\n",
    "                    all_ctrl_last_bucket.append(bucket_mean)\n",
    "\n",
    "                print(f\"\\nControl Group Scenario {scenario} Bucket {i//bucket_size + 1}:\")\n",
    "                print(f\"Average: {bucket_mean:.2f}\")\n",
    "\n",
    "        # Convert to DataFrames and plot if we have data\n",
    "        if exp_bucket_means and ctrl_bucket_means:\n",
    "            exp_buckets_df = pd.DataFrame(exp_bucket_means)\n",
    "            ctrl_buckets_df = pd.DataFrame(ctrl_bucket_means)\n",
    "\n",
    "            # Add experimental bucket averages\n",
    "            fig2.add_trace(go.Scatter(\n",
    "                x=exp_buckets_df['run'],\n",
    "                y=exp_buckets_df['mean'],\n",
    "                mode='lines+markers',\n",
    "                name=f'Experimental {scenario}',\n",
    "                line=dict(color='blue', width=2)\n",
    "            ))\n",
    "            \n",
    "            # Add control bucket averages\n",
    "            fig2.add_trace(go.Scatter(\n",
    "                x=ctrl_buckets_df['run'],\n",
    "                y=ctrl_buckets_df['mean'],\n",
    "                mode='lines+markers',\n",
    "                name=f'Control {scenario}',\n",
    "                line=dict(color='red', width=2)\n",
    "            ))\n",
    "\n",
    "    fig2.update_layout(\n",
    "        title=f'Average Target Nicknames per {bucket_size}-Video Bucket',\n",
    "        xaxis_title='Average Run Number in Bucket',\n",
    "        yaxis_title='Average Number of Target Nicknames',\n",
    "        showlegend=True,\n",
    "        template='plotly_white'\n",
    "    )\n",
    "    \n",
    "    fig2.show()\n",
    "\n",
    "    # Calculate and print the required averages\n",
    "    all_exp_total = []\n",
    "    all_ctrl_total = []\n",
    "    \n",
    "    for scenario, (exp_data, ctrl_data, _) in scenarios_data.items():\n",
    "        all_exp_total.extend(exp_data['target_nickname_count'])\n",
    "        all_ctrl_total.extend(ctrl_data['target_nickname_count'])\n",
    "\n",
    "    print(\"\\nOverall Averages Across All Scenarios:\")\n",
    "    if len(all_exp_total) > 0:\n",
    "        print(f\"Overall experimental group average: {sum(all_exp_total)/len(all_exp_total):.2f}\")\n",
    "    if len(all_ctrl_total) > 0:\n",
    "        print(f\"Overall control group average: {sum(all_ctrl_total)/len(all_ctrl_total):.2f}\")\n",
    "    \n",
    "    print(\"\\nFirst Bucket Averages Across All Scenarios:\")\n",
    "    if len(all_exp_first_bucket) > 0:\n",
    "        print(f\"Experimental group first bucket average: {sum(all_exp_first_bucket)/len(all_exp_first_bucket):.2f}\")\n",
    "    if len(all_ctrl_first_bucket) > 0:\n",
    "        print(f\"Control group first bucket average: {sum(all_ctrl_first_bucket)/len(all_ctrl_first_bucket):.2f}\")\n",
    "    \n",
    "    print(\"\\nLast Bucket Averages Across All Scenarios:\")\n",
    "    if len(all_exp_last_bucket) > 0:\n",
    "        print(f\"Experimental group last bucket average: {sum(all_exp_last_bucket)/len(all_exp_last_bucket):.2f}\")\n",
    "    if len(all_ctrl_last_bucket) > 0:\n",
    "        print(f\"Control group last bucket average: {sum(all_ctrl_last_bucket)/len(all_ctrl_last_bucket):.2f}\")"
   ]
  },
  {
   "cell_type": "code",
   "execution_count": 9,
   "metadata": {},
   "outputs": [
    {
     "name": "stdout",
     "output_type": "stream",
     "text": [
      "\n",
      "Experimental Group Scenario 23 Bucket 1:\n",
      "Average: 0.10\n",
      "\n",
      "Experimental Group Scenario 23 Bucket 2:\n",
      "Average: 0.03\n",
      "\n",
      "Experimental Group Scenario 23 Bucket 3:\n",
      "Average: 0.03\n",
      "\n",
      "Experimental Group Scenario 23 Bucket 4:\n",
      "Average: 0.05\n",
      "\n",
      "Control Group Scenario 23 Bucket 1:\n",
      "Average: 0.05\n",
      "\n",
      "Control Group Scenario 23 Bucket 2:\n",
      "Average: 0.00\n",
      "\n",
      "Control Group Scenario 23 Bucket 3:\n",
      "Average: 0.03\n",
      "\n",
      "Control Group Scenario 23 Bucket 4:\n",
      "Average: 0.01\n",
      "\n",
      "Experimental Group Scenario 24 Bucket 1:\n",
      "Average: 0.04\n",
      "\n",
      "Experimental Group Scenario 24 Bucket 2:\n",
      "Average: 0.02\n",
      "\n",
      "Experimental Group Scenario 24 Bucket 3:\n",
      "Average: 0.01\n",
      "\n",
      "Experimental Group Scenario 24 Bucket 4:\n",
      "Average: 0.04\n",
      "\n",
      "Control Group Scenario 24 Bucket 1:\n",
      "Average: 0.05\n",
      "\n",
      "Control Group Scenario 24 Bucket 2:\n",
      "Average: 0.02\n",
      "\n",
      "Control Group Scenario 24 Bucket 3:\n",
      "Average: 0.02\n",
      "\n",
      "Control Group Scenario 24 Bucket 4:\n",
      "Average: 0.03\n"
     ]
    },
    {
     "data": {
      "application/vnd.plotly.v1+json": {
       "config": {
        "plotlyServerURL": "https://plot.ly"
       },
       "data": [
        {
         "line": {
          "color": "blue",
          "width": 2
         },
         "mode": "lines+markers",
         "name": "Experimental 23",
         "type": "scatter",
         "x": [
          125.5,
          375.5,
          625.5,
          875.5
         ],
         "y": [
          0.096,
          0.032,
          0.028,
          0.052
         ]
        },
        {
         "line": {
          "color": "red",
          "width": 2
         },
         "mode": "lines+markers",
         "name": "Control 23",
         "type": "scatter",
         "x": [
          125.5,
          375.5,
          625.5,
          875.5
         ],
         "y": [
          0.052,
          0,
          0.032,
          0.008
         ]
        },
        {
         "line": {
          "color": "blue",
          "width": 2
         },
         "mode": "lines+markers",
         "name": "Experimental 24",
         "type": "scatter",
         "x": [
          125.5,
          375.5,
          625.5,
          875.5
         ],
         "y": [
          0.036,
          0.02,
          0.008,
          0.044
         ]
        },
        {
         "line": {
          "color": "red",
          "width": 2
         },
         "mode": "lines+markers",
         "name": "Control 24",
         "type": "scatter",
         "x": [
          125.5,
          375.5,
          625.5,
          875.5
         ],
         "y": [
          0.052,
          0.024,
          0.02,
          0.028
         ]
        }
       ],
       "layout": {
        "showlegend": true,
        "template": {
         "data": {
          "bar": [
           {
            "error_x": {
             "color": "#2a3f5f"
            },
            "error_y": {
             "color": "#2a3f5f"
            },
            "marker": {
             "line": {
              "color": "white",
              "width": 0.5
             },
             "pattern": {
              "fillmode": "overlay",
              "size": 10,
              "solidity": 0.2
             }
            },
            "type": "bar"
           }
          ],
          "barpolar": [
           {
            "marker": {
             "line": {
              "color": "white",
              "width": 0.5
             },
             "pattern": {
              "fillmode": "overlay",
              "size": 10,
              "solidity": 0.2
             }
            },
            "type": "barpolar"
           }
          ],
          "carpet": [
           {
            "aaxis": {
             "endlinecolor": "#2a3f5f",
             "gridcolor": "#C8D4E3",
             "linecolor": "#C8D4E3",
             "minorgridcolor": "#C8D4E3",
             "startlinecolor": "#2a3f5f"
            },
            "baxis": {
             "endlinecolor": "#2a3f5f",
             "gridcolor": "#C8D4E3",
             "linecolor": "#C8D4E3",
             "minorgridcolor": "#C8D4E3",
             "startlinecolor": "#2a3f5f"
            },
            "type": "carpet"
           }
          ],
          "choropleth": [
           {
            "colorbar": {
             "outlinewidth": 0,
             "ticks": ""
            },
            "type": "choropleth"
           }
          ],
          "contour": [
           {
            "colorbar": {
             "outlinewidth": 0,
             "ticks": ""
            },
            "colorscale": [
             [
              0,
              "#0d0887"
             ],
             [
              0.1111111111111111,
              "#46039f"
             ],
             [
              0.2222222222222222,
              "#7201a8"
             ],
             [
              0.3333333333333333,
              "#9c179e"
             ],
             [
              0.4444444444444444,
              "#bd3786"
             ],
             [
              0.5555555555555556,
              "#d8576b"
             ],
             [
              0.6666666666666666,
              "#ed7953"
             ],
             [
              0.7777777777777778,
              "#fb9f3a"
             ],
             [
              0.8888888888888888,
              "#fdca26"
             ],
             [
              1,
              "#f0f921"
             ]
            ],
            "type": "contour"
           }
          ],
          "contourcarpet": [
           {
            "colorbar": {
             "outlinewidth": 0,
             "ticks": ""
            },
            "type": "contourcarpet"
           }
          ],
          "heatmap": [
           {
            "colorbar": {
             "outlinewidth": 0,
             "ticks": ""
            },
            "colorscale": [
             [
              0,
              "#0d0887"
             ],
             [
              0.1111111111111111,
              "#46039f"
             ],
             [
              0.2222222222222222,
              "#7201a8"
             ],
             [
              0.3333333333333333,
              "#9c179e"
             ],
             [
              0.4444444444444444,
              "#bd3786"
             ],
             [
              0.5555555555555556,
              "#d8576b"
             ],
             [
              0.6666666666666666,
              "#ed7953"
             ],
             [
              0.7777777777777778,
              "#fb9f3a"
             ],
             [
              0.8888888888888888,
              "#fdca26"
             ],
             [
              1,
              "#f0f921"
             ]
            ],
            "type": "heatmap"
           }
          ],
          "heatmapgl": [
           {
            "colorbar": {
             "outlinewidth": 0,
             "ticks": ""
            },
            "colorscale": [
             [
              0,
              "#0d0887"
             ],
             [
              0.1111111111111111,
              "#46039f"
             ],
             [
              0.2222222222222222,
              "#7201a8"
             ],
             [
              0.3333333333333333,
              "#9c179e"
             ],
             [
              0.4444444444444444,
              "#bd3786"
             ],
             [
              0.5555555555555556,
              "#d8576b"
             ],
             [
              0.6666666666666666,
              "#ed7953"
             ],
             [
              0.7777777777777778,
              "#fb9f3a"
             ],
             [
              0.8888888888888888,
              "#fdca26"
             ],
             [
              1,
              "#f0f921"
             ]
            ],
            "type": "heatmapgl"
           }
          ],
          "histogram": [
           {
            "marker": {
             "pattern": {
              "fillmode": "overlay",
              "size": 10,
              "solidity": 0.2
             }
            },
            "type": "histogram"
           }
          ],
          "histogram2d": [
           {
            "colorbar": {
             "outlinewidth": 0,
             "ticks": ""
            },
            "colorscale": [
             [
              0,
              "#0d0887"
             ],
             [
              0.1111111111111111,
              "#46039f"
             ],
             [
              0.2222222222222222,
              "#7201a8"
             ],
             [
              0.3333333333333333,
              "#9c179e"
             ],
             [
              0.4444444444444444,
              "#bd3786"
             ],
             [
              0.5555555555555556,
              "#d8576b"
             ],
             [
              0.6666666666666666,
              "#ed7953"
             ],
             [
              0.7777777777777778,
              "#fb9f3a"
             ],
             [
              0.8888888888888888,
              "#fdca26"
             ],
             [
              1,
              "#f0f921"
             ]
            ],
            "type": "histogram2d"
           }
          ],
          "histogram2dcontour": [
           {
            "colorbar": {
             "outlinewidth": 0,
             "ticks": ""
            },
            "colorscale": [
             [
              0,
              "#0d0887"
             ],
             [
              0.1111111111111111,
              "#46039f"
             ],
             [
              0.2222222222222222,
              "#7201a8"
             ],
             [
              0.3333333333333333,
              "#9c179e"
             ],
             [
              0.4444444444444444,
              "#bd3786"
             ],
             [
              0.5555555555555556,
              "#d8576b"
             ],
             [
              0.6666666666666666,
              "#ed7953"
             ],
             [
              0.7777777777777778,
              "#fb9f3a"
             ],
             [
              0.8888888888888888,
              "#fdca26"
             ],
             [
              1,
              "#f0f921"
             ]
            ],
            "type": "histogram2dcontour"
           }
          ],
          "mesh3d": [
           {
            "colorbar": {
             "outlinewidth": 0,
             "ticks": ""
            },
            "type": "mesh3d"
           }
          ],
          "parcoords": [
           {
            "line": {
             "colorbar": {
              "outlinewidth": 0,
              "ticks": ""
             }
            },
            "type": "parcoords"
           }
          ],
          "pie": [
           {
            "automargin": true,
            "type": "pie"
           }
          ],
          "scatter": [
           {
            "fillpattern": {
             "fillmode": "overlay",
             "size": 10,
             "solidity": 0.2
            },
            "type": "scatter"
           }
          ],
          "scatter3d": [
           {
            "line": {
             "colorbar": {
              "outlinewidth": 0,
              "ticks": ""
             }
            },
            "marker": {
             "colorbar": {
              "outlinewidth": 0,
              "ticks": ""
             }
            },
            "type": "scatter3d"
           }
          ],
          "scattercarpet": [
           {
            "marker": {
             "colorbar": {
              "outlinewidth": 0,
              "ticks": ""
             }
            },
            "type": "scattercarpet"
           }
          ],
          "scattergeo": [
           {
            "marker": {
             "colorbar": {
              "outlinewidth": 0,
              "ticks": ""
             }
            },
            "type": "scattergeo"
           }
          ],
          "scattergl": [
           {
            "marker": {
             "colorbar": {
              "outlinewidth": 0,
              "ticks": ""
             }
            },
            "type": "scattergl"
           }
          ],
          "scattermapbox": [
           {
            "marker": {
             "colorbar": {
              "outlinewidth": 0,
              "ticks": ""
             }
            },
            "type": "scattermapbox"
           }
          ],
          "scatterpolar": [
           {
            "marker": {
             "colorbar": {
              "outlinewidth": 0,
              "ticks": ""
             }
            },
            "type": "scatterpolar"
           }
          ],
          "scatterpolargl": [
           {
            "marker": {
             "colorbar": {
              "outlinewidth": 0,
              "ticks": ""
             }
            },
            "type": "scatterpolargl"
           }
          ],
          "scatterternary": [
           {
            "marker": {
             "colorbar": {
              "outlinewidth": 0,
              "ticks": ""
             }
            },
            "type": "scatterternary"
           }
          ],
          "surface": [
           {
            "colorbar": {
             "outlinewidth": 0,
             "ticks": ""
            },
            "colorscale": [
             [
              0,
              "#0d0887"
             ],
             [
              0.1111111111111111,
              "#46039f"
             ],
             [
              0.2222222222222222,
              "#7201a8"
             ],
             [
              0.3333333333333333,
              "#9c179e"
             ],
             [
              0.4444444444444444,
              "#bd3786"
             ],
             [
              0.5555555555555556,
              "#d8576b"
             ],
             [
              0.6666666666666666,
              "#ed7953"
             ],
             [
              0.7777777777777778,
              "#fb9f3a"
             ],
             [
              0.8888888888888888,
              "#fdca26"
             ],
             [
              1,
              "#f0f921"
             ]
            ],
            "type": "surface"
           }
          ],
          "table": [
           {
            "cells": {
             "fill": {
              "color": "#EBF0F8"
             },
             "line": {
              "color": "white"
             }
            },
            "header": {
             "fill": {
              "color": "#C8D4E3"
             },
             "line": {
              "color": "white"
             }
            },
            "type": "table"
           }
          ]
         },
         "layout": {
          "annotationdefaults": {
           "arrowcolor": "#2a3f5f",
           "arrowhead": 0,
           "arrowwidth": 1
          },
          "autotypenumbers": "strict",
          "coloraxis": {
           "colorbar": {
            "outlinewidth": 0,
            "ticks": ""
           }
          },
          "colorscale": {
           "diverging": [
            [
             0,
             "#8e0152"
            ],
            [
             0.1,
             "#c51b7d"
            ],
            [
             0.2,
             "#de77ae"
            ],
            [
             0.3,
             "#f1b6da"
            ],
            [
             0.4,
             "#fde0ef"
            ],
            [
             0.5,
             "#f7f7f7"
            ],
            [
             0.6,
             "#e6f5d0"
            ],
            [
             0.7,
             "#b8e186"
            ],
            [
             0.8,
             "#7fbc41"
            ],
            [
             0.9,
             "#4d9221"
            ],
            [
             1,
             "#276419"
            ]
           ],
           "sequential": [
            [
             0,
             "#0d0887"
            ],
            [
             0.1111111111111111,
             "#46039f"
            ],
            [
             0.2222222222222222,
             "#7201a8"
            ],
            [
             0.3333333333333333,
             "#9c179e"
            ],
            [
             0.4444444444444444,
             "#bd3786"
            ],
            [
             0.5555555555555556,
             "#d8576b"
            ],
            [
             0.6666666666666666,
             "#ed7953"
            ],
            [
             0.7777777777777778,
             "#fb9f3a"
            ],
            [
             0.8888888888888888,
             "#fdca26"
            ],
            [
             1,
             "#f0f921"
            ]
           ],
           "sequentialminus": [
            [
             0,
             "#0d0887"
            ],
            [
             0.1111111111111111,
             "#46039f"
            ],
            [
             0.2222222222222222,
             "#7201a8"
            ],
            [
             0.3333333333333333,
             "#9c179e"
            ],
            [
             0.4444444444444444,
             "#bd3786"
            ],
            [
             0.5555555555555556,
             "#d8576b"
            ],
            [
             0.6666666666666666,
             "#ed7953"
            ],
            [
             0.7777777777777778,
             "#fb9f3a"
            ],
            [
             0.8888888888888888,
             "#fdca26"
            ],
            [
             1,
             "#f0f921"
            ]
           ]
          },
          "colorway": [
           "#636efa",
           "#EF553B",
           "#00cc96",
           "#ab63fa",
           "#FFA15A",
           "#19d3f3",
           "#FF6692",
           "#B6E880",
           "#FF97FF",
           "#FECB52"
          ],
          "font": {
           "color": "#2a3f5f"
          },
          "geo": {
           "bgcolor": "white",
           "lakecolor": "white",
           "landcolor": "white",
           "showlakes": true,
           "showland": true,
           "subunitcolor": "#C8D4E3"
          },
          "hoverlabel": {
           "align": "left"
          },
          "hovermode": "closest",
          "mapbox": {
           "style": "light"
          },
          "paper_bgcolor": "white",
          "plot_bgcolor": "white",
          "polar": {
           "angularaxis": {
            "gridcolor": "#EBF0F8",
            "linecolor": "#EBF0F8",
            "ticks": ""
           },
           "bgcolor": "white",
           "radialaxis": {
            "gridcolor": "#EBF0F8",
            "linecolor": "#EBF0F8",
            "ticks": ""
           }
          },
          "scene": {
           "xaxis": {
            "backgroundcolor": "white",
            "gridcolor": "#DFE8F3",
            "gridwidth": 2,
            "linecolor": "#EBF0F8",
            "showbackground": true,
            "ticks": "",
            "zerolinecolor": "#EBF0F8"
           },
           "yaxis": {
            "backgroundcolor": "white",
            "gridcolor": "#DFE8F3",
            "gridwidth": 2,
            "linecolor": "#EBF0F8",
            "showbackground": true,
            "ticks": "",
            "zerolinecolor": "#EBF0F8"
           },
           "zaxis": {
            "backgroundcolor": "white",
            "gridcolor": "#DFE8F3",
            "gridwidth": 2,
            "linecolor": "#EBF0F8",
            "showbackground": true,
            "ticks": "",
            "zerolinecolor": "#EBF0F8"
           }
          },
          "shapedefaults": {
           "line": {
            "color": "#2a3f5f"
           }
          },
          "ternary": {
           "aaxis": {
            "gridcolor": "#DFE8F3",
            "linecolor": "#A2B1C6",
            "ticks": ""
           },
           "baxis": {
            "gridcolor": "#DFE8F3",
            "linecolor": "#A2B1C6",
            "ticks": ""
           },
           "bgcolor": "white",
           "caxis": {
            "gridcolor": "#DFE8F3",
            "linecolor": "#A2B1C6",
            "ticks": ""
           }
          },
          "title": {
           "x": 0.05
          },
          "xaxis": {
           "automargin": true,
           "gridcolor": "#EBF0F8",
           "linecolor": "#EBF0F8",
           "ticks": "",
           "title": {
            "standoff": 15
           },
           "zerolinecolor": "#EBF0F8",
           "zerolinewidth": 2
          },
          "yaxis": {
           "automargin": true,
           "gridcolor": "#EBF0F8",
           "linecolor": "#EBF0F8",
           "ticks": "",
           "title": {
            "standoff": 15
           },
           "zerolinecolor": "#EBF0F8",
           "zerolinewidth": 2
          }
         }
        },
        "title": {
         "text": "Average Target Nicknames per 250-Video Bucket"
        },
        "xaxis": {
         "title": {
          "text": "Average Run Number in Bucket"
         }
        },
        "yaxis": {
         "title": {
          "text": "Average Number of Target Nicknames"
         }
        }
       }
      }
     },
     "metadata": {},
     "output_type": "display_data"
    },
    {
     "name": "stdout",
     "output_type": "stream",
     "text": [
      "\n",
      "Overall Averages Across All Scenarios:\n",
      "Overall experimental group average: 0.04\n",
      "Overall control group average: 0.03\n",
      "\n",
      "First Bucket Averages Across All Scenarios:\n",
      "Experimental group first bucket average: 0.07\n",
      "Control group first bucket average: 0.05\n",
      "\n",
      "Last Bucket Averages Across All Scenarios:\n",
      "Experimental group last bucket average: 0.05\n",
      "Control group last bucket average: 0.02\n"
     ]
    }
   ],
   "source": [
    "# Analyze data for each scenario\n",
    "scenarios = ['23','24']\n",
    "scenarios_data = {}\n",
    "\n",
    "for scenario in scenarios:\n",
    "    exp_data, ctrl_data, max_videos = analyze_nicknames_for_scenario(data_combined, target_nicknames, scenario)\n",
    "    scenarios_data[scenario] = (exp_data, ctrl_data, max_videos)\n",
    "\n",
    "# Plot trends and print statistics\n",
    "plot_nickname_trends(scenarios_data, target_nicknames)"
   ]
  }
 ],
 "metadata": {
  "kernelspec": {
   "display_name": "mic",
   "language": "python",
   "name": "python3"
  },
  "language_info": {
   "codemirror_mode": {
    "name": "ipython",
    "version": 3
   },
   "file_extension": ".py",
   "mimetype": "text/x-python",
   "name": "python",
   "nbconvert_exporter": "python",
   "pygments_lexer": "ipython3",
   "version": "3.12.5"
  }
 },
 "nbformat": 4,
 "nbformat_minor": 2
}
